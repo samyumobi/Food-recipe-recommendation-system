{
  "nbformat": 4,
  "nbformat_minor": 0,
  "metadata": {
    "accelerator": "TPU",
    "colab": {
      "name": "recipe_generation_rnn.ipynb",
      "provenance": [],
      "collapsed_sections": [],
      "include_colab_link": true
    },
    "kernelspec": {
      "display_name": "Python 3",
      "language": "python",
      "name": "python3"
    },
    "language_info": {
      "codemirror_mode": {
        "name": "ipython",
        "version": 3
      },
      "file_extension": ".py",
      "mimetype": "text/x-python",
      "name": "python",
      "nbconvert_exporter": "python",
      "pygments_lexer": "ipython3",
      "version": "3.7.6"
    }
  },
  "cells": [
    {
      "cell_type": "markdown",
      "metadata": {
        "id": "view-in-github",
        "colab_type": "text"
      },
      "source": [
        "<a href=\"https://colab.research.google.com/github/samyumobi/Food-recipe-recommendation-system/blob/main/recipe_generation_rnn.ipynb\" target=\"_parent\"><img src=\"https://colab.research.google.com/assets/colab-badge.svg\" alt=\"Open In Colab\"/></a>"
      ]
    },
    {
      "cell_type": "markdown",
      "metadata": {
        "id": "RXmkmYf6zn_u"
      },
      "source": [
        "# Recipe Generation using Recurrent Neural Network (RNN) [link text](https://www.kdnuggets.com/2020/07/generating-cooking-recipes-using-tensorflow.html)\n",
        "\n",
        "\n",
        "\n"
      ]
    },
    {
      "cell_type": "markdown",
      "metadata": {
        "id": "94dQZx62zn_v"
      },
      "source": [
        "## Importing dependencies"
      ]
    },
    {
      "cell_type": "code",
      "metadata": {
        "colab": {
          "base_uri": "https://localhost:8080/"
        },
        "id": "aSXRhOp1zn_v",
        "outputId": "222732b5-f408-401d-c78b-3a958d374d06"
      },
      "source": [
        "import tensorflow as tf\n",
        "import matplotlib.pyplot as plt\n",
        "import numpy as np\n",
        "import platform\n",
        "import time\n",
        "import pathlib\n",
        "import os\n",
        "import json\n",
        "import zipfile\n",
        "\n",
        "# from google.colab import files\n",
        "\n",
        "print('Python version:', platform.python_version())\n",
        "print('Tensorflow version:', tf.__version__)\n",
        "print('Keras version:', tf.keras.__version__)"
      ],
      "execution_count": 1,
      "outputs": [
        {
          "output_type": "stream",
          "text": [
            "Python version: 3.7.11\n",
            "Tensorflow version: 2.5.0\n",
            "Keras version: 2.5.0\n"
          ],
          "name": "stdout"
        }
      ]
    },
    {
      "cell_type": "markdown",
      "metadata": {
        "id": "xRuJU_duzn_1"
      },
      "source": [
        "## Exploring datasets\n",
        "\n",
        "Let's go through several available dataset and explore their pros and cons. One of the requirement I want the dataset to meet is that it should have not only a list of ingredients but also a cooking instructions. I also want it to have a measures and quantities of each ingredient.\n",
        "\n",
        "- 🤷 [Recipe Ingredients Dataset](https://www.kaggle.com/kaggle/recipe-ingredients-dataset/home) _(doesn't have ingredients proportions)_\n",
        "- 🤷 [Recipe1M+](http://pic2recipe.csail.mit.edu/) _(requires registration to download)_\n",
        "- 🤷 [Epicurious - Recipes with Rating and Nutrition](https://www.kaggle.com/hugodarwood/epirecipes?select=full_format_recipes.json) _(~20k recipes only, it would be nice to find more)_\n",
        "- 👍🏻 [**Recipe box**](https://eightportions.com/datasets/Recipes/) _(~125,000 recipes with ingredients proportions, good)_"
      ]
    },
    {
      "cell_type": "markdown",
      "metadata": {
        "id": "AeWNECYszn_1"
      },
      "source": [
        "## Loading the dataset"
      ]
    },
    {
      "cell_type": "markdown",
      "metadata": {
        "id": "k95TFL0O6zmw"
      },
      "source": [
        "Let's load the dataset using [tf.keras.utils.get_file](https://www.tensorflow.org/api_docs/python/tf/keras/utils/get_file). Using `get_file()` utility is convenient because it handles caching for you out of the box. It means that you will download the dataset files only once and then even if you launch the same code block once again it will use cache and the download code will be executed faster."
      ]
    },
    {
      "cell_type": "code",
      "metadata": {
        "id": "7ahpGfPXKcoh"
      },
      "source": [
        "DEBUG = False\n",
        "DEBUG_EXAMPLES = 10"
      ],
      "execution_count": 2,
      "outputs": []
    },
    {
      "cell_type": "code",
      "metadata": {
        "id": "csOAhA7gzn_2"
      },
      "source": [
        "# Create cache folder.\n",
        "cache_dir = './tmp'\n",
        "pathlib.Path(cache_dir).mkdir(exist_ok=True)"
      ],
      "execution_count": 3,
      "outputs": []
    },
    {
      "cell_type": "code",
      "metadata": {
        "colab": {
          "base_uri": "https://localhost:8080/"
        },
        "id": "IcF4OJL6zn_4",
        "outputId": "be469c66-e0c4-4d29-9b98-97e7211cd82e"
      },
      "source": [
        "# Download and unpack the dataset.\n",
        "# dataset : Recipe box google api \n",
        "# https://serpapi.com/recipes-results\n",
        "dataset_file_name = 'recipes_raw.zip'\n",
        "dataset_file_origin = 'https://storage.googleapis.com/recipe-box/recipes_raw.zip'\n",
        "\n",
        "dataset_file_path = tf.keras.utils.get_file(\n",
        "    fname=dataset_file_name,\n",
        "    origin=dataset_file_origin,\n",
        "    cache_dir=cache_dir,\n",
        "    extract=True,\n",
        "    archive_format='zip'\n",
        ")\n",
        "\n",
        "print(dataset_file_path)"
      ],
      "execution_count": 4,
      "outputs": [
        {
          "output_type": "stream",
          "text": [
            "Downloading data from https://storage.googleapis.com/recipe-box/recipes_raw.zip\n",
            "53362688/53355492 [==============================] - 0s 0us/step\n",
            "./tmp/datasets/recipes_raw.zip\n"
          ],
          "name": "stdout"
        }
      ]
    },
    {
      "cell_type": "markdown",
      "metadata": {
        "id": "p8aQBX-A6zmw"
      },
      "source": [
        "As you may see, the dataset consists of 3 files. We need to merge information from those 3 files into one dataset later."
      ]
    },
    {
      "cell_type": "code",
      "metadata": {
        "colab": {
          "base_uri": "https://localhost:8080/"
        },
        "id": "cwNvb-BAzn_7",
        "outputId": "91082ae1-a063-42ee-cab1-d18c83c2a6cf"
      },
      "source": [
        "!ls -la ./tmp/datasets/\n",
        "#Checking what exactly has been downloaded"
      ],
      "execution_count": 5,
      "outputs": [
        {
          "output_type": "stream",
          "text": [
            "total 251968\n",
            "drwxr-xr-x 2 root root     4096 Aug 10 08:36 .\n",
            "drwxr-xr-x 3 root root     4096 Aug 10 08:36 ..\n",
            "-rw-r--r-- 1 root root    20437 Aug 10 08:36 LICENSE\n",
            "-rw-r--r-- 1 root root 49784325 Aug 10 08:36 recipes_raw_nosource_ar.json\n",
            "-rw-r--r-- 1 root root 61133971 Aug 10 08:36 recipes_raw_nosource_epi.json\n",
            "-rw-r--r-- 1 root root 93702755 Aug 10 08:36 recipes_raw_nosource_fn.json\n",
            "-rw-r--r-- 1 root root 53355492 Aug 10 08:36 recipes_raw.zip\n"
          ],
          "name": "stdout"
        }
      ]
    },
    {
      "cell_type": "code",
      "metadata": {
        "id": "TvD1n4vzzn_-"
      },
      "source": [
        "#Load the json of the dataset 3 files to see what is in it\n",
        "#merge 3 files into a dataset using load_dataset fn\n",
        "def load_dataset(silent=False):\n",
        "    dataset_file_names = [\n",
        "        'recipes_raw_nosource_ar.json',\n",
        "        'recipes_raw_nosource_epi.json',\n",
        "        'recipes_raw_nosource_fn.json',\n",
        "    ]\n",
        "    \n",
        "    dataset = []\n",
        "\n",
        "    for dataset_file_name in dataset_file_names:\n",
        "        dataset_file_path = f'{cache_dir}/datasets/{dataset_file_name}'\n",
        "\n",
        "        with open(dataset_file_path) as dataset_file:\n",
        "            json_data_dict = json.load(dataset_file)\n",
        "            json_data_list = list(json_data_dict.values())\n",
        "            dict_keys = [key for key in json_data_list[0]]\n",
        "            dict_keys.sort()\n",
        "            dataset += json_data_list\n",
        "\n",
        "            if silent == False:\n",
        "                print(dataset_file_path)\n",
        "                print('===========================================')\n",
        "                print('Number of examples: ', len(json_data_list), '\\n')\n",
        "                print('Example object keys:\\n', dict_keys, '\\n')\n",
        "                print('Example object:\\n', json_data_list[0], '\\n')\n",
        "                print('Required keys:\\n')\n",
        "                print('  title: ', json_data_list[0]['title'], '\\n')\n",
        "                print('  ingredients: ', json_data_list[0]['ingredients'], '\\n')\n",
        "                print('  instructions: ', json_data_list[0]['instructions'])\n",
        "                print('\\n\\n')\n",
        "\n",
        "    return dataset  \n",
        "\n"
      ],
      "execution_count": 6,
      "outputs": []
    },
    {
      "cell_type": "markdown",
      "metadata": {
        "id": "3KwPK_mW6zmw"
      },
      "source": [
        "Let's download a datasets and preview examples from them."
      ]
    },
    {
      "cell_type": "code",
      "metadata": {
        "colab": {
          "base_uri": "https://localhost:8080/"
        },
        "id": "sFyy_tRDzoAA",
        "outputId": "a6f6b975-58b2-4684-8e80-fb038e368c93"
      },
      "source": [
        "dataset_raw = load_dataset()  "
      ],
      "execution_count": 7,
      "outputs": [
        {
          "output_type": "stream",
          "text": [
            "./tmp/datasets/recipes_raw_nosource_ar.json\n",
            "===========================================\n",
            "Number of examples:  39802 \n",
            "\n",
            "Example object keys:\n",
            " ['ingredients', 'instructions', 'picture_link', 'title'] \n",
            "\n",
            "Example object:\n",
            " {'title': 'Slow Cooker Chicken and Dumplings', 'ingredients': ['4 skinless, boneless chicken breast halves ADVERTISEMENT', '2 tablespoons butter ADVERTISEMENT', '2 (10.75 ounce) cans condensed cream of chicken soup ADVERTISEMENT', '1 onion, finely diced ADVERTISEMENT', '2 (10 ounce) packages refrigerated biscuit dough, torn into pieces ADVERTISEMENT', 'ADVERTISEMENT'], 'instructions': 'Place the chicken, butter, soup, and onion in a slow cooker, and fill with enough water to cover.\\nCover, and cook for 5 to 6 hours on High. About 30 minutes before serving, place the torn biscuit dough in the slow cooker. Cook until the dough is no longer raw in the center.\\n', 'picture_link': '55lznCYBbs2mT8BTx6BTkLhynGHzM.S'} \n",
            "\n",
            "Required keys:\n",
            "\n",
            "  title:  Slow Cooker Chicken and Dumplings \n",
            "\n",
            "  ingredients:  ['4 skinless, boneless chicken breast halves ADVERTISEMENT', '2 tablespoons butter ADVERTISEMENT', '2 (10.75 ounce) cans condensed cream of chicken soup ADVERTISEMENT', '1 onion, finely diced ADVERTISEMENT', '2 (10 ounce) packages refrigerated biscuit dough, torn into pieces ADVERTISEMENT', 'ADVERTISEMENT'] \n",
            "\n",
            "  instructions:  Place the chicken, butter, soup, and onion in a slow cooker, and fill with enough water to cover.\n",
            "Cover, and cook for 5 to 6 hours on High. About 30 minutes before serving, place the torn biscuit dough in the slow cooker. Cook until the dough is no longer raw in the center.\n",
            "\n",
            "\n",
            "\n",
            "\n",
            "./tmp/datasets/recipes_raw_nosource_epi.json\n",
            "===========================================\n",
            "Number of examples:  25323 \n",
            "\n",
            "Example object keys:\n",
            " ['ingredients', 'instructions', 'picture_link', 'title'] \n",
            "\n",
            "Example object:\n",
            " {'ingredients': ['12 egg whites', '12 egg yolks', '1 1/2 cups sugar', '3/4 cup rye whiskey', '12 egg whites', '3/4 cup brandy', '1/2 cup rum', '1 to 2 cups heavy cream, lightly whipped', 'Garnish: ground nutmeg'], 'picture_link': None, 'instructions': 'Beat the egg whites until stiff, gradually adding in 3/4 cup sugar. Set aside. Beat the egg yolks until they are thick and pale and add the other 3/4 cup sugar and stir in rye whiskey. Blend well. Fold the egg white mixture into the yolk mixture and add the brandy and the rum. Beat the mixture well. To serve, fold the lightly whipped heavy cream into the eggnog. (If a thinner mixture is desired, add the heavy cream unwhipped.) Sprinkle the top of the eggnog with the nutmeg to taste.\\nBeat the egg whites until stiff, gradually adding in 3/4 cup sugar. Set aside. Beat the egg yolks until they are thick and pale and add the other 3/4 cup sugar and stir in rye whiskey. Blend well. Fold the egg white mixture into the yolk mixture and add the brandy and the rum. Beat the mixture well. To serve, fold the lightly whipped heavy cream into the eggnog. (If a thinner mixture is desired, add the heavy cream unwhipped.) Sprinkle the top of the eggnog with the nutmeg to taste.', 'title': 'Christmas Eggnog '} \n",
            "\n",
            "Required keys:\n",
            "\n",
            "  title:  Christmas Eggnog  \n",
            "\n",
            "  ingredients:  ['12 egg whites', '12 egg yolks', '1 1/2 cups sugar', '3/4 cup rye whiskey', '12 egg whites', '3/4 cup brandy', '1/2 cup rum', '1 to 2 cups heavy cream, lightly whipped', 'Garnish: ground nutmeg'] \n",
            "\n",
            "  instructions:  Beat the egg whites until stiff, gradually adding in 3/4 cup sugar. Set aside. Beat the egg yolks until they are thick and pale and add the other 3/4 cup sugar and stir in rye whiskey. Blend well. Fold the egg white mixture into the yolk mixture and add the brandy and the rum. Beat the mixture well. To serve, fold the lightly whipped heavy cream into the eggnog. (If a thinner mixture is desired, add the heavy cream unwhipped.) Sprinkle the top of the eggnog with the nutmeg to taste.\n",
            "Beat the egg whites until stiff, gradually adding in 3/4 cup sugar. Set aside. Beat the egg yolks until they are thick and pale and add the other 3/4 cup sugar and stir in rye whiskey. Blend well. Fold the egg white mixture into the yolk mixture and add the brandy and the rum. Beat the mixture well. To serve, fold the lightly whipped heavy cream into the eggnog. (If a thinner mixture is desired, add the heavy cream unwhipped.) Sprinkle the top of the eggnog with the nutmeg to taste.\n",
            "\n",
            "\n",
            "\n",
            "./tmp/datasets/recipes_raw_nosource_fn.json\n",
            "===========================================\n",
            "Number of examples:  60039 \n",
            "\n",
            "Example object keys:\n",
            " ['ingredients', 'instructions', 'picture_link', 'title'] \n",
            "\n",
            "Example object:\n",
            " {'instructions': 'Toss ingredients lightly and spoon into a buttered baking dish. Top with additional crushed cracker crumbs, and brush with melted butter. Bake in a preheated at 350 degrees oven for 25 to 30 minutes or until delicately browned.', 'ingredients': ['1/2 cup celery, finely chopped', '1 small green pepper finely chopped', '1/2 cup finely sliced green onions', '1/4 cup chopped parsley', '1 pound crabmeat', '1 1/4 cups coarsely crushed cracker crumbs', '1/2 teaspoon salt', '3/4 teaspoons dry mustard', 'Dash hot sauce', '1/4 cup heavy cream', '1/2 cup melted butter'], 'title': \"Grammie Hamblet's Deviled Crab\", 'picture_link': None} \n",
            "\n",
            "Required keys:\n",
            "\n",
            "  title:  Grammie Hamblet's Deviled Crab \n",
            "\n",
            "  ingredients:  ['1/2 cup celery, finely chopped', '1 small green pepper finely chopped', '1/2 cup finely sliced green onions', '1/4 cup chopped parsley', '1 pound crabmeat', '1 1/4 cups coarsely crushed cracker crumbs', '1/2 teaspoon salt', '3/4 teaspoons dry mustard', 'Dash hot sauce', '1/4 cup heavy cream', '1/2 cup melted butter'] \n",
            "\n",
            "  instructions:  Toss ingredients lightly and spoon into a buttered baking dish. Top with additional crushed cracker crumbs, and brush with melted butter. Bake in a preheated at 350 degrees oven for 25 to 30 minutes or until delicately browned.\n",
            "\n",
            "\n",
            "\n"
          ],
          "name": "stdout"
        }
      ]
    },
    {
      "cell_type": "code",
      "metadata": {
        "colab": {
          "base_uri": "https://localhost:8080/"
        },
        "id": "k33eFMSszoAD",
        "outputId": "f45dab23-48e5-4afa-d1f2-7e5e6438db43"
      },
      "source": [
        "print('Total number of raw examples: ', len(dataset_raw))\n",
        "\n",
        "#total merged recipes"
      ],
      "execution_count": 8,
      "outputs": [
        {
          "output_type": "stream",
          "text": [
            "Total number of raw examples:  125164\n"
          ],
          "name": "stdout"
        }
      ]
    },
    {
      "cell_type": "markdown",
      "metadata": {
        "id": "bADjU5RFzoAG"
      },
      "source": [
        "## Preprocessing the dataset"
      ]
    },
    {
      "cell_type": "markdown",
      "metadata": {
        "id": "2lbyio6J4iyh"
      },
      "source": [
        "### Filtering out incomplete examples"
      ]
    },
    {
      "cell_type": "code",
      "metadata": {
        "id": "fCAT0GXBzoAJ"
      },
      "source": [
        "# Filters out recipes which don't have either title or ingredients or instructions.\n",
        "def recipe_validate_required_fields(recipe):\n",
        "    required_keys = ['title', 'ingredients', 'instructions']\n",
        "    \n",
        "    if not recipe:\n",
        "        return False\n",
        "    \n",
        "    for required_key in required_keys:\n",
        "        if not recipe[required_key]:\n",
        "            return False\n",
        "        \n",
        "        if type(recipe[required_key]) == list and len(recipe[required_key]) == 0:\n",
        "            return False\n",
        "    \n",
        "    return True"
      ],
      "execution_count": 9,
      "outputs": []
    },
    {
      "cell_type": "code",
      "metadata": {
        "colab": {
          "base_uri": "https://localhost:8080/"
        },
        "id": "DoQ7_isjzoAP",
        "outputId": "237642b3-1213-44b6-9497-7914bbf62de2"
      },
      "source": [
        "dataset_validated = [recipe for recipe in dataset_raw if recipe_validate_required_fields(recipe)]\n",
        "\n",
        "print('Dataset size BEFORE validation', len(dataset_raw))\n",
        "print('Dataset size AFTER validation', len(dataset_validated))\n",
        "print('Number of invalide recipes', len(dataset_raw) - len(dataset_validated))"
      ],
      "execution_count": 10,
      "outputs": [
        {
          "output_type": "stream",
          "text": [
            "Dataset size BEFORE validation 125164\n",
            "Dataset size AFTER validation 122938\n",
            "Number of invalide recipes 2226\n"
          ],
          "name": "stdout"
        }
      ]
    },
    {
      "cell_type": "markdown",
      "metadata": {
        "id": "VtIobQaKzoAG"
      },
      "source": [
        "### Converting recipes objects into strings"
      ]
    },
    {
      "cell_type": "markdown",
      "metadata": {
        "id": "L8Lw9_Ag6zmw"
      },
      "source": [
        "To help our RNN learn the structure of the text let's add 3 \"landmarks\" to it. We will use these unique \"title\", \"ingredients\" and \"instruction\" landmarks to separate a logic sections of each recipe."
      ]
    },
    {
      "cell_type": "code",
      "metadata": {
        "id": "U9jp2srl_R_Q"
      },
      "source": [
        "STOP_WORD_TITLE = '📗 '\n",
        "STOP_WORD_INGREDIENTS = '\\n🥕\\n\\n'\n",
        "STOP_WORD_INSTRUCTIONS = '\\n📝\\n\\n'"
      ],
      "execution_count": 11,
      "outputs": []
    },
    {
      "cell_type": "code",
      "metadata": {
        "id": "PWzarwn7zoAM"
      },
      "source": [
        "# Converts recipe object to string (sequence of characters) for later usage in RNN input.\n",
        "def recipe_to_string(recipe):\n",
        "    # This string is presented as a part of recipes so we need to clean it up.\n",
        "    noize_string = 'ADVERTISEMENT'\n",
        "    \n",
        "    title = recipe['title']\n",
        "    ingredients = recipe['ingredients']\n",
        "    instructions = recipe['instructions'].split('\\n')\n",
        "    \n",
        "    ingredients_string = ''\n",
        "    for ingredient in ingredients:\n",
        "        ingredient = ingredient.replace(noize_string, '')\n",
        "        if ingredient:\n",
        "            ingredients_string += f'• {ingredient}\\n'\n",
        "    \n",
        "    instructions_string = ''\n",
        "    for instruction in instructions:\n",
        "        instruction = instruction.replace(noize_string, '')\n",
        "        if instruction:\n",
        "            instructions_string += f'▪︎ {instruction}\\n'\n",
        "    \n",
        "    return f'{STOP_WORD_TITLE}{title}\\n{STOP_WORD_INGREDIENTS}{ingredients_string}{STOP_WORD_INSTRUCTIONS}{instructions_string}'"
      ],
      "execution_count": 12,
      "outputs": []
    },
    {
      "cell_type": "code",
      "metadata": {
        "colab": {
          "base_uri": "https://localhost:8080/"
        },
        "id": "WQvmIJxtzoAT",
        "outputId": "3691d6a9-7dfa-4217-faa3-3064f35c6030"
      },
      "source": [
        "dataset_stringified = [recipe_to_string(recipe) for recipe in dataset_validated]\n",
        "\n",
        "print('Stringified dataset size: ', len(dataset_stringified))"
      ],
      "execution_count": 13,
      "outputs": [
        {
          "output_type": "stream",
          "text": [
            "Stringified dataset size:  122938\n"
          ],
          "name": "stdout"
        }
      ]
    },
    {
      "cell_type": "code",
      "metadata": {
        "colab": {
          "base_uri": "https://localhost:8080/"
        },
        "id": "7u9Ggok4zoAW",
        "outputId": "776e6b1e-904c-4eef-d7f6-84e189744e1e"
      },
      "source": [
        "for recipe_index, recipe_string in enumerate(dataset_stringified[:10]):\n",
        "    print('Recipe #{}\\n---------'.format(recipe_index + 1))\n",
        "    print(recipe_string)\n",
        "    print('\\n')"
      ],
      "execution_count": 14,
      "outputs": [
        {
          "output_type": "stream",
          "text": [
            "Recipe #1\n",
            "---------\n",
            "📗 Slow Cooker Chicken and Dumplings\n",
            "\n",
            "🥕\n",
            "\n",
            "• 4 skinless, boneless chicken breast halves \n",
            "• 2 tablespoons butter \n",
            "• 2 (10.75 ounce) cans condensed cream of chicken soup \n",
            "• 1 onion, finely diced \n",
            "• 2 (10 ounce) packages refrigerated biscuit dough, torn into pieces \n",
            "\n",
            "📝\n",
            "\n",
            "▪︎ Place the chicken, butter, soup, and onion in a slow cooker, and fill with enough water to cover.\n",
            "▪︎ Cover, and cook for 5 to 6 hours on High. About 30 minutes before serving, place the torn biscuit dough in the slow cooker. Cook until the dough is no longer raw in the center.\n",
            "\n",
            "\n",
            "\n",
            "Recipe #2\n",
            "---------\n",
            "📗 Awesome Slow Cooker Pot Roast\n",
            "\n",
            "🥕\n",
            "\n",
            "• 2 (10.75 ounce) cans condensed cream of mushroom soup \n",
            "• 1 (1 ounce) package dry onion soup mix \n",
            "• 1 1/4 cups water \n",
            "• 5 1/2 pounds pot roast \n",
            "\n",
            "📝\n",
            "\n",
            "▪︎ In a slow cooker, mix cream of mushroom soup, dry onion soup mix and water. Place pot roast in slow cooker and coat with soup mixture.\n",
            "▪︎ Cook on High setting for 3 to 4 hours, or on Low setting for 8 to 9 hours.\n",
            "\n",
            "\n",
            "\n",
            "Recipe #3\n",
            "---------\n",
            "📗 Brown Sugar Meatloaf\n",
            "\n",
            "🥕\n",
            "\n",
            "• 1/2 cup packed brown sugar \n",
            "• 1/2 cup ketchup \n",
            "• 1 1/2 pounds lean ground beef \n",
            "• 3/4 cup milk \n",
            "• 2 eggs \n",
            "• 1 1/2 teaspoons salt \n",
            "• 1/4 teaspoon ground black pepper \n",
            "• 1 small onion, chopped \n",
            "• 1/4 teaspoon ground ginger \n",
            "• 3/4 cup finely crushed saltine cracker crumbs \n",
            "\n",
            "📝\n",
            "\n",
            "▪︎ Preheat oven to 350 degrees F (175 degrees C). Lightly grease a 5x9 inch loaf pan.\n",
            "▪︎ Press the brown sugar in the bottom of the prepared loaf pan and spread the ketchup over the sugar.\n",
            "▪︎ In a mixing bowl, mix thoroughly all remaining ingredients and shape into a loaf. Place on top of the ketchup.\n",
            "▪︎ Bake in preheated oven for 1 hour or until juices are clear.\n",
            "\n",
            "\n",
            "\n",
            "Recipe #4\n",
            "---------\n",
            "📗 Best Chocolate Chip Cookies\n",
            "\n",
            "🥕\n",
            "\n",
            "• 1 cup butter, softened \n",
            "• 1 cup white sugar \n",
            "• 1 cup packed brown sugar \n",
            "• 2 eggs \n",
            "• 2 teaspoons vanilla extract \n",
            "• 3 cups all-purpose flour \n",
            "• 1 teaspoon baking soda \n",
            "• 2 teaspoons hot water \n",
            "• 1/2 teaspoon salt \n",
            "• 2 cups semisweet chocolate chips \n",
            "• 1 cup chopped walnuts \n",
            "\n",
            "📝\n",
            "\n",
            "▪︎ Preheat oven to 350 degrees F (175 degrees C).\n",
            "▪︎ Cream together the butter, white sugar, and brown sugar until smooth. Beat in the eggs one at a time, then stir in the vanilla. Dissolve baking soda in hot water. Add to batter along with salt. Stir in flour, chocolate chips, and nuts. Drop by large spoonfuls onto ungreased pans.\n",
            "▪︎ Bake for about 10 minutes in the preheated oven, or until edges are nicely browned.\n",
            "\n",
            "\n",
            "\n",
            "Recipe #5\n",
            "---------\n",
            "📗 Homemade Mac and Cheese Casserole\n",
            "\n",
            "🥕\n",
            "\n",
            "• 8 ounces whole wheat rotini pasta \n",
            "• 3 cups fresh broccoli florets \n",
            "• 1 medium onion, chopped \n",
            "• 3 cloves garlic, minced \n",
            "• 4 tablespoons butter, divided \n",
            "• 2 tablespoons all-purpose flour \n",
            "• 1/4 teaspoon salt \n",
            "• 1/8 teaspoon ground black pepper \n",
            "• 2 1/2 cups milk \n",
            "• 8 ounces Cheddar cheese, shredded \n",
            "• 4 ounces reduced-fat cream cheese, cubed and softened \n",
            "• 1/2 cup fine dry Italian-seasoned bread crumbs \n",
            "• Reynolds Wrap® Non Stick Aluminum Foil \n",
            "\n",
            "📝\n",
            "\n",
            "▪︎ Preheat oven to 350 degrees F. Line a 2-quart casserole dish with Reynolds Wrap(R) Pan Lining Paper, parchment side up. No need to grease dish.\n",
            "▪︎ Cook the pasta in a large saucepan according to the package directions, adding the broccoli for the last 3 minutes of cooking. Drain. Return to the saucepan and set aside.\n",
            "▪︎ Cook the onion and garlic in 2 tablespoons hot butter in a large skillet 5 to 7 minutes or until tender. Stir in flour, salt, and black pepper. Add the milk all at once. Cook and stir over medium heat until slightly thickened and bubbly. Add cheddar cheese and cream cheese, stirring until melted. Pour cheese sauce over the pasta and broccoli and stir until well combined.\n",
            "▪︎ Melt the remaining 2 tablespoons butter and mix with the bread crumbs in a small bowl. Transfer the pasta mixture to the prepared casserole dish. Top with the buttery bread crumbs.\n",
            "▪︎ Bake, uncovered, about 25 minutes or until bubbly and internal temperature is 165 degrees F. Let stand for 10 minutes before serving.\n",
            "\n",
            "\n",
            "\n",
            "Recipe #6\n",
            "---------\n",
            "📗 Banana Banana Bread\n",
            "\n",
            "🥕\n",
            "\n",
            "• 2 cups all-purpose flour \n",
            "• 1 teaspoon baking soda \n",
            "• 1/4 teaspoon salt \n",
            "• 1/2 cup butter \n",
            "• 3/4 cup brown sugar \n",
            "• 2 eggs, beaten \n",
            "• 2 1/3 cups mashed overripe bananas \n",
            "\n",
            "📝\n",
            "\n",
            "▪︎ Preheat oven to 350 degrees F (175 degrees C). Lightly grease a 9x5 inch loaf pan.\n",
            "▪︎ In a large bowl, combine flour, baking soda and salt. In a separate bowl, cream together butter and brown sugar. Stir in eggs and mashed bananas until well blended. Stir banana mixture into flour mixture; stir just to moisten. Pour batter into prepared loaf pan.\n",
            "▪︎ Bake in preheated oven for 60 to 65 minutes, until a toothpick inserted into center of the loaf comes out clean. Let bread cool in pan for 10 minutes, then turn out onto a wire rack.\n",
            "\n",
            "\n",
            "\n",
            "Recipe #7\n",
            "---------\n",
            "📗 Chef John's Fisherman's Pie\n",
            "\n",
            "🥕\n",
            "\n",
            "• For potato crust: \n",
            "• 3 russet potatoes, peeled and cut into chunks \n",
            "• 3 tablespoons butter \n",
            "• 1 pinch freshly grated nutmeg \n",
            "• salt and ground black pepper to taste \n",
            "• 1 pinch cayenne pepper, or to taste \n",
            "• 1/2 cup milk \n",
            "• For the spinach: \n",
            "• 2 teaspoons olive oil \n",
            "• 12 ounces baby spinach leaves \n",
            "• For the sauce: \n",
            "• 3 tablespoons butter \n",
            "• 3 tablespoons all-purpose flour \n",
            "• 2 cloves garlic, minced \n",
            "• 2 cups cold milk, divided \n",
            "• 2 teaspoons lemon zest \n",
            "• For the rest: \n",
            "• 1 tablespoon butter \n",
            "• salt and ground black pepper to taste \n",
            "• 1 pinch cayenne pepper, or to taste \n",
            "• 2 pounds boneless cod fillets \n",
            "• 1/2 lemon, juiced \n",
            "• 1 tablespoon chopped fresh chives for garnish \n",
            "\n",
            "📝\n",
            "\n",
            "▪︎ Bring a large saucepan of salted water and to a boil; add russet potatoes to boiling water and cook until very tender, about 20 minutes. Drain well. Mash in 3 tablespoons butter until thoroughly combined. Season with nutmeg, salt, black pepper, and cayenne pepper to taste. Mash 1/2 cup milk into potato mixture until smooth.\n",
            "▪︎ Drizzle olive oil in a large Dutch oven over medium-high heat, add spinach, and season with a big pinch of salt. Cook, stirring occasionally, until spinach has wilted, about 1 minute. Transfer to a bowl lined with paper towels to wick away excess moisture.\n",
            "▪︎ Heat 3 tablespoons butter and flour in a saucepan over medium heat; whisk mixture to a smooth paste. Cook, stirring constantly, until mixture has a nutty smell and is slightly browned, about 2 minutes. Add chopped garlic; whisk until fragrant, 10 to 20 seconds.\n",
            "▪︎ Whisk 1 cup cold milk into flour mixture; cook until thickened. Whisk in remaining 1 cup milk and lemon zest. Bring white sauce to a gentle simmer, whisking constantly; season with salt. Turn heat to very low and keep sauce warm.\n",
            "▪︎ Preheat oven to 375 degrees F (190 degrees C). Grease an 8x12-inch casserole dish with 1 tablespoon butter.\n",
            "▪︎ Season buttered pan with salt, black pepper, and cayenne pepper. Lay boneless cod fillets into the pan in a single layer. Season tops of fillets with more salt, black pepper, and cayenne pepper. Spread spinach evenly over fish and drizzle with lemon juice. Spoon white sauce over spinach; give casserole dish several taps and shakes to eliminate bubbles.\n",
            "▪︎ Drop mashed potatoes by heaping spoonfuls over the casserole and spread smoothly to cover. Place dish onto a rimmed baking sheet to catch spills.\n",
            "▪︎ Bake in the preheated oven until bubbling, about 40 minutes. Turn on oven's broiler and broil until potato crust has a golden brown top, about 2 minutes. Fish should flake easily. Let stand 10 minutes before serving. Garnish with a sprinkle of chives.\n",
            "\n",
            "\n",
            "\n",
            "Recipe #8\n",
            "---------\n",
            "📗 Mom's Zucchini Bread\n",
            "\n",
            "🥕\n",
            "\n",
            "• 3 cups all-purpose flour \n",
            "• 1 teaspoon salt \n",
            "• 1 teaspoon baking soda \n",
            "• 1 teaspoon baking powder \n",
            "• 1 tablespoon ground cinnamon \n",
            "• 3 eggs \n",
            "• 1 cup vegetable oil \n",
            "• 2 1/4 cups white sugar \n",
            "• 3 teaspoons vanilla extract \n",
            "• 2 cups grated zucchini \n",
            "• 1 cup chopped walnuts \n",
            "\n",
            "📝\n",
            "\n",
            "▪︎ Grease and flour two 8 x 4 inch pans. Preheat oven to 325 degrees F (165 degrees C).\n",
            "▪︎ Sift flour, salt, baking powder, soda, and cinnamon together in a bowl.\n",
            "▪︎ Beat eggs, oil, vanilla, and sugar together in a large bowl. Add sifted ingredients to the creamed mixture, and beat well. Stir in zucchini and nuts until well combined. Pour batter into prepared pans.\n",
            "▪︎ Bake for 40 to 60 minutes, or until tester inserted in the center comes out clean. Cool in pan on rack for 20 minutes. Remove bread from pan, and completely cool.\n",
            "\n",
            "\n",
            "\n",
            "Recipe #9\n",
            "---------\n",
            "📗 The Best Rolled Sugar Cookies\n",
            "\n",
            "🥕\n",
            "\n",
            "• 1 1/2 cups butter, softened \n",
            "• 2 cups white sugar \n",
            "• 4 eggs \n",
            "• 1 teaspoon vanilla extract \n",
            "• 5 cups all-purpose flour \n",
            "• 2 teaspoons baking powder \n",
            "• 1 teaspoon salt \n",
            "\n",
            "📝\n",
            "\n",
            "▪︎ In a large bowl, cream together butter and sugar until smooth. Beat in eggs and vanilla. Stir in the flour, baking powder, and salt. Cover, and chill dough for at least one hour (or overnight).\n",
            "▪︎ Preheat oven to 400 degrees F (200 degrees C). Roll out dough on floured surface 1/4 to 1/2 inch thick. Cut into shapes with any cookie cutter. Place cookies 1 inch apart on ungreased cookie sheets.\n",
            "▪︎ Bake 6 to 8 minutes in preheated oven. Cool completely.\n",
            "\n",
            "\n",
            "\n",
            "Recipe #10\n",
            "---------\n",
            "📗 Singapore Chili Crabs\n",
            "\n",
            "🥕\n",
            "\n",
            "• Sauce: \n",
            "• 1/2 cup ketchup \n",
            "• 1/2 cup chicken broth \n",
            "• 1 large egg \n",
            "• 2 tablespoons soy sauce \n",
            "• 2 tablespoons chile-garlic sauce (such as sambal oelek) \n",
            "• 1 tablespoon oyster sauce \n",
            "• 1 tablespoon tamarind paste \n",
            "• 2 teaspoons fish sauce \n",
            "• 2 teaspoons palm sugar \n",
            "• 1/4 cup minced shallot \n",
            "• 6 cloves garlic, minced \n",
            "• 2 tablespoons vegetable oil, or more as needed \n",
            "• 2 tablespoons minced fresh ginger root \n",
            "• 1 tablespoon minced serrano pepper \n",
            "• 2 cooked Dungeness crabs, cleaned and cracked \n",
            "• 2 tablespoons chopped fresh cilantro \n",
            "• 2 tablespoons sliced green onion (green part only) \n",
            "\n",
            "📝\n",
            "\n",
            "▪︎ Whisk ketchup, chicken broth, egg, soy sauce, chile-garlic sauce, oyster sauce, tamarind paste, fish sauce, and palm sugar together in a bowl.\n",
            "▪︎ Stir shallots, garlic, oil, ginger, and serrano pepper together in a pot over medium-high heat. Saute until sizzling, about 2 minutes. Add crab to pot, cover the pot with a lid, and shake until crab is completely coated in shallot mixture. Remove lid and cook and stir until heated through, about 3 minutes.\n",
            "▪︎ Pour ketchup mixture into pot, reduce heat to medium, and cook and stir until sauce thickens and crab is hot about 5 minutes. Remove from heat; stir in cilantro and green onions.\n",
            "\n",
            "\n",
            "\n"
          ],
          "name": "stdout"
        }
      ]
    },
    {
      "cell_type": "code",
      "metadata": {
        "colab": {
          "base_uri": "https://localhost:8080/"
        },
        "id": "mUr4F-HU8PLx",
        "outputId": "b8d8b25c-cfe6-4ed3-d2ba-57cd6b2f2d50"
      },
      "source": [
        "print(dataset_stringified[50000])"
      ],
      "execution_count": 15,
      "outputs": [
        {
          "output_type": "stream",
          "text": [
            "📗 Herbed Bean Ragoût \n",
            "\n",
            "🥕\n",
            "\n",
            "• 6 ounces haricots verts (French thin green beans), trimmed and halved crosswise\n",
            "• 1 (1-pound) bag frozen edamame (soybeans in the pod) or 1 1/4 cups frozen shelled edamame, not thawed\n",
            "• 2/3 cup finely chopped onion\n",
            "• 2 garlic cloves, minced\n",
            "• 1 Turkish bay leaf or 1/2 California bay leaf\n",
            "• 2 (3-inch) fresh rosemary sprigs\n",
            "• 1/2 teaspoon salt\n",
            "• 1/4 teaspoon black pepper\n",
            "• 1 tablespoon olive oil\n",
            "• 1 medium carrot, cut into 1/8-inch dice\n",
            "• 1 medium celery rib, cut into 1/8-inch dice\n",
            "• 1 (15- to 16-ounces) can small white beans, rinsed and drained\n",
            "• 1 1/2 cups chicken stock or low-sodium broth\n",
            "• 2 tablespoons unsalted butter\n",
            "• 2 tablespoons finely chopped fresh flat-leaf parsley\n",
            "• 1 tablespoon finely chopped fresh chervil (optional)\n",
            "• Garnish: fresh chervil sprigs\n",
            "\n",
            "📝\n",
            "\n",
            "▪︎ Cook haricots verts in a large pot of boiling salted water until just tender, 3 to 4 minutes. Transfer with a slotted spoon to a bowl of ice and cold water, then drain. Add edamame to boiling water and cook 4 minutes. Drain in a colander, then rinse under cold water. If using edamame in pods, shell them and discard pods. Cook onion, garlic, bay leaf, rosemary, salt, and pepper in oil in a 2- to 4-quart heavy saucepan over moderately low heat, stirring, until softened, about 3 minutes. Add carrot and celery and cook, stirring, until softened, about 3 minutes. Add white beans and stock and simmer, covered, stirring occasionally, 10 minutes. Add haricots verts and edamame and simmer, uncovered, until heated through, 2 to 3 minutes. Add butter, parsley, and chervil (if using) and stir gently until butter is melted. Discard bay leaf and rosemary sprigs.\n",
            "▪︎ Cook haricots verts in a large pot of boiling salted water until just tender, 3 to 4 minutes. Transfer with a slotted spoon to a bowl of ice and cold water, then drain.\n",
            "▪︎ Add edamame to boiling water and cook 4 minutes. Drain in a colander, then rinse under cold water. If using edamame in pods, shell them and discard pods.\n",
            "▪︎ Cook onion, garlic, bay leaf, rosemary, salt, and pepper in oil in a 2- to 4-quart heavy saucepan over moderately low heat, stirring, until softened, about 3 minutes. Add carrot and celery and cook, stirring, until softened, about 3 minutes.\n",
            "▪︎ Add white beans and stock and simmer, covered, stirring occasionally, 10 minutes. Add haricots verts and edamame and simmer, uncovered, until heated through, 2 to 3 minutes. Add butter, parsley, and chervil (if using) and stir gently until butter is melted. Discard bay leaf and rosemary sprigs.\n",
            "\n"
          ],
          "name": "stdout"
        }
      ]
    },
    {
      "cell_type": "markdown",
      "metadata": {
        "id": "5n7eyJwx444E"
      },
      "source": [
        "### Filtering out large receipts"
      ]
    },
    {
      "cell_type": "markdown",
      "metadata": {
        "id": "rkRd0WsR6zmx"
      },
      "source": [
        "Recipes have different lengths. We need to have one hard-coded sequence length limit before feeding recipes sequences to RNN. We need to find out what recipe length will cover most of recipe use-cases and at the same time we want to keep it as small as possible for training performance."
      ]
    },
    {
      "cell_type": "code",
      "metadata": {
        "id": "7V7tjWoi3IT6"
      },
      "source": [
        "recipes_lengths = []\n",
        "for recipe_text in dataset_stringified:\n",
        "    recipes_lengths.append(len(recipe_text))"
      ],
      "execution_count": 16,
      "outputs": []
    },
    {
      "cell_type": "code",
      "metadata": {
        "colab": {
          "base_uri": "https://localhost:8080/",
          "height": 265
        },
        "id": "rx-dWuzP3XTJ",
        "outputId": "61f03185-5e3c-40b3-a1ce-d55df23bdadf"
      },
      "source": [
        "plt.hist(recipes_lengths, bins=50)\n",
        "plt.show()"
      ],
      "execution_count": 17,
      "outputs": [
        {
          "output_type": "display_data",
          "data": {
            "image/png": "[encoded data removed]",
            "text/plain": [
              "<Figure size 432x288 with 1 Axes>"
            ]
          },
          "metadata": {
            "tags": [],
            "needs_background": "light"
          }
        }
      ]
    },
    {
      "cell_type": "code",
      "metadata": {
        "colab": {
          "base_uri": "https://localhost:8080/",
          "height": 268
        },
        "id": "G390Tk9P3b_g",
        "outputId": "4054fd92-07e7-45a6-8795-55e7adb20013"
      },
      "source": [
        "plt.hist(recipes_lengths, range=(0, 8000), bins=50)\n",
        "plt.show()"
      ],
      "execution_count": 18,
      "outputs": [
        {
          "output_type": "display_data",
          "data": {
            "image/png": "[encoded data removed]",
            "text/plain": [
              "<Figure size 432x288 with 1 Axes>"
            ]
          },
          "metadata": {
            "tags": [],
            "needs_background": "light"
          }
        }
      ]
    },
    {
      "cell_type": "code",
      "metadata": {
        "id": "AEawkkFU3wt9"
      },
      "source": [
        "# Looks like a limit of 2000 characters for the recipes will cover 80+% cases.\n",
        "# We may try to train RNN with this maximum recipe length limit.\n",
        "MAX_RECIPE_LENGTH = 2000\n",
        "\n",
        "if DEBUG:\n",
        "    MAX_RECIPE_LENGTH = 500"
      ],
      "execution_count": 19,
      "outputs": []
    },
    {
      "cell_type": "code",
      "metadata": {
        "id": "w5Zc0daK5Ljf"
      },
      "source": [
        "def filter_recipes_by_length(recipe_test):\n",
        "    return len(recipe_test) <= MAX_RECIPE_LENGTH "
      ],
      "execution_count": 20,
      "outputs": []
    },
    {
      "cell_type": "code",
      "metadata": {
        "colab": {
          "base_uri": "https://localhost:8080/"
        },
        "id": "rATzmrAs5U6J",
        "outputId": "573ff913-25be-4e94-f40f-93887f8d8ce2"
      },
      "source": [
        "dataset_filtered = [recipe_text for recipe_text in dataset_stringified if filter_recipes_by_length(recipe_text)]\n",
        "\n",
        "print('Dataset size BEFORE filtering: ', len(dataset_stringified))\n",
        "print('Dataset size AFTER filtering: ', len(dataset_filtered))\n",
        "print('Number of etiminated recipes: ', len(dataset_stringified) - len(dataset_filtered))"
      ],
      "execution_count": 21,
      "outputs": [
        {
          "output_type": "stream",
          "text": [
            "Dataset size BEFORE filtering:  122938\n",
            "Dataset size AFTER filtering:  100212\n",
            "Number of etiminated recipes:  22726\n"
          ],
          "name": "stdout"
        }
      ]
    },
    {
      "cell_type": "code",
      "metadata": {
        "id": "9nllzMwYLYu9"
      },
      "source": [
        "if DEBUG:\n",
        "    dataset_filtered = dataset_filtered[:DEBUG_EXAMPLES]\n",
        "    print('dataset_filtered.shape, ', len(dataset_filtered))"
      ],
      "execution_count": 22,
      "outputs": []
    },
    {
      "cell_type": "markdown",
      "metadata": {
        "id": "Kg1i-epD5Civ"
      },
      "source": [
        "### Summarizing dataset parameters"
      ]
    },
    {
      "cell_type": "code",
      "metadata": {
        "colab": {
          "base_uri": "https://localhost:8080/"
        },
        "id": "Isb8xx8hzoAR",
        "outputId": "5adb5b87-7710-4df8-eebe-1d06211d97e9"
      },
      "source": [
        "TOTAL_RECIPES_NUM = len(dataset_filtered)\n",
        "\n",
        "print('MAX_RECIPE_LENGTH: ', MAX_RECIPE_LENGTH)\n",
        "print('TOTAL_RECIPES_NUM: ', TOTAL_RECIPES_NUM)"
      ],
      "execution_count": 23,
      "outputs": [
        {
          "output_type": "stream",
          "text": [
            "MAX_RECIPE_LENGTH:  2000\n",
            "TOTAL_RECIPES_NUM:  100212\n"
          ],
          "name": "stdout"
        }
      ]
    },
    {
      "cell_type": "markdown",
      "metadata": {
        "id": "KBDPcd9rzoAZ"
      },
      "source": [
        "## Creating vocabulary"
      ]
    },
    {
      "cell_type": "markdown",
      "metadata": {
        "id": "YUuZjJah6zmx"
      },
      "source": [
        "To create a vocabulary out of recipes texts we will use [tf.keras.preprocessing.text.Tokenizer](https://www.tensorflow.org/api_docs/python/tf/keras/preprocessing/text/Tokenizer)"
      ]
    },
    {
      "cell_type": "code",
      "metadata": {
        "id": "yKM3S1zi4U--"
      },
      "source": [
        "# Indicator of the end of the recipe.\n",
        "STOP_SIGN = '␣'"
      ],
      "execution_count": 24,
      "outputs": []
    },
    {
      "cell_type": "code",
      "metadata": {
        "id": "PKLG9DzRzoAZ"
      },
      "source": [
        "tokenizer = tf.keras.preprocessing.text.Tokenizer(\n",
        "    char_level=True,\n",
        "    filters='',\n",
        "    lower=False,\n",
        "    split=''\n",
        ")"
      ],
      "execution_count": 25,
      "outputs": []
    },
    {
      "cell_type": "code",
      "metadata": {
        "id": "9tX6k-Z6BteV"
      },
      "source": [
        "# Stop word is not a part of recipes, but tokenizer must know about it as well.\n",
        "tokenizer.fit_on_texts([STOP_SIGN])"
      ],
      "execution_count": 26,
      "outputs": []
    },
    {
      "cell_type": "code",
      "metadata": {
        "id": "XAK-qwg0zoAb"
      },
      "source": [
        "tokenizer.fit_on_texts(dataset_filtered)"
      ],
      "execution_count": 27,
      "outputs": []
    },
    {
      "cell_type": "code",
      "metadata": {
        "colab": {
          "base_uri": "https://localhost:8080/"
        },
        "id": "aiy2DspqzoAg",
        "outputId": "3445a0fe-6570-45b0-b154-b7a136befe13"
      },
      "source": [
        "tokenizer.get_config()"
      ],
      "execution_count": 28,
      "outputs": [
        {
          "output_type": "execute_result",
          "data": {
            "text/plain": [
              "{'char_level': True,\n",
              " 'document_count': 100213,\n",
              " 'filters': '',\n",
              " 'index_docs': '{\"1\": 100212, \"165\": 1, \"64\": 31908, \"7\": 100207, \"35\": 83328, \"22\": 98331, \"17\": 99988, \"26\": 99320, \"9\": 100204, \"37\": 79135, \"58\": 40870, \"5\": 100205, \"24\": 100212, \"33\": 89250, \"10\": 100206, \"34\": 82453, \"52\": 100212, \"13\": 100190, \"27\": 97848, \"14\": 100161, \"31\": 100212, \"11\": 100194, \"41\": 61954, \"53\": 100212, \"42\": 67627, \"2\": 100212, \"29\": 96743, \"43\": 67614, \"8\": 100207, \"25\": 97316, \"6\": 100198, \"4\": 100202, \"21\": 100163, \"32\": 100212, \"66\": 24377, \"28\": 96387, \"20\": 98524, \"51\": 100212, \"18\": 99975, \"12\": 100161, \"3\": 100205, \"16\": 100212, \"39\": 79364, \"62\": 35206, \"44\": 60900, \"15\": 100046, \"19\": 99702, \"23\": 99227, \"40\": 65486, \"63\": 32101, \"30\": 89051, \"50\": 54040, \"71\": 14114, \"54\": 46675, \"60\": 37000, \"38\": 72133, \"47\": 47438, \"45\": 64278, \"55\": 48332, \"48\": 57940, \"36\": 74711, \"57\": 36538, \"49\": 53758, \"59\": 38981, \"76\": 5819, \"73\": 9981, \"56\": 33863, \"84\": 2184, \"61\": 35355, \"68\": 18120, \"46\": 42430, \"65\": 18214, \"69\": 12161, \"70\": 14834, \"92\": 321, \"79\": 2617, \"67\": 20103, \"80\": 5148, \"90\": 448, \"81\": 3142, \"75\": 8225, \"83\": 2428, \"72\": 10621, \"74\": 9710, \"86\": 749, \"105\": 32, \"100\": 48, \"87\": 717, \"82\": 1780, \"103\": 91, \"115\": 26, \"116\": 25, \"78\": 2462, \"108\": 27, \"106\": 33, \"98\": 81, \"97\": 139, \"88\": 423, \"93\": 207, \"101\": 64, \"77\": 3062, \"137\": 3, \"141\": 4, \"107\": 49, \"131\": 8, \"133\": 7, \"85\": 491, \"136\": 7, \"119\": 22, \"102\": 45, \"89\": 335, \"109\": 38, \"95\": 95, \"126\": 9, \"91\": 122, \"96\": 120, \"120\": 8, \"111\": 25, \"112\": 24, \"123\": 10, \"114\": 29, \"110\": 40, \"99\": 52, \"144\": 2, \"129\": 6, \"138\": 4, \"134\": 4, \"117\": 19, \"145\": 2, \"125\": 9, \"146\": 2, \"121\": 11, \"118\": 4, \"132\": 4, \"130\": 6, \"135\": 5, \"153\": 2, \"104\": 55, \"122\": 18, \"154\": 2, \"155\": 1, \"149\": 2, \"147\": 3, \"127\": 8, \"156\": 1, \"157\": 1, \"124\": 4, \"139\": 3, \"94\": 191, \"158\": 1, \"159\": 2, \"150\": 1, \"166\": 1, \"167\": 1, \"142\": 3, \"151\": 1, \"171\": 1, \"170\": 1, \"168\": 1, \"169\": 1, \"160\": 1, \"140\": 2, \"152\": 3, \"161\": 2, \"172\": 1, \"148\": 1, \"162\": 1, \"163\": 1, \"113\": 15, \"128\": 5, \"173\": 1, \"143\": 5, \"174\": 1, \"175\": 1, \"164\": 1}',\n",
              " 'index_word': '{\"1\": \" \", \"2\": \"e\", \"3\": \"a\", \"4\": \"t\", \"5\": \"o\", \"6\": \"n\", \"7\": \"i\", \"8\": \"r\", \"9\": \"s\", \"10\": \"l\", \"11\": \"d\", \"12\": \"h\", \"13\": \"c\", \"14\": \"u\", \"15\": \"p\", \"16\": \"\\\\n\", \"17\": \"m\", \"18\": \"g\", \"19\": \"b\", \"20\": \",\", \"21\": \".\", \"22\": \"f\", \"23\": \"w\", \"24\": \"\\\\u2022\", \"25\": \"k\", \"26\": \"1\", \"27\": \"v\", \"28\": \"y\", \"29\": \"2\", \"30\": \"/\", \"31\": \"\\\\u25aa\", \"32\": \"\\\\ufe0e\", \"33\": \"S\", \"34\": \"4\", \"35\": \"C\", \"36\": \"-\", \"37\": \"3\", \"38\": \"x\", \"39\": \"P\", \"40\": \"5\", \"41\": \"0\", \"42\": \"(\", \"43\": \")\", \"44\": \"A\", \"45\": \"B\", \"46\": \"z\", \"47\": \"j\", \"48\": \"F\", \"49\": \"T\", \"50\": \"R\", \"51\": \"\\\\ud83d\\\\udcd7\", \"52\": \"\\\\ud83e\\\\udd55\", \"53\": \"\\\\ud83d\\\\udcdd\", \"54\": \"I\", \"55\": \"M\", \"56\": \";\", \"57\": \"q\", \"58\": \"D\", \"59\": \"W\", \"60\": \"8\", \"61\": \"G\", \"62\": \"6\", \"63\": \"L\", \"64\": \"H\", \"65\": \":\", \"66\": \"7\", \"67\": \"O\", \"68\": \"\\'\", \"69\": \"E\", \"70\": \"K\", \"71\": \"9\", \"72\": \"U\", \"73\": \"N\", \"74\": \"V\", \"75\": \"J\", \"76\": \"\\\\u00ae\", \"77\": \"\\\\u00b0\", \"78\": \"\\\\u00e9\", \"79\": \"\\\\\"\", \"80\": \"Y\", \"81\": \"Q\", \"82\": \"*\", \"83\": \"!\", \"84\": \"Z\", \"85\": \"\\\\u2013\", \"86\": \"&\", \"87\": \"%\", \"88\": \"\\\\u00f1\", \"89\": \"\\\\u00e8\", \"90\": \"\\\\u2122\", \"91\": \"\\\\u00ee\", \"92\": \"X\", \"93\": \"?\", \"94\": \"\\\\u00bf\", \"95\": \"\\\\u2014\", \"96\": \"\\\\u00e7\", \"97\": \"#\", \"98\": \"\\\\u00bd\", \"99\": \"\\\\u00ed\", \"100\": \"=\", \"101\": \"\\\\u2019\", \"102\": \"\\\\u00e2\", \"103\": \"\\\\u00a9\", \"104\": \"\\\\u00bc\", \"105\": \"+\", \"106\": \">\", \"107\": \"$\", \"108\": \"<\", \"109\": \"\\\\u00e1\", \"110\": \"\\\\u00f3\", \"111\": \"\\\\u00fa\", \"112\": \"\\\\u00ef\", \"113\": \"\\\\u00c9\", \"114\": \"\\\\u00fb\", \"115\": \"]\", \"116\": \"[\", \"117\": \"\\\\u00fc\", \"118\": \"\\\\u00ea\", \"119\": \"\\\\u00e0\", \"120\": \"_\", \"121\": \"\\\\u00ad\", \"122\": \"\\\\u00be\", \"123\": \"\\\\u201a\", \"124\": \"\\\\ufffd\", \"125\": \"\\\\u00ba\", \"126\": \"\\\\u2044\", \"127\": \"\\\\u00e4\", \"128\": \"\\\\u00da\", \"129\": \"\\\\u00f9\", \"130\": \"\\\\u0301\", \"131\": \"}\", \"132\": \"\\\\u00f6\", \"133\": \"{\", \"134\": \"\\\\u00ec\", \"135\": \"\\\\u00f4\", \"136\": \"\\\\u0096\", \"137\": \"\\\\u201d\", \"138\": \"\\\\u00d7\", \"139\": \"\\\\u02da\", \"140\": \"\\\\u00bb\", \"141\": \"@\", \"142\": \"\\\\u00a7\", \"143\": \"\\\\\\\\\", \"144\": \"\\\\u25ca\", \"145\": \"\\\\u2031\", \"146\": \"\\\\u201c\", \"147\": \"\\\\u2027\", \"148\": \"\\\\u202d\", \"149\": \"\\\\u215b\", \"150\": \"\\\\u00e5\", \"151\": \"\\\\ufb02\", \"152\": \"`\", \"153\": \"\\\\u00c1\", \"154\": \"\\\\u00eb\", \"155\": \"\\\\u0097\", \"156\": \"\\\\u001a\", \"157\": \"\\\\u00f8\", \"158\": \"\\\\u2153\", \"159\": \"|\", \"160\": \"\\\\u01b0\", \"161\": \"\\\\u0092\", \"162\": \"\\\\u00b4\", \"163\": \"\\\\u2012\", \"164\": \"\\\\u00c2\", \"165\": \"\\\\u2423\", \"166\": \"\\\\u00a4\", \"167\": \"\\\\u201f\", \"168\": \"\\\\u00a0\", \"169\": \"\\\\u01a1\", \"170\": \"\\\\u0103\", \"171\": \"\\\\u0300\", \"172\": \"\\\\u215e\", \"173\": \"\\\\u20ac\", \"174\": \"~\", \"175\": \"\\\\u0095\"}',\n",
              " 'lower': False,\n",
              " 'num_words': None,\n",
              " 'oov_token': None,\n",
              " 'split': '',\n",
              " 'word_counts': '{\"\\\\u2423\": 1, \"\\\\ud83d\\\\udcd7\": 100212, \" \": 17527888, \"S\": 270259, \"l\": 3815150, \"o\": 5987496, \"w\": 964459, \"C\": 222831, \"k\": 890982, \"e\": 9296022, \"r\": 4760887, \"h\": 2922100, \"i\": 4911812, \"c\": 2883507, \"n\": 5304396, \"a\": 6067157, \"d\": 3099679, \"D\": 63999, \"u\": 2717050, \"m\": 1794411, \"p\": 2679164, \"g\": 1698670, \"s\": 4704222, \"\\\\n\": 1955281, \"\\\\ud83e\\\\udd55\": 100212, \"\\\\u2022\": 922813, \"4\": 232607, \",\": 1130487, \"b\": 1394803, \"t\": 5997722, \"v\": 746785, \"2\": 493933, \"(\": 144985, \"1\": 853931, \"0\": 145119, \".\": 1052548, \"7\": 31098, \"5\": 154071, \")\": 144977, \"f\": 1042981, \"y\": 666553, \"\\\\ud83d\\\\udcdd\": 100212, \"\\\\u25aa\": 331058, \"\\\\ufe0e\": 331058, \"P\": 200597, \"6\": 51398, \"H\": 43936, \"A\": 134274, \"3\": 213519, \"R\": 101253, \"x\": 201286, \"/\": 345257, \"I\": 81591, \"L\": 46138, \"8\": 55352, \"9\": 17697, \"B\": 123813, \"M\": 78684, \"F\": 104359, \"j\": 110008, \"-\": 219160, \"W\": 61616, \"\\\\u00ae\": 10159, \"N\": 12808, \"q\": 69654, \"T\": 101371, \";\": 72045, \"\\'\": 26831, \"Z\": 2428, \"z\": 115883, \"G\": 52043, \":\": 31318, \"E\": 18582, \"K\": 18421, \"X\": 385, \"\\\\\"\": 6445, \"O\": 28971, \"Y\": 6064, \"\\\\u2122\": 538, \"Q\": 3904, \"J\": 10269, \"!\": 3014, \"U\": 14132, \"V\": 12172, \"&\": 1039, \"+\": 87, \"=\": 113, \"%\": 993, \"*\": 3243, \"\\\\u00a9\": 99, \"[\": 30, \"]\": 31, \"\\\\u00e9\": 6727, \"<\": 76, \">\": 86, \"\\\\u00bd\": 166, \"#\": 168, \"\\\\u00f1\": 891, \"?\": 327, \"\\\\u2019\": 111, \"\\\\u00b0\": 6808, \"\\\\u201d\": 6, \"$\": 84, \"@\": 5, \"{\": 8, \"}\": 9, \"\\\\u2013\": 1228, \"\\\\u0096\": 7, \"\\\\u00e0\": 26, \"\\\\u00e2\": 106, \"\\\\u00e8\": 846, \"\\\\u00e1\": 74, \"\\\\u2014\": 215, \"\\\\u2044\": 16, \"\\\\u00ee\": 415, \"\\\\u00e7\": 171, \"_\": 26, \"\\\\u00fa\": 48, \"\\\\u00ef\": 43, \"\\\\u201a\": 20, \"\\\\u00fb\": 36, \"\\\\u00f3\": 74, \"\\\\u00ed\": 130, \"\\\\u25ca\": 4, \"\\\\u00f9\": 12, \"\\\\u00d7\": 6, \"\\\\u00ec\": 8, \"\\\\u00fc\": 29, \"\\\\u2031\": 4, \"\\\\u00ba\": 19, \"\\\\u201c\": 4, \"\\\\u00ad\": 25, \"\\\\u00ea\": 27, \"\\\\u00f6\": 9, \"\\\\u0301\": 11, \"\\\\u00f4\": 8, \"\\\\u00c1\": 2, \"\\\\u00be\": 23, \"\\\\u00bc\": 95, \"\\\\u00eb\": 2, \"\\\\u0097\": 2, \"\\\\u215b\": 3, \"\\\\u2027\": 4, \"\\\\u00e4\": 15, \"\\\\u001a\": 2, \"\\\\u00f8\": 2, \"\\\\ufffd\": 20, \"\\\\u02da\": 6, \"\\\\u00bf\": 264, \"\\\\u2153\": 2, \"|\": 2, \"\\\\u00e5\": 3, \"\\\\u00a4\": 1, \"\\\\u201f\": 1, \"\\\\u00a7\": 5, \"\\\\ufb02\": 3, \"\\\\u00a0\": 1, \"\\\\u01b0\": 2, \"\\\\u01a1\": 1, \"\\\\u0103\": 1, \"\\\\u0300\": 1, \"\\\\u00bb\": 6, \"`\": 3, \"\\\\u0092\": 2, \"\\\\u215e\": 1, \"\\\\u202d\": 4, \"\\\\u00b4\": 2, \"\\\\u2012\": 2, \"\\\\u00c9\": 40, \"\\\\u00da\": 14, \"\\\\u20ac\": 1, \"\\\\\\\\\": 5, \"~\": 1, \"\\\\u0095\": 1, \"\\\\u00c2\": 2}',\n",
              " 'word_docs': '{\"\\\\u2423\": 1, \"H\": 31908, \"i\": 100207, \"C\": 83328, \"f\": 98331, \"m\": 99988, \"1\": 99320, \"s\": 100204, \"3\": 79135, \"D\": 40870, \"o\": 100205, \"\\\\u2022\": 100212, \"S\": 89250, \"l\": 100206, \"4\": 82453, \"\\\\ud83e\\\\udd55\": 100212, \"c\": 100190, \"v\": 97848, \"u\": 100161, \"\\\\u25aa\": 100212, \"d\": 100194, \"0\": 61954, \"\\\\ud83d\\\\udcdd\": 100212, \"(\": 67627, \"e\": 100212, \"2\": 96743, \")\": 67614, \"r\": 100207, \"k\": 97316, \"n\": 100198, \"t\": 100202, \".\": 100163, \"\\\\ufe0e\": 100212, \"7\": 24377, \"y\": 96387, \",\": 98524, \"\\\\ud83d\\\\udcd7\": 100212, \"g\": 99975, \" \": 100212, \"h\": 100161, \"a\": 100205, \"\\\\n\": 100212, \"P\": 79364, \"6\": 35206, \"A\": 60900, \"p\": 100046, \"b\": 99702, \"w\": 99227, \"5\": 65486, \"L\": 32101, \"/\": 89051, \"R\": 54040, \"9\": 14114, \"I\": 46675, \"8\": 37000, \"x\": 72133, \"j\": 47438, \"B\": 64278, \"M\": 48332, \"F\": 57940, \"-\": 74711, \"q\": 36538, \"T\": 53758, \"W\": 38981, \"\\\\u00ae\": 5819, \"N\": 9981, \";\": 33863, \"Z\": 2184, \"G\": 35355, \"\\'\": 18120, \"z\": 42430, \":\": 18214, \"E\": 12161, \"K\": 14834, \"X\": 321, \"\\\\\"\": 2617, \"O\": 20103, \"Y\": 5148, \"\\\\u2122\": 448, \"Q\": 3142, \"J\": 8225, \"!\": 2428, \"U\": 10621, \"V\": 9710, \"&\": 749, \"+\": 32, \"=\": 48, \"%\": 717, \"*\": 1780, \"\\\\u00a9\": 91, \"]\": 26, \"[\": 25, \"\\\\u00e9\": 2462, \"<\": 27, \">\": 33, \"\\\\u00bd\": 81, \"#\": 139, \"\\\\u00f1\": 423, \"?\": 207, \"\\\\u2019\": 64, \"\\\\u00b0\": 3062, \"\\\\u201d\": 3, \"@\": 4, \"$\": 49, \"}\": 8, \"{\": 7, \"\\\\u2013\": 491, \"\\\\u0096\": 7, \"\\\\u00e0\": 22, \"\\\\u00e2\": 45, \"\\\\u00e8\": 335, \"\\\\u00e1\": 38, \"\\\\u2014\": 95, \"\\\\u2044\": 9, \"\\\\u00ee\": 122, \"\\\\u00e7\": 120, \"_\": 8, \"\\\\u00fa\": 25, \"\\\\u00ef\": 24, \"\\\\u201a\": 10, \"\\\\u00fb\": 29, \"\\\\u00f3\": 40, \"\\\\u00ed\": 52, \"\\\\u25ca\": 2, \"\\\\u00f9\": 6, \"\\\\u00d7\": 4, \"\\\\u00ec\": 4, \"\\\\u00fc\": 19, \"\\\\u2031\": 2, \"\\\\u00ba\": 9, \"\\\\u201c\": 2, \"\\\\u00ad\": 11, \"\\\\u00ea\": 4, \"\\\\u00f6\": 4, \"\\\\u0301\": 6, \"\\\\u00f4\": 5, \"\\\\u00c1\": 2, \"\\\\u00bc\": 55, \"\\\\u00be\": 18, \"\\\\u00eb\": 2, \"\\\\u0097\": 1, \"\\\\u215b\": 2, \"\\\\u2027\": 3, \"\\\\u00e4\": 8, \"\\\\u001a\": 1, \"\\\\u00f8\": 1, \"\\\\ufffd\": 4, \"\\\\u02da\": 3, \"\\\\u00bf\": 191, \"\\\\u2153\": 1, \"|\": 2, \"\\\\u00e5\": 1, \"\\\\u00a4\": 1, \"\\\\u201f\": 1, \"\\\\u00a7\": 3, \"\\\\ufb02\": 1, \"\\\\u0300\": 1, \"\\\\u0103\": 1, \"\\\\u00a0\": 1, \"\\\\u01a1\": 1, \"\\\\u01b0\": 1, \"\\\\u00bb\": 2, \"`\": 3, \"\\\\u0092\": 2, \"\\\\u215e\": 1, \"\\\\u202d\": 1, \"\\\\u00b4\": 1, \"\\\\u2012\": 1, \"\\\\u00c9\": 15, \"\\\\u00da\": 5, \"\\\\u20ac\": 1, \"\\\\\\\\\": 5, \"~\": 1, \"\\\\u0095\": 1, \"\\\\u00c2\": 1}',\n",
              " 'word_index': '{\" \": 1, \"e\": 2, \"a\": 3, \"t\": 4, \"o\": 5, \"n\": 6, \"i\": 7, \"r\": 8, \"s\": 9, \"l\": 10, \"d\": 11, \"h\": 12, \"c\": 13, \"u\": 14, \"p\": 15, \"\\\\n\": 16, \"m\": 17, \"g\": 18, \"b\": 19, \",\": 20, \".\": 21, \"f\": 22, \"w\": 23, \"\\\\u2022\": 24, \"k\": 25, \"1\": 26, \"v\": 27, \"y\": 28, \"2\": 29, \"/\": 30, \"\\\\u25aa\": 31, \"\\\\ufe0e\": 32, \"S\": 33, \"4\": 34, \"C\": 35, \"-\": 36, \"3\": 37, \"x\": 38, \"P\": 39, \"5\": 40, \"0\": 41, \"(\": 42, \")\": 43, \"A\": 44, \"B\": 45, \"z\": 46, \"j\": 47, \"F\": 48, \"T\": 49, \"R\": 50, \"\\\\ud83d\\\\udcd7\": 51, \"\\\\ud83e\\\\udd55\": 52, \"\\\\ud83d\\\\udcdd\": 53, \"I\": 54, \"M\": 55, \";\": 56, \"q\": 57, \"D\": 58, \"W\": 59, \"8\": 60, \"G\": 61, \"6\": 62, \"L\": 63, \"H\": 64, \":\": 65, \"7\": 66, \"O\": 67, \"\\'\": 68, \"E\": 69, \"K\": 70, \"9\": 71, \"U\": 72, \"N\": 73, \"V\": 74, \"J\": 75, \"\\\\u00ae\": 76, \"\\\\u00b0\": 77, \"\\\\u00e9\": 78, \"\\\\\"\": 79, \"Y\": 80, \"Q\": 81, \"*\": 82, \"!\": 83, \"Z\": 84, \"\\\\u2013\": 85, \"&\": 86, \"%\": 87, \"\\\\u00f1\": 88, \"\\\\u00e8\": 89, \"\\\\u2122\": 90, \"\\\\u00ee\": 91, \"X\": 92, \"?\": 93, \"\\\\u00bf\": 94, \"\\\\u2014\": 95, \"\\\\u00e7\": 96, \"#\": 97, \"\\\\u00bd\": 98, \"\\\\u00ed\": 99, \"=\": 100, \"\\\\u2019\": 101, \"\\\\u00e2\": 102, \"\\\\u00a9\": 103, \"\\\\u00bc\": 104, \"+\": 105, \">\": 106, \"$\": 107, \"<\": 108, \"\\\\u00e1\": 109, \"\\\\u00f3\": 110, \"\\\\u00fa\": 111, \"\\\\u00ef\": 112, \"\\\\u00c9\": 113, \"\\\\u00fb\": 114, \"]\": 115, \"[\": 116, \"\\\\u00fc\": 117, \"\\\\u00ea\": 118, \"\\\\u00e0\": 119, \"_\": 120, \"\\\\u00ad\": 121, \"\\\\u00be\": 122, \"\\\\u201a\": 123, \"\\\\ufffd\": 124, \"\\\\u00ba\": 125, \"\\\\u2044\": 126, \"\\\\u00e4\": 127, \"\\\\u00da\": 128, \"\\\\u00f9\": 129, \"\\\\u0301\": 130, \"}\": 131, \"\\\\u00f6\": 132, \"{\": 133, \"\\\\u00ec\": 134, \"\\\\u00f4\": 135, \"\\\\u0096\": 136, \"\\\\u201d\": 137, \"\\\\u00d7\": 138, \"\\\\u02da\": 139, \"\\\\u00bb\": 140, \"@\": 141, \"\\\\u00a7\": 142, \"\\\\\\\\\": 143, \"\\\\u25ca\": 144, \"\\\\u2031\": 145, \"\\\\u201c\": 146, \"\\\\u2027\": 147, \"\\\\u202d\": 148, \"\\\\u215b\": 149, \"\\\\u00e5\": 150, \"\\\\ufb02\": 151, \"`\": 152, \"\\\\u00c1\": 153, \"\\\\u00eb\": 154, \"\\\\u0097\": 155, \"\\\\u001a\": 156, \"\\\\u00f8\": 157, \"\\\\u2153\": 158, \"|\": 159, \"\\\\u01b0\": 160, \"\\\\u0092\": 161, \"\\\\u00b4\": 162, \"\\\\u2012\": 163, \"\\\\u00c2\": 164, \"\\\\u2423\": 165, \"\\\\u00a4\": 166, \"\\\\u201f\": 167, \"\\\\u00a0\": 168, \"\\\\u01a1\": 169, \"\\\\u0103\": 170, \"\\\\u0300\": 171, \"\\\\u215e\": 172, \"\\\\u20ac\": 173, \"~\": 174, \"\\\\u0095\": 175}'}"
            ]
          },
          "metadata": {
            "tags": []
          },
          "execution_count": 28
        }
      ]
    },
    {
      "cell_type": "code",
      "metadata": {
        "colab": {
          "base_uri": "https://localhost:8080/"
        },
        "id": "W0SJy42MzoAe",
        "outputId": "8670651a-e095-43d8-c90a-a994e552f443"
      },
      "source": [
        "# Adding +1 to take into account a special unassigned 0 index.\n",
        "# @see: https://www.tensorflow.org/api_docs/python/tf/keras/preprocessing/text/Tokenizer\n",
        "VOCABULARY_SIZE = len(tokenizer.word_counts) + 1\n",
        "\n",
        "print('VOCABULARY_SIZE: ', VOCABULARY_SIZE)"
      ],
      "execution_count": 29,
      "outputs": [
        {
          "output_type": "stream",
          "text": [
            "VOCABULARY_SIZE:  176\n"
          ],
          "name": "stdout"
        }
      ]
    },
    {
      "cell_type": "code",
      "metadata": {
        "colab": {
          "base_uri": "https://localhost:8080/"
        },
        "id": "U9njDnXczoAl",
        "outputId": "1ec25aa7-2f0c-4e87-d864-33ef99e1aba3"
      },
      "source": [
        "print(tokenizer.index_word[5])\n",
        "print(tokenizer.index_word[20])"
      ],
      "execution_count": 30,
      "outputs": [
        {
          "output_type": "stream",
          "text": [
            "o\n",
            ",\n"
          ],
          "name": "stdout"
        }
      ]
    },
    {
      "cell_type": "code",
      "metadata": {
        "colab": {
          "base_uri": "https://localhost:8080/"
        },
        "id": "gMQeZbdd75ZJ",
        "outputId": "d00f7d3d-07a1-42c1-bb2f-447f276b3931"
      },
      "source": [
        "tokenizer.word_index['r']"
      ],
      "execution_count": 31,
      "outputs": [
        {
          "output_type": "execute_result",
          "data": {
            "text/plain": [
              "8"
            ]
          },
          "metadata": {
            "tags": []
          },
          "execution_count": 31
        }
      ]
    },
    {
      "cell_type": "code",
      "metadata": {
        "colab": {
          "base_uri": "https://localhost:8080/"
        },
        "id": "odMLgr0Y6zmy",
        "outputId": "53b8c2f8-a0c7-4816-9a85-5b1ea350d0b7"
      },
      "source": [
        "# For demo application we need to have an array of characters as vocabulary.\n",
        "js_vocabulary = tokenizer.sequences_to_texts([[word_index] for word_index in range(VOCABULARY_SIZE)])\n",
        "print([char for char in js_vocabulary])"
      ],
      "execution_count": 32,
      "outputs": [
        {
          "output_type": "stream",
          "text": [
            "['', ' ', 'e', 'a', 't', 'o', 'n', 'i', 'r', 's', 'l', 'd', 'h', 'c', 'u', 'p', '\\n', 'm', 'g', 'b', ',', '.', 'f', 'w', '•', 'k', '1', 'v', 'y', '2', '/', '▪', '︎', 'S', '4', 'C', '-', '3', 'x', 'P', '5', '0', '(', ')', 'A', 'B', 'z', 'j', 'F', 'T', 'R', '📗', '🥕', '📝', 'I', 'M', ';', 'q', 'D', 'W', '8', 'G', '6', 'L', 'H', ':', '7', 'O', \"'\", 'E', 'K', '9', 'U', 'N', 'V', 'J', '®', '°', 'é', '\"', 'Y', 'Q', '*', '!', 'Z', '–', '&', '%', 'ñ', 'è', '™', 'î', 'X', '?', '¿', '—', 'ç', '#', '½', 'í', '=', '’', 'â', '©', '¼', '+', '>', '$', '<', 'á', 'ó', 'ú', 'ï', 'É', 'û', ']', '[', 'ü', 'ê', 'à', '_', '\\xad', '¾', '‚', '�', 'º', '⁄', 'ä', 'Ú', 'ù', '́', '}', 'ö', '{', 'ì', 'ô', '\\x96', '”', '×', '˚', '»', '@', '§', '\\\\', '◊', '‱', '“', '‧', '\\u202d', '⅛', 'å', 'ﬂ', '`', 'Á', 'ë', '\\x97', '\\x1a', 'ø', '⅓', '|', 'ư', '\\x92', '´', '‒', 'Â', '␣', '¤', '‟', '\\xa0', 'ơ', 'ă', '̀', '⅞', '€', '~', '\\x95']\n"
          ],
          "name": "stdout"
        }
      ]
    },
    {
      "cell_type": "code",
      "metadata": {
        "colab": {
          "base_uri": "https://localhost:8080/"
        },
        "id": "6lIEXyfI6zmy",
        "outputId": "5d24a90b-71d2-4331-f64e-a5fd99520e63"
      },
      "source": [
        "# Test proper conversion from text to indices.\n",
        "# This is needed for debugging a demo app.\n",
        "tokenizer.texts_to_sequences(['📗 yes'])"
      ],
      "execution_count": 33,
      "outputs": [
        {
          "output_type": "execute_result",
          "data": {
            "text/plain": [
              "[[51, 1, 28, 2, 9]]"
            ]
          },
          "metadata": {
            "tags": []
          },
          "execution_count": 33
        }
      ]
    },
    {
      "cell_type": "markdown",
      "metadata": {
        "id": "DctJLdjMzoAn"
      },
      "source": [
        "## Vectorizing the dataset"
      ]
    },
    {
      "cell_type": "markdown",
      "metadata": {
        "id": "ADwtLdz56zmy"
      },
      "source": [
        "Now, once we have a vocabulary (`character --> code` and `code --> character` relations) we may convert the set of recipes from text to numbers (RNN works with numbers as an input and not with the texts)."
      ]
    },
    {
      "cell_type": "code",
      "metadata": {
        "id": "Dai0OfBjzoAn"
      },
      "source": [
        "def recipe_sequence_to_string(recipe_sequence):\n",
        "    recipe_stringified = tokenizer.sequences_to_texts([recipe_sequence])[0]\n",
        "    recipe_stringified = recipe_stringified.replace('   ', '_').replace(' ', '').replace('_', ' ')\n",
        "    print(recipe_stringified)"
      ],
      "execution_count": 34,
      "outputs": []
    },
    {
      "cell_type": "code",
      "metadata": {
        "id": "P1efPWArzoAp"
      },
      "source": [
        "dataset_vectorized = tokenizer.texts_to_sequences(dataset_filtered)"
      ],
      "execution_count": 35,
      "outputs": []
    },
    {
      "cell_type": "code",
      "metadata": {
        "colab": {
          "base_uri": "https://localhost:8080/"
        },
        "id": "VUaKUrefzoAr",
        "outputId": "331b86bc-fc70-4962-cb60-bf6c5d87c837"
      },
      "source": [
        "print('Vectorized dataset size', len(dataset_vectorized))"
      ],
      "execution_count": 36,
      "outputs": [
        {
          "output_type": "stream",
          "text": [
            "Vectorized dataset size 100212\n"
          ],
          "name": "stdout"
        }
      ]
    },
    {
      "cell_type": "code",
      "metadata": {
        "colab": {
          "base_uri": "https://localhost:8080/"
        },
        "id": "WexryHNUzoAu",
        "outputId": "cdfc9550-ac11-4451-9d21-2ac8759dbaa8"
      },
      "source": [
        "print(dataset_vectorized[0][:10], '...')"
      ],
      "execution_count": 37,
      "outputs": [
        {
          "output_type": "stream",
          "text": [
            "[51, 1, 33, 10, 5, 23, 1, 35, 5, 5] ...\n"
          ],
          "name": "stdout"
        }
      ]
    },
    {
      "cell_type": "code",
      "metadata": {
        "colab": {
          "base_uri": "https://localhost:8080/"
        },
        "id": "0kBu8keNUHp-",
        "outputId": "a3f6b99d-e79f-4d1c-988c-c684e85de363"
      },
      "source": [
        "max_index_example = np.max(dataset_vectorized)\n",
        "\n",
        "print('max_index_example: ', max_index_example)"
      ],
      "execution_count": 38,
      "outputs": [
        {
          "output_type": "stream",
          "text": [
            "max_index_example:  [51, 1, 97, 26, 1, 39, 2, 3, 1, 33, 3, 10, 3, 11, 1, 55, 5, 9, 4, 1, 50, 2, 57, 14, 2, 9, 4, 2, 11, 83, 16, 16, 52, 16, 16, 24, 1, 29, 1, 42, 26, 62, 1, 5, 14, 6, 13, 2, 43, 1, 15, 3, 13, 25, 3, 18, 2, 9, 1, 22, 8, 5, 46, 2, 6, 1, 15, 2, 4, 7, 4, 2, 1, 15, 2, 3, 9, 1, 16, 24, 1, 62, 1, 5, 14, 6, 13, 2, 9, 1, 9, 17, 5, 25, 2, 36, 22, 10, 3, 27, 5, 8, 2, 11, 1, 3, 10, 17, 5, 6, 11, 9, 20, 1, 22, 7, 6, 2, 10, 28, 1, 13, 12, 5, 15, 15, 2, 11, 1, 16, 24, 1, 26, 1, 5, 6, 7, 5, 6, 20, 1, 22, 7, 6, 2, 10, 28, 1, 13, 12, 5, 15, 15, 2, 11, 1, 16, 24, 1, 26, 1, 13, 14, 15, 1, 17, 3, 28, 5, 6, 6, 3, 7, 9, 2, 20, 1, 5, 8, 1, 17, 5, 8, 2, 1, 4, 5, 1, 4, 3, 9, 4, 2, 1, 16, 24, 1, 18, 8, 5, 14, 6, 11, 1, 19, 10, 3, 13, 25, 1, 15, 2, 15, 15, 2, 8, 1, 4, 5, 1, 4, 3, 9, 4, 2, 1, 16, 16, 53, 16, 16, 31, 32, 1, 39, 10, 3, 13, 2, 1, 22, 8, 5, 46, 2, 6, 1, 15, 2, 3, 9, 1, 7, 6, 1, 3, 1, 13, 5, 10, 3, 6, 11, 2, 8, 56, 1, 8, 7, 6, 9, 2, 1, 14, 6, 11, 2, 8, 1, 13, 5, 10, 11, 1, 23, 3, 4, 2, 8, 1, 14, 6, 4, 7, 10, 1, 4, 12, 3, 23, 2, 11, 21, 1, 58, 8, 3, 7, 6, 1, 3, 6, 11, 1, 4, 8, 3, 6, 9, 22, 2, 8, 1, 4, 5, 1, 3, 1, 10, 3, 8, 18, 2, 1, 19, 5, 23, 10, 21, 1, 44, 11, 11, 1, 3, 10, 17, 5, 6, 11, 9, 1, 3, 6, 11, 1, 5, 6, 7, 5, 6, 9, 56, 1, 17, 7, 38, 1, 23, 2, 10, 10, 21, 1, 48, 5, 10, 11, 1, 17, 3, 28, 5, 6, 6, 3, 7, 9, 2, 1, 3, 6, 11, 1, 19, 10, 3, 13, 25, 1, 15, 2, 15, 15, 2, 8, 1, 7, 6, 4, 5, 1, 15, 2, 3, 1, 17, 7, 38, 4, 14, 8, 2, 1, 14, 6, 4, 7, 10, 1, 2, 27, 2, 6, 10, 28, 1, 13, 5, 3, 4, 2, 11, 21, 1, 35, 5, 27, 2, 8, 1, 3, 6, 11, 1, 8, 2, 22, 8, 7, 18, 2, 8, 3, 4, 2, 1, 14, 6, 4, 7, 10, 1, 9, 2, 8, 27, 7, 6, 18, 21, 16]\n"
          ],
          "name": "stdout"
        },
        {
          "output_type": "stream",
          "text": [
            "/usr/local/lib/python3.7/dist-packages/numpy/core/fromnumeric.py:87: VisibleDeprecationWarning: Creating an ndarray from ragged nested sequences (which is a list-or-tuple of lists-or-tuples-or ndarrays with different lengths or shapes) is deprecated. If you meant to do this, you must specify 'dtype=object' when creating the ndarray\n",
            "  return ufunc.reduce(obj, axis, dtype, out, **passkwargs)\n"
          ],
          "name": "stderr"
        }
      ]
    },
    {
      "cell_type": "code",
      "metadata": {
        "colab": {
          "base_uri": "https://localhost:8080/"
        },
        "id": "RL1zM3GGzoAy",
        "outputId": "403aca4a-76c7-4ad5-cf79-ff0464ecfe67"
      },
      "source": [
        "recipe_sequence_to_string(dataset_vectorized[0])"
      ],
      "execution_count": 39,
      "outputs": [
        {
          "output_type": "stream",
          "text": [
            "📗 Slow Cooker Chicken and Dumplings\n",
            "\n",
            "🥕\n",
            "\n",
            "• 4 skinless, boneless chicken breast halves \n",
            "• 2 tablespoons butter \n",
            "• 2 (10.75 ounce) cans condensed cream of chicken soup \n",
            "• 1 onion, finely diced \n",
            "• 2 (10 ounce) packages refrigerated biscuit dough, torn into pieces \n",
            "\n",
            "📝\n",
            "\n",
            "▪︎ Place the chicken, butter, soup, and onion in a slow cooker, and fill with enough water to cover.\n",
            "▪︎ Cover, and cook for 5 to 6 hours on High. About 30 minutes before serving, place the torn biscuit dough in the slow cooker. Cook until the dough is no longer raw in the center.\n",
            "\n"
          ],
          "name": "stdout"
        }
      ]
    },
    {
      "cell_type": "markdown",
      "metadata": {
        "id": "-Jka4jyNzoA0"
      },
      "source": [
        "### Add padding to sequences"
      ]
    },
    {
      "cell_type": "markdown",
      "metadata": {
        "id": "LY2px_PW6zmy"
      },
      "source": [
        "We need all recipes to have the same length for training. To do that we'll use [tf.keras.preprocessing.sequence.pad_sequences](https://www.tensorflow.org/api_docs/python/tf/keras/preprocessing/sequence/pad_sequences) utility to add a stop word to the end of each recipe and to make them have the same length."
      ]
    },
    {
      "cell_type": "code",
      "metadata": {
        "colab": {
          "base_uri": "https://localhost:8080/"
        },
        "id": "m6tq1NQczoA9",
        "outputId": "df48f824-7db0-4f00-a9f8-6e0fb4bba181"
      },
      "source": [
        "for recipe_index, recipe in enumerate(dataset_vectorized[:10]):\n",
        "    print('Recipe #{} length: {}'.format(recipe_index + 1, len(recipe)))"
      ],
      "execution_count": 40,
      "outputs": [
        {
          "output_type": "stream",
          "text": [
            "Recipe #1 length: 546\n",
            "Recipe #2 length: 401\n",
            "Recipe #3 length: 671\n",
            "Recipe #4 length: 736\n",
            "Recipe #5 length: 1518\n",
            "Recipe #6 length: 740\n",
            "Recipe #7 length: 839\n",
            "Recipe #8 length: 667\n",
            "Recipe #9 length: 1264\n",
            "Recipe #10 length: 854\n"
          ],
          "name": "stdout"
        }
      ]
    },
    {
      "cell_type": "code",
      "metadata": {
        "id": "tnIt-X1zzoA_"
      },
      "source": [
        "dataset_vectorized_padded_without_stops = tf.keras.preprocessing.sequence.pad_sequences(\n",
        "    dataset_vectorized,\n",
        "    padding='post',\n",
        "    truncating='post',\n",
        "    # We use -1 here and +1 in the next step to make sure that all recipes will have at least 1 stops\n",
        "    # sign at the end, since each sequence will be shifted and truncated afterwards (to generate X and Y sequences).\n",
        "    maxlen=MAX_RECIPE_LENGTH-1,\n",
        "    value=tokenizer.texts_to_sequences([STOP_SIGN])[0]\n",
        ")"
      ],
      "execution_count": 41,
      "outputs": []
    },
    {
      "cell_type": "code",
      "metadata": {
        "id": "8y5KbZcezoBB"
      },
      "source": [
        "dataset_vectorized_padded = tf.keras.preprocessing.sequence.pad_sequences(\n",
        "    dataset_vectorized_padded_without_stops,\n",
        "    padding='post',\n",
        "    truncating='post',\n",
        "    maxlen=MAX_RECIPE_LENGTH+1,\n",
        "    value=tokenizer.texts_to_sequences([STOP_SIGN])[0]\n",
        ")"
      ],
      "execution_count": 42,
      "outputs": []
    },
    {
      "cell_type": "code",
      "metadata": {
        "colab": {
          "base_uri": "https://localhost:8080/"
        },
        "id": "FNfalISfzoBD",
        "outputId": "a0426531-e1cd-4b5f-f11d-72b92af39840"
      },
      "source": [
        "for recipe_index, recipe in enumerate(dataset_vectorized_padded[:10]):\n",
        "    print('Recipe #{} length: {}'.format(recipe_index, len(recipe)))"
      ],
      "execution_count": 43,
      "outputs": [
        {
          "output_type": "stream",
          "text": [
            "Recipe #0 length: 2001\n",
            "Recipe #1 length: 2001\n",
            "Recipe #2 length: 2001\n",
            "Recipe #3 length: 2001\n",
            "Recipe #4 length: 2001\n",
            "Recipe #5 length: 2001\n",
            "Recipe #6 length: 2001\n",
            "Recipe #7 length: 2001\n",
            "Recipe #8 length: 2001\n",
            "Recipe #9 length: 2001\n"
          ],
          "name": "stdout"
        }
      ]
    },
    {
      "cell_type": "code",
      "metadata": {
        "colab": {
          "base_uri": "https://localhost:8080/"
        },
        "id": "QTA-Dy1bzoBF",
        "outputId": "2e689903-282e-4032-84e5-19c4390a1b10"
      },
      "source": [
        "recipe_sequence_to_string(dataset_vectorized_padded[0])"
      ],
      "execution_count": 44,
      "outputs": [
        {
          "output_type": "stream",
          "text": [
            "📗 Slow Cooker Chicken and Dumplings\n",
            "\n",
            "🥕\n",
            "\n",
            "• 4 skinless, boneless chicken breast halves \n",
            "• 2 tablespoons butter \n",
            "• 2 (10.75 ounce) cans condensed cream of chicken soup \n",
            "• 1 onion, finely diced \n",
            "• 2 (10 ounce) packages refrigerated biscuit dough, torn into pieces \n",
            "\n",
            "📝\n",
            "\n",
            "▪︎ Place the chicken, butter, soup, and onion in a slow cooker, and fill with enough water to cover.\n",
            "▪︎ Cover, and cook for 5 to 6 hours on High. About 30 minutes before serving, place the torn biscuit dough in the slow cooker. Cook until the dough is no longer raw in the center.\n",
            "␣␣␣␣␣␣␣␣␣␣␣␣␣␣␣␣␣␣␣␣␣␣␣␣␣␣␣␣␣␣␣␣␣␣␣␣␣␣␣␣␣␣␣␣␣␣␣␣␣␣␣␣␣␣␣␣␣␣␣␣␣␣␣␣␣␣␣␣␣␣␣␣␣␣␣␣␣␣␣␣␣␣␣␣␣␣␣␣␣␣␣␣␣␣␣␣␣␣␣␣␣␣␣␣␣␣␣␣␣␣␣␣␣␣␣␣␣␣␣␣␣␣␣␣␣␣␣␣␣␣␣␣␣␣␣␣␣␣␣␣␣␣␣␣␣␣␣␣␣␣␣␣␣␣␣␣␣␣␣␣␣␣␣␣␣␣␣␣␣␣␣␣␣␣␣␣␣␣␣␣␣␣␣␣␣␣␣␣␣␣␣␣␣␣␣␣␣␣␣␣␣␣␣␣␣␣␣␣␣␣␣␣␣␣␣␣␣␣␣␣␣␣␣␣␣␣␣␣␣␣␣␣␣␣␣␣␣␣␣␣␣␣␣␣␣␣␣␣␣␣␣␣␣␣␣␣␣␣␣␣␣␣␣␣␣␣␣␣␣␣␣␣␣␣␣␣␣␣␣␣␣␣␣␣␣␣␣␣␣␣␣␣␣␣␣␣␣␣␣␣␣␣␣␣␣␣␣␣␣␣␣␣␣␣␣␣␣␣␣␣␣␣␣␣␣␣␣␣␣␣␣␣␣␣␣␣␣␣␣␣␣␣␣␣␣␣␣␣␣␣␣␣␣␣␣␣␣␣␣␣␣␣␣␣␣␣␣␣␣␣␣␣␣␣␣␣␣␣␣␣␣␣␣␣␣␣␣␣␣␣␣␣␣␣␣␣␣␣␣␣␣␣␣␣␣␣␣␣␣␣␣␣␣␣␣␣␣␣␣␣␣␣␣␣␣␣␣␣␣␣␣␣␣␣␣␣␣␣␣␣␣␣␣␣␣␣␣␣␣␣␣␣␣␣␣␣␣␣␣␣␣␣␣␣␣␣␣␣␣␣␣␣␣␣␣␣␣␣␣␣␣␣␣␣␣␣␣␣␣␣␣␣␣␣␣␣␣␣␣␣␣␣␣␣␣␣␣␣␣␣␣␣␣␣␣␣␣␣␣␣␣␣␣␣␣␣␣␣␣␣␣␣␣␣␣␣␣␣␣␣␣␣␣␣␣␣␣␣␣␣␣␣␣␣␣␣␣␣␣␣␣␣␣␣␣␣␣␣␣␣␣␣␣␣␣␣␣␣␣␣␣␣␣␣␣␣␣␣␣␣␣␣␣␣␣␣␣␣␣␣␣␣␣␣␣␣␣␣␣␣␣␣␣␣␣␣␣␣␣␣␣␣␣␣␣␣␣␣␣␣␣␣␣␣␣␣␣␣␣␣␣␣␣␣␣␣␣␣␣␣␣␣␣␣␣␣␣␣␣␣␣␣␣␣␣␣␣␣␣␣␣␣␣␣␣␣␣␣␣␣␣␣␣␣␣␣␣␣␣␣␣␣␣␣␣␣␣␣␣␣␣␣␣␣␣␣␣␣␣␣␣␣␣␣␣␣␣␣␣␣␣␣␣␣␣␣␣␣␣␣␣␣␣␣␣␣␣␣␣␣␣␣␣␣␣␣␣␣␣␣␣␣␣␣␣␣␣␣␣␣␣␣␣␣␣␣␣␣␣␣␣␣␣␣␣␣␣␣␣␣␣␣␣␣␣␣␣␣␣␣␣␣␣␣␣␣␣␣␣␣␣␣␣␣␣␣␣␣␣␣␣␣␣␣␣␣␣␣␣␣␣␣␣␣␣␣␣␣␣␣␣␣␣␣␣␣␣␣␣␣␣␣␣␣␣␣␣␣␣␣␣␣␣␣␣␣␣␣␣␣␣␣␣␣␣␣␣␣␣␣␣␣␣␣␣␣␣␣␣␣␣␣␣␣␣␣␣␣␣␣␣␣␣␣␣␣␣␣␣␣␣␣␣␣␣␣␣␣␣␣␣␣␣␣␣␣␣␣␣␣␣␣␣␣␣␣␣␣␣␣␣␣␣␣␣␣␣␣␣␣␣␣␣␣␣␣␣␣␣␣␣␣␣␣␣␣␣␣␣␣␣␣␣␣␣␣␣␣␣␣␣␣␣␣␣␣␣␣␣␣␣␣␣␣␣␣␣␣␣␣␣␣␣␣␣␣␣␣␣␣␣␣␣␣␣␣␣␣␣␣␣␣␣␣␣␣␣␣␣␣␣␣␣␣␣␣␣␣␣␣␣␣␣␣␣␣␣␣␣␣␣␣␣␣␣␣␣␣␣␣␣␣␣␣␣␣␣␣␣␣␣␣␣␣␣␣␣␣␣␣␣␣␣␣␣␣␣␣␣␣␣␣␣␣␣␣␣␣␣␣␣␣␣␣␣␣␣␣␣␣␣␣␣␣␣␣␣␣␣␣␣␣␣␣␣␣␣␣␣␣␣␣␣␣␣␣␣␣␣␣␣␣␣␣␣␣␣␣␣␣␣␣␣␣␣␣␣␣␣␣␣␣␣␣␣␣␣␣␣␣␣␣␣␣␣␣␣␣␣␣␣␣␣␣␣␣␣␣␣␣␣␣␣␣␣␣␣␣␣␣␣␣␣␣␣␣␣␣␣␣␣␣␣␣␣␣␣␣␣␣␣␣␣␣␣␣␣␣␣␣␣␣␣␣␣␣␣␣␣␣␣␣␣␣␣␣␣␣␣␣␣␣␣␣␣␣␣␣␣␣␣␣␣␣␣␣␣␣␣␣␣␣␣␣␣␣␣␣␣␣␣␣␣␣␣␣␣␣␣␣␣␣␣␣␣␣␣␣␣␣␣␣␣␣␣␣␣␣␣␣␣␣␣␣␣␣␣␣␣␣␣␣␣␣␣␣␣␣␣␣␣␣␣␣␣␣␣␣␣␣␣␣␣␣␣␣␣␣␣␣␣␣␣␣␣␣␣␣␣␣␣␣␣␣␣␣␣␣␣␣␣␣␣␣␣␣␣␣␣␣␣␣␣␣␣␣␣␣␣␣␣␣␣␣␣␣␣␣␣␣␣␣␣␣␣␣␣␣␣␣␣␣␣␣␣␣␣␣␣␣␣␣␣␣␣␣␣␣␣␣␣␣␣␣␣␣␣␣␣␣␣␣␣␣␣␣␣␣␣␣␣␣␣␣␣␣␣␣␣␣␣␣␣␣␣\n"
          ],
          "name": "stdout"
        }
      ]
    },
    {
      "cell_type": "code",
      "metadata": {
        "colab": {
          "base_uri": "https://localhost:8080/"
        },
        "id": "H51-PGMMUguv",
        "outputId": "057f5974-8c99-44c1-81ed-705e2ee47154"
      },
      "source": [
        "max_index_example = np.max(dataset_vectorized_padded)\n",
        "\n",
        "print('max_index_example: ', max_index_example)"
      ],
      "execution_count": 45,
      "outputs": [
        {
          "output_type": "stream",
          "text": [
            "max_index_example:  175\n"
          ],
          "name": "stdout"
        }
      ]
    },
    {
      "cell_type": "markdown",
      "metadata": {
        "id": "ZoZqCOjRzoBH"
      },
      "source": [
        "### Create TensorFlow dataset "
      ]
    },
    {
      "cell_type": "code",
      "metadata": {
        "colab": {
          "base_uri": "https://localhost:8080/"
        },
        "id": "yVznKnhVzoBI",
        "outputId": "b79b1970-7a96-409d-f933-0926c3de5bd4"
      },
      "source": [
        "dataset = tf.data.Dataset.from_tensor_slices(dataset_vectorized_padded)\n",
        "\n",
        "print(dataset)"
      ],
      "execution_count": 46,
      "outputs": [
        {
          "output_type": "stream",
          "text": [
            "<TensorSliceDataset shapes: (2001,), types: tf.int32>\n"
          ],
          "name": "stdout"
        }
      ]
    },
    {
      "cell_type": "code",
      "metadata": {
        "colab": {
          "base_uri": "https://localhost:8080/"
        },
        "id": "vXotghNqzoBL",
        "outputId": "49502543-8c1c-44b1-99a4-6679fef8d71a"
      },
      "source": [
        "for recipe in dataset.take(1):\n",
        "    print('Raw recipe:\\n', recipe.numpy(), '\\n\\n\\n')\n",
        "    print('Stringified recipe:\\n')\n",
        "    recipe_sequence_to_string(recipe.numpy())"
      ],
      "execution_count": 47,
      "outputs": [
        {
          "output_type": "stream",
          "text": [
            "Raw recipe:\n",
            " [ 51   1  33 ... 165 165 165] \n",
            "\n",
            "\n",
            "\n",
            "Stringified recipe:\n",
            "\n",
            "📗 Slow Cooker Chicken and Dumplings\n",
            "\n",
            "🥕\n",
            "\n",
            "• 4 skinless, boneless chicken breast halves \n",
            "• 2 tablespoons butter \n",
            "• 2 (10.75 ounce) cans condensed cream of chicken soup \n",
            "• 1 onion, finely diced \n",
            "• 2 (10 ounce) packages refrigerated biscuit dough, torn into pieces \n",
            "\n",
            "📝\n",
            "\n",
            "▪︎ Place the chicken, butter, soup, and onion in a slow cooker, and fill with enough water to cover.\n",
            "▪︎ Cover, and cook for 5 to 6 hours on High. About 30 minutes before serving, place the torn biscuit dough in the slow cooker. Cook until the dough is no longer raw in the center.\n",
            "␣␣␣␣␣␣␣␣␣␣␣␣␣␣␣␣␣␣␣␣␣␣␣␣␣␣␣␣␣␣␣␣␣␣␣␣␣␣␣␣␣␣␣␣␣␣␣␣␣␣␣␣␣␣␣␣␣␣␣␣␣␣␣␣␣␣␣␣␣␣␣␣␣␣␣␣␣␣␣␣␣␣␣␣␣␣␣␣␣␣␣␣␣␣␣␣␣␣␣␣␣␣␣␣␣␣␣␣␣␣␣␣␣␣␣␣␣␣␣␣␣␣␣␣␣␣␣␣␣␣␣␣␣␣␣␣␣␣␣␣␣␣␣␣␣␣␣␣␣␣␣␣␣␣␣␣␣␣␣␣␣␣␣␣␣␣␣␣␣␣␣␣␣␣␣␣␣␣␣␣␣␣␣␣␣␣␣␣␣␣␣␣␣␣␣␣␣␣␣␣␣␣␣␣␣␣␣␣␣␣␣␣␣␣␣␣␣␣␣␣␣␣␣␣␣␣␣␣␣␣␣␣␣␣␣␣␣␣␣␣␣␣␣␣␣␣␣␣␣␣␣␣␣␣␣␣␣␣␣␣␣␣␣␣␣␣␣␣␣␣␣␣␣␣␣␣␣␣␣␣␣␣␣␣␣␣␣␣␣␣␣␣␣␣␣␣␣␣␣␣␣␣␣␣␣␣␣␣␣␣␣␣␣␣␣␣␣␣␣␣␣␣␣␣␣␣␣␣␣␣␣␣␣␣␣␣␣␣␣␣␣␣␣␣␣␣␣␣␣␣␣␣␣␣␣␣␣␣␣␣␣␣␣␣␣␣␣␣␣␣␣␣␣␣␣␣␣␣␣␣␣␣␣␣␣␣␣␣␣␣␣␣␣␣␣␣␣␣␣␣␣␣␣␣␣␣␣␣␣␣␣␣␣␣␣␣␣␣␣␣␣␣␣␣␣␣␣␣␣␣␣␣␣␣␣␣␣␣␣␣␣␣␣␣␣␣␣␣␣␣␣␣␣␣␣␣␣␣␣␣␣␣␣␣␣␣␣␣␣␣␣␣␣␣␣␣␣␣␣␣␣␣␣␣␣␣␣␣␣␣␣␣␣␣␣␣␣␣␣␣␣␣␣␣␣␣␣␣␣␣␣␣␣␣␣␣␣␣␣␣␣␣␣␣␣␣␣␣␣␣␣␣␣␣␣␣␣␣␣␣␣␣␣␣␣␣␣␣␣␣␣␣␣␣␣␣␣␣␣␣␣␣␣␣␣␣␣␣␣␣␣␣␣␣␣␣␣␣␣␣␣␣␣␣␣␣␣␣␣␣␣␣␣␣␣␣␣␣␣␣␣␣␣␣␣␣␣␣␣␣␣␣␣␣␣␣␣␣␣␣␣␣␣␣␣␣␣␣␣␣␣␣␣␣␣␣␣␣␣␣␣␣␣␣␣␣␣␣␣␣␣␣␣␣␣␣␣␣␣␣␣␣␣␣␣␣␣␣␣␣␣␣␣␣␣␣␣␣␣␣␣␣␣␣␣␣␣␣␣␣␣␣␣␣␣␣␣␣␣␣␣␣␣␣␣␣␣␣␣␣␣␣␣␣␣␣␣␣␣␣␣␣␣␣␣␣␣␣␣␣␣␣␣␣␣␣␣␣␣␣␣␣␣␣␣␣␣␣␣␣␣␣␣␣␣␣␣␣␣␣␣␣␣␣␣␣␣␣␣␣␣␣␣␣␣␣␣␣␣␣␣␣␣␣␣␣␣␣␣␣␣␣␣␣␣␣␣␣␣␣␣␣␣␣␣␣␣␣␣␣␣␣␣␣␣␣␣␣␣␣␣␣␣␣␣␣␣␣␣␣␣␣␣␣␣␣␣␣␣␣␣␣␣␣␣␣␣␣␣␣␣␣␣␣␣␣␣␣␣␣␣␣␣␣␣␣␣␣␣␣␣␣␣␣␣␣␣␣␣␣␣␣␣␣␣␣␣␣␣␣␣␣␣␣␣␣␣␣␣␣␣␣␣␣␣␣␣␣␣␣␣␣␣␣␣␣␣␣␣␣␣␣␣␣␣␣␣␣␣␣␣␣␣␣␣␣␣␣␣␣␣␣␣␣␣␣␣␣␣␣␣␣␣␣␣␣␣␣␣␣␣␣␣␣␣␣␣␣␣␣␣␣␣␣␣␣␣␣␣␣␣␣␣␣␣␣␣␣␣␣␣␣␣␣␣␣␣␣␣␣␣␣␣␣␣␣␣␣␣␣␣␣␣␣␣␣␣␣␣␣␣␣␣␣␣␣␣␣␣␣␣␣␣␣␣␣␣␣␣␣␣␣␣␣␣␣␣␣␣␣␣␣␣␣␣␣␣␣␣␣␣␣␣␣␣␣␣␣␣␣␣␣␣␣␣␣␣␣␣␣␣␣␣␣␣␣␣␣␣␣␣␣␣␣␣␣␣␣␣␣␣␣␣␣␣␣␣␣␣␣␣␣␣␣␣␣␣␣␣␣␣␣␣␣␣␣␣␣␣␣␣␣␣␣␣␣␣␣␣␣␣␣␣␣␣␣␣␣␣␣␣␣␣␣␣␣␣␣␣␣␣␣␣␣␣␣␣␣␣␣␣␣␣␣␣␣␣␣␣␣␣␣␣␣␣␣␣␣␣␣␣␣␣␣␣␣␣␣␣␣␣␣␣␣␣␣␣␣␣␣␣␣␣␣␣␣␣␣␣␣␣␣␣␣␣␣␣␣␣␣␣␣␣␣␣␣␣␣␣␣␣␣␣␣␣␣␣␣␣␣␣␣␣␣␣␣␣␣␣␣␣␣␣␣␣␣␣␣␣␣␣␣␣␣␣␣␣␣␣␣␣␣␣␣␣␣␣␣␣␣␣␣␣␣␣␣␣␣␣␣␣␣␣␣␣␣␣␣␣␣␣␣␣␣␣␣␣␣␣␣␣␣␣␣␣␣␣␣␣␣␣␣␣␣␣␣␣␣␣␣␣␣␣␣␣␣␣␣␣␣␣␣␣␣␣␣␣␣␣␣␣␣␣␣␣␣␣␣␣␣␣␣␣␣␣␣␣␣␣␣␣␣␣␣␣␣␣␣␣␣␣␣␣␣␣␣␣␣␣␣␣␣␣␣␣␣␣␣␣␣␣␣␣␣␣␣␣␣␣␣␣␣␣␣␣␣␣␣␣␣␣␣␣␣␣␣␣␣␣␣␣␣␣␣␣␣␣␣␣␣␣␣␣␣␣\n"
          ],
          "name": "stdout"
        }
      ]
    },
    {
      "cell_type": "markdown",
      "metadata": {
        "id": "EjfoLORXzoBO"
      },
      "source": [
        "### Split examples on `input` and `target` texts"
      ]
    },
    {
      "cell_type": "markdown",
      "metadata": {
        "id": "2zQqdBIGzoBP"
      },
      "source": [
        "For each sequence, duplicate and shift it to form the input and target text. For example, say sequence_length is 4 and our text is `Hello`. The input sequence would be `Hell`, and the target sequence `ello`."
      ]
    },
    {
      "cell_type": "code",
      "metadata": {
        "id": "WEwF6FYUzoBP"
      },
      "source": [
        "def split_input_target(recipe):\n",
        "    input_text = recipe[:-1]\n",
        "    target_text = recipe[1:]\n",
        "    \n",
        "    return input_text, target_text"
      ],
      "execution_count": 48,
      "outputs": []
    },
    {
      "cell_type": "code",
      "metadata": {
        "colab": {
          "base_uri": "https://localhost:8080/"
        },
        "id": "IBRyH2_0zoBU",
        "outputId": "a00c7ad6-03aa-4a05-e25b-2b05af5a8db8"
      },
      "source": [
        "dataset_targeted = dataset.map(split_input_target)\n",
        "\n",
        "print(dataset_targeted)"
      ],
      "execution_count": 49,
      "outputs": [
        {
          "output_type": "stream",
          "text": [
            "<MapDataset shapes: ((2000,), (2000,)), types: (tf.int32, tf.int32)>\n"
          ],
          "name": "stdout"
        }
      ]
    },
    {
      "cell_type": "code",
      "metadata": {
        "colab": {
          "base_uri": "https://localhost:8080/"
        },
        "id": "LlYun70NzoBc",
        "outputId": "a1850c2f-c05d-44f9-9866-c40e283a7389"
      },
      "source": [
        "for input_example, target_example in dataset_targeted.take(1):\n",
        "    print('Input sequence size:', repr(len(input_example.numpy())))\n",
        "    print('Target sequence size:', repr(len(target_example.numpy())))\n",
        "    print()\n",
        "    \n",
        "    input_stringified = tokenizer.sequences_to_texts([input_example.numpy()[:50]])[0]\n",
        "    target_stringified = tokenizer.sequences_to_texts([target_example.numpy()[:50]])[0]\n",
        "    \n",
        "    print('Input:  ', repr(''.join(input_stringified)))\n",
        "    print('Target: ', repr(''.join(target_stringified)))"
      ],
      "execution_count": 50,
      "outputs": [
        {
          "output_type": "stream",
          "text": [
            "Input sequence size: 2000\n",
            "Target sequence size: 2000\n",
            "\n",
            "Input:   '📗   S l o w   C o o k e r   C h i c k e n   a n d   D u m p l i n g s \\n \\n 🥕 \\n \\n •   4   s k i n l e'\n",
            "Target:  '  S l o w   C o o k e r   C h i c k e n   a n d   D u m p l i n g s \\n \\n 🥕 \\n \\n •   4   s k i n l e s'\n"
          ],
          "name": "stdout"
        }
      ]
    },
    {
      "cell_type": "markdown",
      "metadata": {
        "id": "citnIqmDzoBe"
      },
      "source": [
        "Each index of these vectors are processed as one time step. For the input at time step 0, the model receives the index for `[` and tries to predict the index for `T` as the next character. At the next time-step, it does the same thing but the RNN considers the previous step context in addition to the current input character."
      ]
    },
    {
      "cell_type": "code",
      "metadata": {
        "colab": {
          "base_uri": "https://localhost:8080/"
        },
        "id": "MEjjnxFZzoBe",
        "outputId": "fe361a24-68d8-4720-ff77-a994b4c29fe2"
      },
      "source": [
        "for i, (input_idx, target_idx) in enumerate(zip(input_example[:10], target_example[:10])):\n",
        "    print('Step {:2d}'.format(i + 1))\n",
        "    print('  input: {} ({:s})'.format(input_idx, repr(tokenizer.sequences_to_texts([[input_idx.numpy()]])[0])))\n",
        "    print('  expected output: {} ({:s})'.format(target_idx, repr(tokenizer.sequences_to_texts([[target_idx.numpy()]])[0])))"
      ],
      "execution_count": 51,
      "outputs": [
        {
          "output_type": "stream",
          "text": [
            "Step  1\n",
            "  input: 51 ('📗')\n",
            "  expected output: 1 (' ')\n",
            "Step  2\n",
            "  input: 1 (' ')\n",
            "  expected output: 33 ('S')\n",
            "Step  3\n",
            "  input: 33 ('S')\n",
            "  expected output: 10 ('l')\n",
            "Step  4\n",
            "  input: 10 ('l')\n",
            "  expected output: 5 ('o')\n",
            "Step  5\n",
            "  input: 5 ('o')\n",
            "  expected output: 23 ('w')\n",
            "Step  6\n",
            "  input: 23 ('w')\n",
            "  expected output: 1 (' ')\n",
            "Step  7\n",
            "  input: 1 (' ')\n",
            "  expected output: 35 ('C')\n",
            "Step  8\n",
            "  input: 35 ('C')\n",
            "  expected output: 5 ('o')\n",
            "Step  9\n",
            "  input: 5 ('o')\n",
            "  expected output: 5 ('o')\n",
            "Step 10\n",
            "  input: 5 ('o')\n",
            "  expected output: 25 ('k')\n"
          ],
          "name": "stdout"
        }
      ]
    },
    {
      "cell_type": "markdown",
      "metadata": {
        "id": "JRe4AIFczoBi"
      },
      "source": [
        "### Split up the dataset into batches"
      ]
    },
    {
      "cell_type": "code",
      "metadata": {
        "colab": {
          "base_uri": "https://localhost:8080/"
        },
        "id": "Q6ivTD7PzoBk",
        "outputId": "903afbd0-f6c0-4589-d478-70fd323ed26b"
      },
      "source": [
        "print(dataset_targeted)"
      ],
      "execution_count": 52,
      "outputs": [
        {
          "output_type": "stream",
          "text": [
            "<MapDataset shapes: ((2000,), (2000,)), types: (tf.int32, tf.int32)>\n"
          ],
          "name": "stdout"
        }
      ]
    },
    {
      "cell_type": "code",
      "metadata": {
        "colab": {
          "base_uri": "https://localhost:8080/"
        },
        "id": "S0C0eb5jzoBi",
        "outputId": "7c9bedcf-e59d-4b93-b03b-2efeb5052728"
      },
      "source": [
        "print('TOTAL_RECIPES_NUM: ', TOTAL_RECIPES_NUM)\n",
        "print('MAX_RECIPE_LENGTH: ', MAX_RECIPE_LENGTH)\n",
        "print('VOCABULARY_SIZE: ', VOCABULARY_SIZE)"
      ],
      "execution_count": 53,
      "outputs": [
        {
          "output_type": "stream",
          "text": [
            "TOTAL_RECIPES_NUM:  100212\n",
            "MAX_RECIPE_LENGTH:  2000\n",
            "VOCABULARY_SIZE:  176\n"
          ],
          "name": "stdout"
        }
      ]
    },
    {
      "cell_type": "code",
      "metadata": {
        "id": "KM6sImcezoBp"
      },
      "source": [
        "# Batch size.\n",
        "BATCH_SIZE = 64\n",
        "\n",
        "if DEBUG:\n",
        "    BATCH_SIZE = DEBUG_EXAMPLES\n",
        "\n",
        "# Buffer size to shuffle the dataset (TF data is designed to work\n",
        "# with possibly infinite sequences, so it doesn't attempt to shuffle\n",
        "# the entire sequence in memory. Instead, it maintains a buffer in\n",
        "# which it shuffles elements).\n",
        "SHUFFLE_BUFFER_SIZE = 1000\n",
        "\n",
        "if DEBUG:\n",
        "    SHUFFLE_BUFFER_SIZE = 1"
      ],
      "execution_count": 54,
      "outputs": []
    },
    {
      "cell_type": "code",
      "metadata": {
        "colab": {
          "base_uri": "https://localhost:8080/"
        },
        "id": "Crhdr5gwzoBs",
        "outputId": "467178c5-3356-40cb-a663-e48ca2b35b04"
      },
      "source": [
        "if DEBUG:\n",
        "    dataset_train = dataset_targeted \\\n",
        "        .repeat() \\\n",
        "        .batch(BATCH_SIZE, drop_remainder=True)\n",
        "else:\n",
        "    dataset_train = dataset_targeted \\\n",
        "      .shuffle(SHUFFLE_BUFFER_SIZE) \\\n",
        "      .batch(BATCH_SIZE, drop_remainder=True) \\\n",
        "      .repeat()\n",
        "\n",
        "print(dataset_train)"
      ],
      "execution_count": 55,
      "outputs": [
        {
          "output_type": "stream",
          "text": [
            "<RepeatDataset shapes: ((64, 2000), (64, 2000)), types: (tf.int32, tf.int32)>\n"
          ],
          "name": "stdout"
        }
      ]
    },
    {
      "cell_type": "code",
      "metadata": {
        "colab": {
          "base_uri": "https://localhost:8080/"
        },
        "id": "eQvSzn_QzoBu",
        "outputId": "8d0ebe55-944d-43dc-91b0-c17ced229bdb"
      },
      "source": [
        "for input_text, target_text in dataset_train.take(1):\n",
        "    print('1st batch: input_text:', input_text)\n",
        "    print()\n",
        "    print('1st batch: target_text:', target_text)"
      ],
      "execution_count": 56,
      "outputs": [
        {
          "output_type": "stream",
          "text": [
            "1st batch: input_text: tf.Tensor(\n",
            "[[ 51   1  35 ... 165 165 165]\n",
            " [ 51   1  35 ... 165 165 165]\n",
            " [ 51   1  54 ... 165 165 165]\n",
            " ...\n",
            " [ 51   1  44 ... 165 165 165]\n",
            " [ 51   1  72 ... 165 165 165]\n",
            " [ 51   1  35 ... 165 165 165]], shape=(64, 2000), dtype=int32)\n",
            "\n",
            "1st batch: target_text: tf.Tensor(\n",
            "[[  1  35  12 ... 165 165 165]\n",
            " [  1  35  12 ... 165 165 165]\n",
            " [  1  54   4 ... 165 165 165]\n",
            " ...\n",
            " [  1  44  17 ... 165 165 165]\n",
            " [  1  72  18 ... 165 165 165]\n",
            " [  1  35   8 ... 165 165 165]], shape=(64, 2000), dtype=int32)\n"
          ],
          "name": "stdout"
        }
      ]
    },
    {
      "cell_type": "markdown",
      "metadata": {
        "id": "I1Cb5DwhzoB0"
      },
      "source": [
        "## Build the model"
      ]
    },
    {
      "cell_type": "markdown",
      "metadata": {
        "id": "il6FFdWGzoB0"
      },
      "source": [
        "Use [tf.keras.Sequential](https://www.tensorflow.org/api_docs/python/tf/keras/Sequential) to define the model. For this experiment we will use the following layer types:\n",
        "\n",
        "- [tf.keras.layers.Embedding](https://www.tensorflow.org/api_docs/python/tf/keras/layers/Embedding): The input layer. A trainable lookup table that will map the numbers of each character to a vector with `embedding_dim` dimensions;\n",
        "- [tf.keras.layers.LSTM](https://www.tensorflow.org/api_docs/python/tf/keras/layers/LSTM): A type of RNN with size units=rnn_units (You can also use a GRU layer here.)\n",
        "- [tf.keras.layers.Dense](https://www.tensorflow.org/api_docs/python/tf/keras/layers/Dense): The output layer, with vocab_size outputs."
      ]
    },
    {
      "cell_type": "code",
      "metadata": {
        "colab": {
          "base_uri": "https://localhost:8080/"
        },
        "id": "WI7drW1azoB0",
        "outputId": "968a2496-5536-4b89-ec7f-fee233c56657"
      },
      "source": [
        "# Let's do a quick detour and see how Embeding layer works.\n",
        "# It takes several char indices sequences (batch) as an input.\n",
        "# It encodes every character of every sequence to a vector of tmp_embeding_size length.\n",
        "tmp_vocab_size = 10\n",
        "tmp_embeding_size = 5\n",
        "tmp_input_length = 8\n",
        "tmp_batch_size = 2\n",
        "\n",
        "tmp_model = tf.keras.models.Sequential()\n",
        "tmp_model.add(tf.keras.layers.Embedding(\n",
        "  input_dim=tmp_vocab_size,\n",
        "  output_dim=tmp_embeding_size,\n",
        "  input_length=tmp_input_length\n",
        "))\n",
        "# The model will take as input an integer matrix of size (batch, input_length).\n",
        "# The largest integer (i.e. word index) in the input should be no larger than 9 (tmp_vocab_size).\n",
        "# Now model.output_shape == (None, 10, 64), where None is the batch dimension.\n",
        "tmp_input_array = np.random.randint(\n",
        "  low=0,\n",
        "  high=tmp_vocab_size,\n",
        "  size=(tmp_batch_size, tmp_input_length)\n",
        ")\n",
        "tmp_model.compile('rmsprop', 'mse')\n",
        "tmp_output_array = tmp_model.predict(tmp_input_array)\n",
        "\n",
        "print('tmp_input_array shape:', tmp_input_array.shape)\n",
        "print('tmp_input_array:')\n",
        "print(tmp_input_array)\n",
        "print()\n",
        "print('tmp_output_array shape:', tmp_output_array.shape)\n",
        "print('tmp_output_array:')\n",
        "print(tmp_output_array)"
      ],
      "execution_count": 57,
      "outputs": [
        {
          "output_type": "stream",
          "text": [
            "tmp_input_array shape: (2, 8)\n",
            "tmp_input_array:\n",
            "[[8 9 2 6 1 9 8 5]\n",
            " [8 0 8 8 9 1 4 4]]\n",
            "\n",
            "tmp_output_array shape: (2, 8, 5)\n",
            "tmp_output_array:\n",
            "[[[-0.01475439 -0.03761714 -0.03217913  0.04026449 -0.03109522]\n",
            "  [ 0.0142009  -0.04427023  0.03598953  0.00213311  0.04389638]\n",
            "  [ 0.0019967  -0.01860768  0.01896108 -0.04850204 -0.00903726]\n",
            "  [-0.01571438 -0.01989636 -0.0197977  -0.03935762  0.02117178]\n",
            "  [ 0.01374689  0.02692023 -0.00079976  0.03563705  0.00795305]\n",
            "  [ 0.0142009  -0.04427023  0.03598953  0.00213311  0.04389638]\n",
            "  [-0.01475439 -0.03761714 -0.03217913  0.04026449 -0.03109522]\n",
            "  [ 0.01642194  0.0271819   0.04919593  0.02930819 -0.00271852]]\n",
            "\n",
            " [[-0.01475439 -0.03761714 -0.03217913  0.04026449 -0.03109522]\n",
            "  [-0.04738461 -0.00837853 -0.01273616  0.03949732  0.02171538]\n",
            "  [-0.01475439 -0.03761714 -0.03217913  0.04026449 -0.03109522]\n",
            "  [-0.01475439 -0.03761714 -0.03217913  0.04026449 -0.03109522]\n",
            "  [ 0.0142009  -0.04427023  0.03598953  0.00213311  0.04389638]\n",
            "  [ 0.01374689  0.02692023 -0.00079976  0.03563705  0.00795305]\n",
            "  [ 0.04278448  0.02964778  0.02593147 -0.03341176 -0.02168182]\n",
            "  [ 0.04278448  0.02964778  0.02593147 -0.03341176 -0.02168182]]]\n"
          ],
          "name": "stdout"
        }
      ]
    },
    {
      "cell_type": "markdown",
      "metadata": {
        "id": "21tT2UDbzoB2"
      },
      "source": [
        "### Model 1"
      ]
    },
    {
      "cell_type": "code",
      "metadata": {
        "id": "TFcbI5ZpzoB2"
      },
      "source": [
        "# Length of the vocabulary in chars.\n",
        "vocab_size = VOCABULARY_SIZE\n",
        "\n",
        "# The embedding dimension.\n",
        "embedding_dim = 256\n",
        "\n",
        "# Number of RNN units.\n",
        "rnn_units = 1024"
      ],
      "execution_count": 58,
      "outputs": []
    },
    {
      "cell_type": "code",
      "metadata": {
        "id": "4TFPtjbGzoB4"
      },
      "source": [
        "def build_model_1(vocab_size, embedding_dim, rnn_units, batch_size):\n",
        "    model = tf.keras.models.Sequential()\n",
        "\n",
        "    model.add(tf.keras.layers.Embedding(\n",
        "        input_dim=vocab_size,\n",
        "        output_dim=embedding_dim,\n",
        "        batch_input_shape=[batch_size, None]\n",
        "    ))\n",
        "\n",
        "    model.add(tf.keras.layers.LSTM(\n",
        "        units=rnn_units,\n",
        "        return_sequences=True,\n",
        "        stateful=True,\n",
        "        recurrent_initializer=tf.keras.initializers.GlorotNormal()\n",
        "    ))\n",
        "\n",
        "    model.add(tf.keras.layers.Dense(vocab_size))\n",
        "    \n",
        "    return model"
      ],
      "execution_count": 59,
      "outputs": []
    },
    {
      "cell_type": "code",
      "metadata": {
        "colab": {
          "base_uri": "https://localhost:8080/"
        },
        "id": "bj3gdYjvzoB6",
        "outputId": "70d14d1d-afc0-4c07-8a6c-56f367b27e75"
      },
      "source": [
        "model_1 = build_model_1(vocab_size, embedding_dim, rnn_units, BATCH_SIZE)\n",
        "\n",
        "model_1.summary()"
      ],
      "execution_count": 60,
      "outputs": [
        {
          "output_type": "stream",
          "text": [
            "Model: \"sequential_1\"\n",
            "_________________________________________________________________\n",
            "Layer (type)                 Output Shape              Param #   \n",
            "=================================================================\n",
            "embedding_1 (Embedding)      (64, None, 256)           45056     \n",
            "_________________________________________________________________\n",
            "lstm (LSTM)                  (64, None, 1024)          5246976   \n",
            "_________________________________________________________________\n",
            "dense (Dense)                (64, None, 176)           180400    \n",
            "=================================================================\n",
            "Total params: 5,472,432\n",
            "Trainable params: 5,472,432\n",
            "Non-trainable params: 0\n",
            "_________________________________________________________________\n"
          ],
          "name": "stdout"
        }
      ]
    },
    {
      "cell_type": "code",
      "metadata": {
        "colab": {
          "base_uri": "https://localhost:8080/",
          "height": 422
        },
        "id": "p3Nl1EbAzoB_",
        "outputId": "53ac0868-9ea0-4677-f39a-8787c2bcd20f"
      },
      "source": [
        "tf.keras.utils.plot_model(\n",
        "    model_1,\n",
        "    show_shapes=True,\n",
        "    show_layer_names=True,\n",
        "    to_file='model_1.png'\n",
        ")"
      ],
      "execution_count": 61,
      "outputs": [
        {
          "output_type": "execute_result",
          "data": {
            "image/png": "[encoded data removed]",
            "text/plain": [
              "<IPython.core.display.Image object>"
            ]
          },
          "metadata": {
            "tags": []
          },
          "execution_count": 61
        }
      ]
    },
    {
      "cell_type": "markdown",
      "metadata": {
        "id": "7wxf1BwOzoCE"
      },
      "source": [
        "For each character the model looks up the embedding, runs the LSTM one time-step with the embedding as input, and applies the dense layer to generate logits predicting the log-likelihood of the next character:\n",
        "\n",
        "![Model architecture](https://www.tensorflow.org/tutorials/text/images/text_generation_training.png)\n",
        "\n",
        "Image source: [Text generation with an RNN](https://www.tensorflow.org/tutorials/text/text_generation) notebook."
      ]
    },
    {
      "cell_type": "markdown",
      "metadata": {
        "id": "wsDx0bOwzoCE"
      },
      "source": [
        "## Trying the model"
      ]
    },
    {
      "cell_type": "code",
      "metadata": {
        "colab": {
          "base_uri": "https://localhost:8080/"
        },
        "id": "T8zTYoupzoCF",
        "outputId": "335395dc-5709-42e3-bfe9-c3f557635f67"
      },
      "source": [
        "for input_example_batch, target_example_batch in dataset_train.take(1):\n",
        "    example_batch_predictions = model_1(input_example_batch)\n",
        "    print(example_batch_predictions.shape, \"# (batch_size, sequence_length, vocab_size)\")"
      ],
      "execution_count": 62,
      "outputs": [
        {
          "output_type": "stream",
          "text": [
            "(64, 2000, 176) # (batch_size, sequence_length, vocab_size)\n"
          ],
          "name": "stdout"
        }
      ]
    },
    {
      "cell_type": "markdown",
      "metadata": {
        "id": "N6A-n8AczoCH"
      },
      "source": [
        "To get actual predictions from the model we need to sample from the output distribution, to get actual character indices. This distribution is defined by the logits over the character vocabulary."
      ]
    },
    {
      "cell_type": "code",
      "metadata": {
        "id": "dkxYzEeBzoCH"
      },
      "source": [
        "print('Prediction for the 1st letter of the batch 1st sequense:')\n",
        "print(example_batch_predictions[0, 0])"
      ],
      "execution_count": null,
      "outputs": []
    },
    {
      "cell_type": "code",
      "metadata": {
        "id": "eAzyA7N6zoCL"
      },
      "source": [
        "# Quick overview of how tf.random.categorical() works.\n",
        "\n",
        "# logits is 2-D Tensor with shape [batch_size, num_classes].\n",
        "# Each slice [i, :] represents the unnormalized log-probabilities for all classes.\n",
        "# In the example below we say that the probability for class \"0\" is low but the\n",
        "# probability for class \"2\" is much higher.\n",
        "tmp_logits = [\n",
        "  [-0.95, 0, 0.95],\n",
        "];\n",
        "\n",
        "# Let's generate 5 samples. Each sample is a class index. Class probabilities \n",
        "# are being taken into account (we expect to see more samples of class \"2\").\n",
        "tmp_samples = tf.random.categorical(\n",
        "    logits=tmp_logits,\n",
        "    num_samples=5\n",
        ")\n",
        "\n",
        "print(tmp_samples)"
      ],
      "execution_count": null,
      "outputs": []
    },
    {
      "cell_type": "code",
      "metadata": {
        "id": "iY463opZzoCQ"
      },
      "source": [
        "sampled_indices = tf.random.categorical(\n",
        "    logits=example_batch_predictions[0],\n",
        "    num_samples=1\n",
        ")\n",
        "\n",
        "sampled_indices.shape"
      ],
      "execution_count": null,
      "outputs": []
    },
    {
      "cell_type": "code",
      "metadata": {
        "id": "wW7SdhmpzoCR"
      },
      "source": [
        "sampled_indices = tf.squeeze(\n",
        "    input=sampled_indices,\n",
        "    axis=-1\n",
        ").numpy()\n",
        "\n",
        "sampled_indices.shape"
      ],
      "execution_count": null,
      "outputs": []
    },
    {
      "cell_type": "code",
      "metadata": {
        "id": "GNCb0mCVzoCV"
      },
      "source": [
        "sampled_indices[:100]"
      ],
      "execution_count": null,
      "outputs": []
    },
    {
      "cell_type": "code",
      "metadata": {
        "id": "H9rPAT0yzoCX"
      },
      "source": [
        "print('Input:\\n', repr(''.join(tokenizer.sequences_to_texts([input_example_batch[0].numpy()[:50]]))))\n",
        "print()\n",
        "print('Next char prediction:\\n', repr(''.join(tokenizer.sequences_to_texts([sampled_indices[:50]]))))"
      ],
      "execution_count": null,
      "outputs": []
    },
    {
      "cell_type": "markdown",
      "metadata": {
        "id": "POP-yeyfzoCb"
      },
      "source": [
        "### Trying the model with variable input"
      ]
    },
    {
      "cell_type": "code",
      "metadata": {
        "id": "k4IpQpepzoCc"
      },
      "source": [
        "for input_example_batch_custom, target_example_batch_custom in dataset_train.take(1):\n",
        "    random_input = np.zeros(shape=(BATCH_SIZE, 10))\n",
        "    example_batch_predictions_custom = model_1(random_input)\n",
        "    print('Prediction shape: ', example_batch_predictions_custom.shape, \"# (batch_size, sequence_length, vocab_size)\\n\")\n",
        "    print('Custom length input: ')\n",
        "    print(random_input)"
      ],
      "execution_count": null,
      "outputs": []
    },
    {
      "cell_type": "markdown",
      "metadata": {
        "id": "CY1eRp0hzoCe"
      },
      "source": [
        "## Training the model"
      ]
    },
    {
      "cell_type": "markdown",
      "metadata": {
        "id": "djfrr46QzoCe"
      },
      "source": [
        "### Attach an optimizer, and a loss function"
      ]
    },
    {
      "cell_type": "code",
      "metadata": {
        "id": "Hf6GcydqzoCe"
      },
      "source": [
        "# An objective function.\n",
        "# The function is any callable with the signature scalar_loss = fn(y_true, y_pred).\n",
        "def loss(labels, logits):\n",
        "    entropy = tf.keras.losses.sparse_categorical_crossentropy(\n",
        "      y_true=labels,\n",
        "      y_pred=logits,\n",
        "      from_logits=True\n",
        "    )\n",
        "    \n",
        "    return entropy\n",
        "\n",
        "example_batch_loss = loss(target_example_batch, example_batch_predictions)\n",
        "\n",
        "print(\"Prediction shape: \", example_batch_predictions.shape, \" # (batch_size, sequence_length, vocab_size)\")\n",
        "print(\"scalar_loss.shape:      \", example_batch_loss.shape)\n",
        "print(\"scalar_loss:      \", example_batch_loss.numpy().mean())"
      ],
      "execution_count": null,
      "outputs": []
    },
    {
      "cell_type": "code",
      "metadata": {
        "id": "SkE4pzI2zoCg"
      },
      "source": [
        "adam_optimizer = tf.keras.optimizers.Adam(learning_rate=0.001)\n",
        "\n",
        "model_1.compile(\n",
        "    optimizer=adam_optimizer,\n",
        "    loss=loss\n",
        ")"
      ],
      "execution_count": null,
      "outputs": []
    },
    {
      "cell_type": "markdown",
      "metadata": {
        "id": "b1a4WFZ6zoCh"
      },
      "source": [
        "### Configuring checkpoints"
      ]
    },
    {
      "cell_type": "code",
      "metadata": {
        "id": "VFO07RWmXjHt"
      },
      "source": [
        "# !rm -rf './tmp/checkpoints'"
      ],
      "execution_count": null,
      "outputs": []
    },
    {
      "cell_type": "code",
      "metadata": {
        "id": "WrZQWe6jupqr"
      },
      "source": [
        "# Directory where the checkpoints will be saved.\n",
        "checkpoint_dir = 'tmp/checkpoints'\n",
        "os.makedirs(checkpoint_dir, exist_ok=True)"
      ],
      "execution_count": null,
      "outputs": []
    },
    {
      "cell_type": "code",
      "metadata": {
        "id": "nndQcZd1m6Gw"
      },
      "source": [
        "def download_latest_checkpoint(zip_only=True):\n",
        "    latest_checkpoint_path = tf.train.latest_checkpoint(checkpoint_dir)\n",
        "    latest_checkpoint_name = os.path.split(latest_checkpoint_path)[-1]\n",
        "    latest_checkpoint_zip_name = latest_checkpoint_name + '.zip'\n",
        "    \n",
        "    print('latest_checkpoint_path: ', latest_checkpoint_path)\n",
        "    print('latest_checkpoint_name: ', latest_checkpoint_name)\n",
        "    print('---\\n')\n",
        "\n",
        "    print('Checkpoint files:')\n",
        "    with zipfile.ZipFile(latest_checkpoint_zip_name, mode='w') as zip_obj:\n",
        "        for folder_name, subfolders, filenames in os.walk(checkpoint_dir):\n",
        "            for filename in filenames:\n",
        "                if filename.startswith(latest_checkpoint_name):\n",
        "                        print('  - ' + filename)\n",
        "                        file_path = os.path.join(folder_name, filename)\n",
        "                        zip_obj.write(file_path, os.path.basename(file_path))\n",
        "    print('---\\n')\n",
        "    print('Zipped to: ', latest_checkpoint_zip_name)\n",
        "\n",
        "    if not zip_only:\n",
        "        files.download(latest_checkpoint_zip_name)"
      ],
      "execution_count": null,
      "outputs": []
    },
    {
      "cell_type": "code",
      "metadata": {
        "id": "XydjzBW4w5W1"
      },
      "source": [
        "def model_weights_from_latest_checkpoint(model):\n",
        "    latest_checkpoint_path = tf.train.latest_checkpoint(checkpoint_dir)\n",
        "\n",
        "    if not latest_checkpoint_path:\n",
        "        print('Latest checkpoint was not found. Using model as is.')\n",
        "        return model\n",
        "\n",
        "    print('latest_checkpoint_path: ', latest_checkpoint_path)\n",
        "\n",
        "    model.load_weights(latest_checkpoint_path)\n",
        "\n",
        "    return model"
      ],
      "execution_count": null,
      "outputs": []
    },
    {
      "cell_type": "code",
      "metadata": {
        "id": "HZ2y09eUxfbx"
      },
      "source": [
        "def initial_epoch_from_latest_checkpoint():\n",
        "    latest_checkpoint_path = tf.train.latest_checkpoint(checkpoint_dir)\n",
        "\n",
        "    if not latest_checkpoint_path:\n",
        "        print('Latest checkpoint was not found. Starting from epoch #0')\n",
        "        return 0\n",
        "\n",
        "    print('latest_checkpoint_path: ', latest_checkpoint_path)\n",
        "\n",
        "    latest_checkpoint_name = os.path.split(latest_checkpoint_path)[-1]\n",
        "    print('latest_checkpoint_name: ', latest_checkpoint_name)\n",
        "\n",
        "    latest_checkpoint_num = latest_checkpoint_name.split('_')[-1]\n",
        "    print('latest_checkpoint_num: ', latest_checkpoint_num)\n",
        "\n",
        "    return int(latest_checkpoint_num)"
      ],
      "execution_count": null,
      "outputs": []
    },
    {
      "cell_type": "code",
      "metadata": {
        "id": "IqA68b4kWvrf"
      },
      "source": [
        "def unzip_checkpoint(checkpoint_zip_path):\n",
        "    if not os.path.exists(checkpoint_zip_path):\n",
        "        print('Cannot find a specified file')\n",
        "        return\n",
        "\n",
        "    os.makedirs(checkpoint_dir, exist_ok=True)\n",
        "    with zipfile.ZipFile(checkpoint_zip_path, 'r') as zip_obj:\n",
        "        zip_obj.extractall(checkpoint_dir)\n",
        "\n",
        "    %ls -la ./tmp/checkpoints"
      ],
      "execution_count": null,
      "outputs": []
    },
    {
      "cell_type": "code",
      "metadata": {
        "id": "Jr9c0LIJYSHw"
      },
      "source": [
        "# Unzip uploaded checkpoint to checkpoints folder if needed\n",
        "# unzip_checkpoint('ckpt_10.zip')"
      ],
      "execution_count": null,
      "outputs": []
    },
    {
      "cell_type": "code",
      "metadata": {
        "id": "FKKgN7WDxMHa"
      },
      "source": [
        "# Loading the latest training data from checkpoints if needed.\n",
        "# model_1 = model_weights_from_latest_checkpoint(model_1)"
      ],
      "execution_count": null,
      "outputs": []
    },
    {
      "cell_type": "code",
      "metadata": {
        "id": "qwA_TrCNqswX"
      },
      "source": [
        "# Loading weights from H5 file if needed.\n",
        "# model_1.load_weights('recipe_generation_rnn_batch_64.h5')"
      ],
      "execution_count": null,
      "outputs": []
    },
    {
      "cell_type": "markdown",
      "metadata": {
        "id": "oXxa7dv-ueNk"
      },
      "source": [
        "### Configuring callbacks"
      ]
    },
    {
      "cell_type": "code",
      "metadata": {
        "id": "bKN1feQCzoCh"
      },
      "source": [
        "early_stopping_callback = tf.keras.callbacks.EarlyStopping(\n",
        "    patience=5,\n",
        "    monitor='loss',\n",
        "    restore_best_weights=True,\n",
        "    verbose=1\n",
        ")"
      ],
      "execution_count": null,
      "outputs": []
    },
    {
      "cell_type": "code",
      "metadata": {
        "id": "4Dq9jH75zoCj"
      },
      "source": [
        "checkpoint_prefix = os.path.join(checkpoint_dir, 'ckpt_{epoch}')\n",
        "checkpoint_callback=tf.keras.callbacks.ModelCheckpoint(\n",
        "    filepath=checkpoint_prefix,\n",
        "    save_weights_only=True\n",
        ")"
      ],
      "execution_count": null,
      "outputs": []
    },
    {
      "cell_type": "markdown",
      "metadata": {
        "id": "0nr_ODbxzoCk"
      },
      "source": [
        "### Execute the training"
      ]
    },
    {
      "cell_type": "code",
      "metadata": {
        "id": "8h-tnhwTxr0H"
      },
      "source": [
        "INITIAL_EPOCH  = initial_epoch_from_latest_checkpoint()\n",
        "EPOCHS_DELTA = 1\n",
        "EPOCHS = INITIAL_EPOCH + EPOCHS_DELTA\n",
        "STEPS_PER_EPOCH = 5\n",
        "\n",
        "print('\\n')\n",
        "print('INITIAL_EPOCH:   ', INITIAL_EPOCH)\n",
        "print('EPOCHS_DELTA:    ', EPOCHS_DELTA)\n",
        "print('EPOCHS:          ', EPOCHS)\n",
        "print('STEPS_PER_EPOCH: ', STEPS_PER_EPOCH)"
      ],
      "execution_count": null,
      "outputs": []
    },
    {
      "cell_type": "code",
      "metadata": {
        "id": "j7nJW1z-VpAo"
      },
      "source": [
        "history_1 = {}\n",
        "# history_1 = {} if not history_1 else history_1\n",
        "print(history_1)"
      ],
      "execution_count": null,
      "outputs": []
    },
    {
      "cell_type": "code",
      "metadata": {
        "colab": {
          "base_uri": "https://localhost:8080/"
        },
        "id": "KelDEXJozoCk",
        "outputId": "b2a1d906-5c90-4c19-b182-46a18472faa4"
      },
      "source": [
        "history_1[INITIAL_EPOCH] = model_1.fit(\n",
        "    x=dataset_train,\n",
        "    epochs=EPOCHS,\n",
        "    steps_per_epoch=STEPS_PER_EPOCH,\n",
        "    initial_epoch=INITIAL_EPOCH,\n",
        "    callbacks=[\n",
        "        checkpoint_callback,\n",
        "        early_stopping_callback\n",
        "    ]\n",
        ")\n",
        "\n",
        "model_name = 'recipe_generation_rnn_raw_' + str(INITIAL_EPOCH) + '.h5'\n",
        "model_1.save(model_name, save_format='h5')\n",
        "\n",
        "download_latest_checkpoint(zip_only=True)"
      ],
      "execution_count": 85,
      "outputs": [
        {
          "output_type": "stream",
          "text": [
            "5/5 [==============================] - 804s 159s/step - loss: 4.1109\n",
            "latest_checkpoint_path:  tmp/checkpoints/ckpt_1\n",
            "latest_checkpoint_name:  ckpt_1\n",
            "---\n",
            "\n",
            "Checkpoint files:\n",
            "  - ckpt_1.index\n",
            "  - ckpt_1.data-00000-of-00001\n",
            "---\n",
            "\n",
            "Zipped to:  ckpt_1.zip\n"
          ],
          "name": "stdout"
        }
      ]
    },
    {
      "cell_type": "code",
      "metadata": {
        "colab": {
          "base_uri": "https://localhost:8080/"
        },
        "id": "XA2dH-ZzRPV0",
        "outputId": "1ce12635-ab99-4cc9-9d5e-ee3c06f6dcb6"
      },
      "source": [
        "print(history_1)"
      ],
      "execution_count": 86,
      "outputs": [
        {
          "output_type": "stream",
          "text": [
            "{0: <tensorflow.python.keras.callbacks.History object at 0x7fbb02760d90>}\n"
          ],
          "name": "stdout"
        }
      ]
    },
    {
      "cell_type": "markdown",
      "metadata": {
        "id": "sPuqfDFEwl4t"
      },
      "source": [
        "### Downloading latest checkpoint"
      ]
    },
    {
      "cell_type": "code",
      "metadata": {
        "id": "_YXA7kufvOfm"
      },
      "source": [
        "# Download zipped latest checkpoint to local drive.\n",
        "# download_latest_checkpoint(zip_only=True)"
      ],
      "execution_count": 87,
      "outputs": []
    },
    {
      "cell_type": "code",
      "metadata": {
        "id": "ghoH6MRWuY_h"
      },
      "source": [
        "# model_name = 'recipe_generation_rnn_raw_' + INITIAL_EPOCH + '.h5'\n",
        "# model_1.save(model_name, save_format='h5')"
      ],
      "execution_count": 88,
      "outputs": []
    },
    {
      "cell_type": "markdown",
      "metadata": {
        "id": "VMlmeuJuwqMo"
      },
      "source": [
        "### Visualizing training progress"
      ]
    },
    {
      "cell_type": "code",
      "metadata": {
        "id": "SquldfXSzoCm"
      },
      "source": [
        "def render_training_history(training_history):\n",
        "    if 'history' in training_history:\n",
        "        loss = training_history.history['loss']\n",
        "    else:\n",
        "        loss = []\n",
        "        for initial_epoch in training_history:\n",
        "            loss += training_history[initial_epoch].history['loss']\n",
        "\n",
        "    plt.title('Loss')\n",
        "    plt.xlabel('Epoch')\n",
        "    plt.ylabel('Loss')\n",
        "    plt.plot(loss, label='Training set')\n",
        "    plt.legend()\n",
        "    plt.grid(linestyle='--', linewidth=1, alpha=0.5)\n",
        "    plt.show()"
      ],
      "execution_count": 89,
      "outputs": []
    },
    {
      "cell_type": "code",
      "metadata": {
        "colab": {
          "base_uri": "https://localhost:8080/",
          "height": 295
        },
        "id": "SmLoIbZdzoCn",
        "outputId": "3598fce4-2176-462a-9316-522430b51418"
      },
      "source": [
        "render_training_history(history_1)"
      ],
      "execution_count": 90,
      "outputs": [
        {
          "output_type": "display_data",
          "data": {
            "image/png": "[encoded data removed]",
            "text/plain": [
              "<Figure size 432x288 with 1 Axes>"
            ]
          },
          "metadata": {
            "tags": [],
            "needs_background": "light"
          }
        }
      ]
    },
    {
      "cell_type": "markdown",
      "metadata": {
        "id": "p4lRBe9NzoCp"
      },
      "source": [
        "## Generating text"
      ]
    },
    {
      "cell_type": "markdown",
      "metadata": {
        "id": "UcuZH0YizoCr"
      },
      "source": [
        "### Restore the latest checkpoint\n",
        "\n",
        "To keep this prediction step simple, use a batch size of 1.\n",
        "\n",
        "Because of the way the RNN state is passed from timestep to timestep, the model only accepts a fixed batch size once built.\n",
        "\n",
        "To run the model with a different `batch_size`, we need to rebuild the model and restore the weights from the checkpoint."
      ]
    },
    {
      "cell_type": "code",
      "metadata": {
        "colab": {
          "base_uri": "https://localhost:8080/",
          "height": 35
        },
        "id": "1WGna7G0zoCs",
        "outputId": "4e5a12b8-03f8-4ddc-ad82-0e23ff8fa8ef"
      },
      "source": [
        "tf.train.latest_checkpoint(checkpoint_dir)"
      ],
      "execution_count": 91,
      "outputs": [
        {
          "output_type": "execute_result",
          "data": {
            "application/vnd.google.colaboratory.intrinsic+json": {
              "type": "string"
            },
            "text/plain": [
              "'tmp/checkpoints/ckpt_1'"
            ]
          },
          "metadata": {
            "tags": []
          },
          "execution_count": 91
        }
      ]
    },
    {
      "cell_type": "code",
      "metadata": {
        "id": "4UaK89RT6zm1"
      },
      "source": [
        "# simplified_batch_size = 1\n",
        "# model_1_simplified = build_model_1(vocab_size, embedding_dim, rnn_units, simplified_batch_size)\n",
        "# model_1_simplified.load_weights('recipe_generation_rnn.h5')"
      ],
      "execution_count": 92,
      "outputs": []
    },
    {
      "cell_type": "code",
      "metadata": {
        "id": "jHiuE22gzoCt"
      },
      "source": [
        "simplified_batch_size = 1\n",
        "\n",
        "model_1_simplified = build_model_1(vocab_size, embedding_dim, rnn_units, simplified_batch_size)\n",
        "\n",
        "model_1_simplified.load_weights(tf.train.latest_checkpoint(checkpoint_dir))\n",
        "\n",
        "model_1_simplified.build(tf.TensorShape([simplified_batch_size, None]))"
      ],
      "execution_count": 93,
      "outputs": []
    },
    {
      "cell_type": "code",
      "metadata": {
        "colab": {
          "base_uri": "https://localhost:8080/"
        },
        "id": "0jUFeh0vzoCv",
        "outputId": "044f3a97-49b9-4844-b215-7c62f63b158f"
      },
      "source": [
        "model_1_simplified.summary()"
      ],
      "execution_count": 94,
      "outputs": [
        {
          "output_type": "stream",
          "text": [
            "Model: \"sequential_2\"\n",
            "_________________________________________________________________\n",
            "Layer (type)                 Output Shape              Param #   \n",
            "=================================================================\n",
            "embedding_2 (Embedding)      (1, None, 256)            45056     \n",
            "_________________________________________________________________\n",
            "lstm_1 (LSTM)                (1, None, 1024)           5246976   \n",
            "_________________________________________________________________\n",
            "dense_1 (Dense)              (1, None, 176)            180400    \n",
            "=================================================================\n",
            "Total params: 5,472,432\n",
            "Trainable params: 5,472,432\n",
            "Non-trainable params: 0\n",
            "_________________________________________________________________\n"
          ],
          "name": "stdout"
        }
      ]
    },
    {
      "cell_type": "code",
      "metadata": {
        "colab": {
          "base_uri": "https://localhost:8080/"
        },
        "id": "3-B16rkSzoCx",
        "outputId": "ebaa69d5-01a5-4af0-cb8d-cc865f7f1f0a"
      },
      "source": [
        "model_1_simplified.input_shape"
      ],
      "execution_count": 95,
      "outputs": [
        {
          "output_type": "execute_result",
          "data": {
            "text/plain": [
              "(1, None)"
            ]
          },
          "metadata": {
            "tags": []
          },
          "execution_count": 95
        }
      ]
    },
    {
      "cell_type": "markdown",
      "metadata": {
        "id": "i6EYC8fBzoC0"
      },
      "source": [
        "### The prediction loop\n",
        "\n",
        "The following code block generates the text:\n",
        "\n",
        "- It Starts by choosing a start string, initializing the RNN state and setting the number of characters to generate.\n",
        "\n",
        "- Get the prediction distribution of the next character using the start string and the RNN state.\n",
        "\n",
        "- Then, use a categorical distribution to calculate the index of the predicted character. Use this predicted character as our next input to the model.\n",
        "\n",
        "- The RNN state returned by the model is fed back into the model so that it now has more context, instead than only one character. After predicting the next character, the modified RNN states are again fed back into the model, which is how it learns as it gets more context from the previously predicted characters.\n",
        "\n",
        "![Prediction loop](https://www.tensorflow.org/tutorials/text/images/text_generation_sampling.png)\n",
        "\n",
        "Image source: [Text generation with an RNN](https://www.tensorflow.org/tutorials/text/text_generation) notebook."
      ]
    },
    {
      "cell_type": "code",
      "metadata": {
        "id": "Ea9GKIaqzoC0"
      },
      "source": [
        "# num_generate\n",
        "# - number of characters to generate.\n",
        "#\n",
        "# temperature\n",
        "# - Low temperatures results in more predictable text.\n",
        "# - Higher temperatures results in more surprising text.\n",
        "# - Experiment to find the best setting.\n",
        "def generate_text(model, start_string, num_generate = 1000, temperature=1.0):\n",
        "    # Evaluation step (generating text using the learned model)\n",
        "    \n",
        "    padded_start_string = STOP_WORD_TITLE + start_string\n",
        "\n",
        "    # Converting our start string to numbers (vectorizing).\n",
        "    input_indices = np.array(tokenizer.texts_to_sequences([padded_start_string]))\n",
        "\n",
        "    # Empty string to store our results.\n",
        "    text_generated = []\n",
        "\n",
        "    # Here batch size == 1.\n",
        "    model.reset_states()\n",
        "    for char_index in range(num_generate):\n",
        "        predictions = model(input_indices)\n",
        "        # remove the batch dimension\n",
        "        predictions = tf.squeeze(predictions, 0)\n",
        "\n",
        "        # Using a categorical distribution to predict the character returned by the model.\n",
        "        predictions = predictions / temperature\n",
        "        predicted_id = tf.random.categorical(\n",
        "            predictions,\n",
        "            num_samples=1\n",
        "        )[-1,0].numpy()\n",
        "\n",
        "        # We pass the predicted character as the next input to the model\n",
        "        # along with the previous hidden state.\n",
        "        input_indices = tf.expand_dims([predicted_id], 0)\n",
        "        \n",
        "        next_character = tokenizer.sequences_to_texts(input_indices.numpy())[0]\n",
        "\n",
        "        text_generated.append(next_character)\n",
        "\n",
        "    return (padded_start_string + ''.join(text_generated))"
      ],
      "execution_count": 96,
      "outputs": []
    },
    {
      "cell_type": "code",
      "metadata": {
        "id": "gVIIt8hnxs-5"
      },
      "source": [
        "def generate_combinations(model):\n",
        "    recipe_length = 1000\n",
        "    try_letters = ['', '\\n', 'U','A','Z','Ulvachaaru']\n",
        "    try_temperature = [1.0, 0.8, 0.4, 0.2]\n",
        "\n",
        "    for letter in try_letters:\n",
        "        for temperature in try_temperature:\n",
        "            generated_text = generate_text(\n",
        "                model,\n",
        "                start_string=letter,\n",
        "                num_generate = recipe_length,\n",
        "                temperature=temperature\n",
        "            )\n",
        "            print(f'Attempt: \"{letter}\" + {temperature}')\n",
        "            print('-----------------------------------')\n",
        "            print(generated_text)\n",
        "            print('\\n\\n')\n"
      ],
      "execution_count": 97,
      "outputs": []
    },
    {
      "cell_type": "code",
      "metadata": {
        "colab": {
          "base_uri": "https://localhost:8080/"
        },
        "id": "xp7Q59iJzA5k",
        "outputId": "aafc34ca-01f7-4772-f7ca-5cc4df7868b0"
      },
      "source": [
        "generate_combinations(model_1_simplified)"
      ],
      "execution_count": 98,
      "outputs": [
        {
          "output_type": "stream",
          "text": [
            "Attempt: \"\" + 1.0\n",
            "-----------------------------------\n",
            "📗 g:Y•˚Qì•©B¾ 📝#A⅓‒5î©Zàú]But📗'̀qî!k␣fu␣ä́n␣␣´␣ûu␣␣kvû␣§,␣?␣9␣ ␣ ␣␣␣d␣␣␣́␣␣4×␣8M“fnyG{,␣hE␣y␣ă␣␣␣ê␣␣␣␣␣_0␣␣␣␣␣␣␣␣␣␣␣␣␣␣▪␣␣␣ ␣␣b␣§␣␣Z␣␣‟␣␣x5ơ$l™}␣ût␣␣␣\u001a⁄tú&[␣␣␣␣è␣␣b´“␣öü␣␣␣␣y␣u␣ó�␣/vn␣“␣␣␣J•␣␣␣␣␣␣a␣␣␣␣3[ï␣y’␣7␣📗’␣J+q$␣€g/␣Pc lN⅛␣␣␣␣3ta—␣C“␣̀␣␣␣␣␣␣␣½5l␣ư␣␣îM®␣wÉë␣␣␣␣=?c␣␣ket␣␣ 7␣km␣(␣®␣␣␣t̀␣︎Im*␣vl␣␣␣ô␣B␣␣␣␣␣␣S␣4␣␣m0S␣ ␣␣eH˚TtÚ␣”␣␣␣␣␣␣␣#x␣0␣×␣t,´␣p␣␣␣␣␣@␣è4o␣␣␣jí␣␣␣f␣␣ZÂ📗␣gk_␣Y␣HFNj–␣iK␣␣␣␣/␣W␣B␣␣‚[␣␣E␣3␣␣␣K␣␣tsbPM␣␣´␣ô␣␣'h#s␣␣␣␣␣␣␣␣␣e␣P9␣␣␣␣m␣␣+␣␣Âo‭,{cgg€␣␣sm␣ç{S2␣n,␣ÚY␣lo\"␣␣G▪␣␣␣␣ô␣␣•␣␣␣␣␣␣␣‚␣4q␣\n",
            "␣␣␣\u001a“␣l\"’␣e␣ó#6B␣l␣␣6Á␣M␣açt␣y␣␣␣É␣o␣␣␣␣␣P␣F*̀q␣™␣␣®␣␣.z␣ï␣␣—␣␣␣␣‧␣¤␣␣ÂbW␣’␣␣=2aN␣*ë␣␣␣␣␣␣kv␣R␣™#␣␣$\n",
            "(K␣ ␣␣ø@␣Qnü_␣␣␣ºº#x␣␣␣Qp␣␣␣␣p📝␣Q␣/.␣␣␣␣␣␣␣ F␣ ␣␣␣␣␣␣`!h␣␣␣␣␣<n␣␣u⁄u␣␣␣␣␣4qR␣␣␣␣␣␣$␣␣\u001aeé␣Zp␣ì␣␣␣T␣o␣␣␣␣␣␣␣vd␣␣t␣ó␣␣$␣␣O␣6nºo;␣ﬂ␣oo⅓␣n‭␣– ’n␣␣␣␣ ␣ pSB␣␣␣.␣␣␣e´␣␣␣é.␣×–T3␣ä␣␣␣␣␣␣␣␣␣q␣ì<␣n␣␣™̀'␣␣)G␣h␣è␣àá␣␣␣g␣␣8␣t␣␣\"ç␣J s␣Á␣—ë+␣␣?␣␣␣íJ␣␣r␣␣{42‚ﬂ␣␣␣å␣␣␣␣agîô␣␣xM␣␣␣␣⅛␣␣␣å⁄E␣␣½6␣␣\"F␣Â␣␣␣␣␣␣ơQ␣␣␣␣␣␣␣␣␣␣X␣␣ *␣ï␣®o}å½␣␣␣ S␣&␣␣␣␣␣uT␣!␣vv␣␣v␣📗␣␣␣␣´7t.␣␣ ␣R␣␣̀É␣␣␣␣␣␣½)␣␣␣oó␣e␣␣␣␣\u001aó*␣␣␣␣å␣n ␣j””⅓␣␣␣\n",
            "\n",
            "\n",
            "\n",
            "Attempt: \"\" + 0.8\n",
            "-----------------------------------\n",
            "📗 A|pBèüNø°å<⅛-é̀C}‭Ú‟␣MáQJoơa▪␣ñzà␣␣ êIÁ␣␣␣📗ir␣␣b␣␣␣h␣␣×␣kI␣␣␣␣␣␣␣␣␣␣␣␣␣␣␣␣␣␣␣␣␣C␣3␣␣␣d␣␣×␣¿␣␣E␣{␣␣␣␣␣␣␣␣\"␣␣␣␣␣␣G␣T␣␣␣␣␣␣␣␣␣␣␣␣␣*␣␣i␣␣0␣P6␣n␣␣␣␣P␣␣␣␣␣␣␣␣␣␣␣␣␣c␣R␣␣␣␣␣␣␣␣f␣␣␣␣§␣␣␣␣␣␣I␣*3␣␣©␣␣␣j␣␣ü␣␣1␣␣␣␣␣␣␣4␣␣␣␣␣␣␣q␣␣␣␣␣␣␣␣␣␣␣␣␣␣Z␣␣␣␣␣␣␣␣␣␣␣␣␣␣»␣␣␣␣␣␣␣␣␣␣␣`Q␣␣⅞␣␣␣␣␣ ␣␣␣␣␣␣␣␣␣␣␣␣␣␣t␣ep␣␣␣␣␣␣␣␣␣␣␣␣␣␣␣␣␣␣🥕␣␣␣␣ ␣␣␣␣␣␣␣␣␣␣d␣␣␣\u001a␣␣␣␣␣␣␣␣␣␣␣␣␣␣␣␣␣␣␣␣␣␣␣␣␣␣␣␣h␣␣␣[␣␣␣␣␣␣,␣␣␣␣’)d␣␣␣T␣␣␣␣␣␣␣␣␣␣␣␣␣w␣␣␣␣␣␣l␣␣␣␣␣°␣␣␣␣␣␣␣␣␣␣n▪d␣␣␣Q␣␣␣␣␣␣␣␣g␣␣␣␣␣␣␣␣␣␣␣␣␣␣␣␣␣␣ g␣␣␣␣␣␣␣␣␣␣␣*␣␣␣␣␣␣\n",
            "␣␣␣l‱␣.␣␣␣␣␣␣␣␣␣␣␣␣␣␣␣␣␣␣•␣–␣␣␣␣␣␣␣␣␣␣␣␣␣ ␣␣␣␣␣␣␣␣␣␣␣␣gp␣␣*␣x␣␣␣␣␣␣␣␣␣␣␣␣␣ ␣␣␣␣␣1␣␣␣␣␣␣␣␣␣␣␣␣␣␣␣␣Q␣␣␣␣␣␣␣␣␣␣␣␣␣␣␣␣␣␣␣s␣␣␣¾␣␣␣␣␣␣␣␣␣␣␣Z␣␣␣␣°␣␣␣␣␣␣p␣␣␣C|␣␣␣␣␣␣␣␣␣␣•ñ␣␣␣␣p␣␣␣␣␣␣␣␣␣␣␣␣\"␣␣␣␣␣␣␣␣␣␣␣␣#␣␣␣␣␣␣␣␣␣␣␣␣+␣␣␣␣␣␣␣⅛␣V␣k␣\"␣␣␣́␣c␣ka␣␣␣␣␣␣␣␣␣␣␣␣␣␣␣␣␣S␣␣␣␣␣␣␣␣␣␣␣␣␣ë␣␣␣ü␣␣␣␣7␣␣␣␣␣␣␣␣␣l␣␣␣␣␣␣␣␣␣␣␣␣␣␣␣␣␣␣␣␣␣␣␣␣␣␣␣␣␣␣␣␣␣␣␣␣␣␣␣␣␣␣␣␣␣␣␣␣␣␣␣⅓␣␣␣␣␣␣␣tva ␣ó␣␣*␣␣␣␣␣␣␣␣␣␣␣1␣␣␣␣,␣␣␣␣␣␣0␣␣␣␣␣‚␣␣␣␣␣␣␣␣␣␣␣␣␣␣␣␣␣␣␣ 2␣␣␣␣␣␣␣␣␣å␣␣␣␣␣␣␣lk␣␣␣␣g#␣u␣␣␣␣␣␣␣u␣⅛␣␣␣␣␣␣␣␣␣␣␣␣␣␣︎␣␣␣␣␣´␣␣␣␣7␣␣␣␣␣␣␣␣␣v␣␣␣␣␣␣␣␣␣o␣␣␣␣␣␣␣␣␣b␣␣␣␣␣␣␣␣␣ä␣␣␣␣␣␣␣␣␣T’␣0␣€␣␣␣␣␣␣␣v␣␣␣␣ \n",
            "\n",
            "\n",
            "\n",
            "Attempt: \"\" + 0.4\n",
            "-----------------------------------\n",
            "📗 cF📗>Küe📗Fl!>~®⅓📝�¿E␣9Cu}ìóh␣␣␣␣␣␣␣␣␣␣␣␣␣␣␣␣␣␣␣␣␣␣␣␣␣␣␣␣␣␣␣␣␣␣␣␣␣␣␣␣␣␣␣␣␣␣␣␣␣␣␣␣␣␣␣␣␣␣␣␣␣␣␣␣␣␣␣␣␣␣␣␣␣␣␣␣␣␣␣␣␣␣␣␣␣␣␣␣␣␣␣␣␣␣␣␣␣␣␣␣␣␣␣␣␣␣␣␣␣␣␣␣␣␣␣␣␣␣␣␣␣␣␣␣␣␣␣␣␣␣␣␣␣␣␣␣␣␣␣␣␣␣␣␣␣␣␣␣␣␣␣␣␣␣␣␣␣␣␣␣␣␣␣␣␣␣␣␣␣␣␣␣␣␣␣␣␣␣␣␣␣␣␣␣␣␣␣␣␣␣␣␣␣␣␣␣␣␣␣␣␣␣␣␣␣␣␣␣␣␣␣␣␣␣␣␣␣␣␣␣␣␣␣␣␣␣␣␣␣␣␣␣␣␣␣␣␣␣␣␣␣␣␣␣␣␣␣␣␣␣␣␣␣␣␣␣␣␣␣␣␣␣␣␣␣␣␣␣␣␣␣␣␣␣␣␣␣␣␣␣␣␣␣␣␣␣␣␣␣␣␣␣␣␣␣␣␣␣␣␣␣␣␣␣␣␣␣␣␣␣␣␣␣␣␣␣␣␣␣␣␣␣␣␣␣␣␣␣␣␣␣␣␣␣␣␣␣␣␣␣␣␣␣␣␣␣␣␣␣␣␣␣␣␣␣␣␣␣␣␣␣␣␣␣␣␣␣␣␣␣␣␣␣␣␣␣␣␣␣␣␣␣␣␣␣␣␣␣␣␣␣␣␣␣␣␣␣␣␣␣␣␣␣␣␣␣␣␣␣␣␣␣␣␣␣␣␣␣␣␣␣␣␣␣␣␣␣␣␣␣␣␣␣␣␣␣␣␣␣␣␣␣␣␣␣␣␣␣␣␣␣␣␣␣␣␣␣␣␣␣␣␣␣␣␣␣␣␣␣␣␣␣␣␣␣␣␣␣␣␣␣␣␣␣␣␣␣␣␣␣␣␣␣␣␣␣␣␣␣␣␣␣␣␣␣␣␣␣␣␣␣␣␣␣␣␣␣␣␣␣␣␣␣␣␣␣␣␣␣␣␣␣␣␣␣␣␣␣␣␣␣␣␣␣␣␣␣␣␣␣␣␣␣␣␣␣␣␣␣␣␣␣␣␣␣␣␣␣␣␣␣␣␣␣␣␣␣␣␣␣␣␣␣␣␣␣␣␣␣␣␣␣␣␣␣␣␣␣␣␣␣␣␣␣␣␣␣␣␣␣␣␣␣␣␣␣␣␣␣␣␣␣␣␣␣␣␣␣␣␣␣␣␣␣␣␣␣␣␣␣␣␣␣␣␣␣␣␣␣␣␣␣␣␣␣␣␣␣␣␣␣␣␣␣␣␣␣␣␣␣␣␣␣␣␣␣␣␣␣␣␣␣␣␣␣␣␣␣␣␣␣␣␣␣␣␣␣␣␣␣␣␣␣␣␣␣␣␣␣␣␣␣␣␣␣␣␣␣␣␣␣␣␣␣␣␣␣␣␣␣␣␣␣␣␣␣␣␣␣␣␣␣␣␣␣␣␣␣␣␣␣␣␣␣␣␣␣␣␣␣␣␣␣␣␣␣␣␣␣␣␣␣␣␣␣␣␣␣␣␣␣␣␣␣␣␣␣␣␣␣␣␣␣␣␣␣␣␣␣␣␣␣␣␣␣␣␣␣␣␣␣␣␣␣␣␣␣␣␣␣␣␣␣␣␣␣␣␣␣␣␣␣␣␣␣␣␣␣␣␣␣␣␣␣␣␣␣␣␣␣␣␣␣␣␣␣␣␣␣␣␣␣␣␣␣␣␣␣␣␣␣␣␣␣␣␣␣␣␣␣␣␣␣␣␣␣␣␣␣␣␣␣␣␣␣␣␣␣␣␣␣␣␣␣␣␣␣␣␣␣␣␣␣␣␣␣␣␣␣␣␣␣␣␣␣␣␣␣␣␣␣␣␣␣␣␣␣␣␣␣␣␣␣␣␣␣␣␣␣␣␣␣␣␣␣␣␣␣␣␣␣␣␣␣␣␣␣␣␣␣␣␣␣\n",
            "\n",
            "\n",
            "\n",
            "Attempt: \"\" + 0.2\n",
            "-----------------------------------\n",
            "📗 ‱,jug½\\hDG$Ml{␣␣📝␣␣␣␣␣␣␣␣␣␣␣␣␣␣␣␣␣␣␣␣␣␣␣␣␣␣␣␣␣␣␣␣␣␣␣␣␣␣␣␣␣␣␣␣␣␣␣␣␣␣␣␣␣␣␣␣␣␣␣␣␣␣␣␣␣␣␣␣␣␣␣␣␣␣␣␣␣␣␣␣␣␣␣␣␣␣␣␣␣␣␣␣␣␣␣␣␣␣␣␣␣␣␣␣␣␣␣␣␣␣␣␣␣␣␣␣␣␣␣␣␣␣␣␣␣␣␣␣␣␣␣␣␣␣␣␣␣␣␣␣␣␣␣␣␣␣␣␣␣␣␣␣␣␣␣␣␣␣␣␣␣␣␣␣␣␣␣␣␣␣␣␣␣␣␣␣␣␣␣␣␣␣␣␣␣␣␣␣␣␣␣␣␣␣␣␣␣␣␣␣␣␣␣␣␣␣␣␣␣␣␣␣␣␣␣␣␣␣␣␣␣␣␣␣␣␣␣␣␣␣␣␣␣␣␣␣␣␣␣␣␣␣␣␣␣␣␣␣␣␣␣␣␣␣␣␣␣␣␣␣␣␣␣␣␣␣␣␣␣␣␣␣␣␣␣␣␣␣␣␣␣␣␣␣␣␣␣␣␣␣␣␣␣␣␣␣␣␣␣␣␣␣␣␣␣␣␣␣␣␣␣␣␣␣␣␣␣␣␣␣␣␣␣␣␣␣␣␣␣␣␣␣␣␣␣␣␣␣␣␣␣␣␣␣␣␣␣␣␣␣␣␣␣␣␣␣␣␣␣␣␣␣␣␣␣␣␣␣␣␣␣␣␣␣␣␣␣␣␣␣␣␣␣␣␣␣␣␣␣␣␣␣␣␣␣␣␣␣␣␣␣␣␣␣␣␣␣␣␣␣␣␣␣␣␣␣␣␣␣␣␣␣␣␣␣␣␣␣␣␣␣␣␣␣␣␣␣␣␣␣␣␣␣␣␣␣␣␣␣␣␣␣␣␣␣␣␣␣␣␣␣␣␣␣␣␣␣␣␣␣␣␣␣␣␣␣␣␣␣␣␣␣␣␣␣␣␣␣␣␣␣␣␣␣␣␣␣␣␣␣␣␣␣␣␣␣␣␣␣␣␣␣␣␣␣␣␣␣␣␣␣␣␣␣␣␣␣␣␣␣␣␣␣␣␣␣␣␣␣␣␣␣␣␣␣␣␣␣␣␣␣␣␣␣␣␣␣␣␣␣␣␣␣␣␣␣␣␣␣␣␣␣␣␣␣␣␣␣␣␣␣␣␣␣␣␣␣␣␣␣␣␣␣␣␣␣␣␣␣␣␣␣␣␣␣␣␣␣␣␣␣␣␣␣␣␣␣␣␣␣␣␣␣␣␣␣␣␣␣␣␣␣␣␣␣␣␣␣␣␣␣␣␣␣␣␣␣␣␣␣␣␣␣␣␣␣␣␣␣␣␣␣␣␣␣␣␣␣␣␣␣␣␣␣␣␣␣␣␣␣␣␣␣␣␣␣␣␣␣␣␣␣␣␣␣␣␣␣␣␣␣␣␣␣␣␣␣␣␣␣␣␣␣␣␣␣␣␣␣␣␣␣␣␣␣␣␣␣␣␣␣␣␣␣␣␣␣␣␣␣␣␣␣␣␣␣␣␣␣␣␣␣␣␣␣␣␣␣␣␣␣␣␣␣␣␣␣␣␣␣␣␣␣␣␣␣␣␣␣␣␣␣␣␣␣␣␣␣␣␣␣␣␣␣␣␣␣␣␣␣␣␣␣␣␣␣␣␣␣␣␣␣␣␣␣␣␣␣␣␣␣␣␣␣␣␣␣␣␣␣␣␣␣␣␣␣␣␣␣␣␣␣␣␣␣␣␣␣␣␣␣␣␣␣␣␣␣␣␣␣␣␣␣␣␣␣␣␣␣␣␣␣␣␣␣␣␣␣␣␣␣␣␣␣␣␣␣␣␣␣␣␣␣␣␣␣␣␣␣␣␣␣␣␣␣␣␣␣␣␣␣␣␣␣␣␣␣␣␣␣␣␣␣␣␣␣␣␣␣␣␣␣␣␣␣␣␣␣␣␣␣␣␣␣␣␣␣␣␣␣␣␣␣␣␣␣␣␣␣␣␣␣␣␣␣␣␣␣␣␣␣␣␣␣␣␣␣␣␣␣␣␣\n",
            "\n",
            "\n",
            "\n",
            "Attempt: \"\n",
            "\" + 1.0\n",
            "-----------------------------------\n",
            "📗 \n",
            "É¾ùèèñû'%»ñz–“üìÂ’ơqE6e\u001a}M˚åm‱n Y‭&y’7E␣¾) ®⅓␣␣␣␣c␣4␣␣␣␣␣␣lơre␣A@␣9ư␣m5␣x{d␣␣␣™␣?™W␣␣␣�a)␣␣ákG␣ó␣␣␣␣vu␣´␣␣␣(e‭␣ơJ␣␣␣E“␣\"e␣ ␣␣␣␣[␣␣“␣␣‭␣t␣␣l␣␣™–␣C‟9S␣📗K“ô␣␣␣␣␣␣␣␣␣e␣␣␣\n",
            "␣␣␣R␣␣␣•‟4␣␣J-␣␣hDa␣k␣␣␣␣h📝f@,␣>t␣noä§␣?␣␣␣␣␣o␣␣␣e␣␣␣s␣9␣␣␣b␣␣v␣␣␣§␣␣în1aS␣c␣e9␣™¿␣\u001a0␣␣␣␣tS␣␣ä␣␣7␣␣␣␣␣␣␣Y␣␣␣␣Ee␣␣ì␣i␣e␣,␣␣␣␣‒␣¤␣␣␣␣␣n␣{␣&p¿📗␣€␣␣␣ä⁄ ‧␣␣•␣␣␣␣␣␣␣␣.d‒␣␣xk␣␣n␣3␣␣gå␣␣␣1gÉ␣␣Qep␣n(l␣V)m(␣␣t.+€␣e8o␣␣öt%␣3;␣␣␣␣␣␣rl␣␣␣␣␣␣␣O␣␣␣␣␣-␣␣␣q¿=␣␣␣Q␣␣␣␣␣␣,⅛␣␣␣📝ú␣␣␣␣📗␣␣␣␣␣⅓␣␣␣␣␣a␣␣␣␣␣␣␣\"»T␣␣␣␣␣u␣␣␣␣␣C/0k␣␣P␣␣␣␣W␣*␣␣◊àdEl␣␣9␣␣␣␣é␣ø␣␣␣␣␣␣␣␣␣x␣␣␣S§␣­📗´␣␣␣␣␣NyAư␣␣␣␣␣␣␣␣␣␣¤␣␣␣␣␣1␣␣␣à␣␣␣␣␣_íaI␣́␣␣eF5␣␣‟␣␣␣␣ 7 📗␣\n",
            "␣␣Wüm␣␣␣␣‱␣␣␣3␣eu␣␣␣␣#␣␣␣␣8␣␣␣˚␣␣␣␣+␣ïez␣␣␣␣␣t␣␣␣efRﬂ6␣@␣␣␣dç␣📗␣ ␣␣␣␣␣␣␣␣␣␣e␣°␣␣>␣␣␣>␣␣½␣[o␣b␣␣␣📗C␣␣“+␣•␣␣␣)¾␣␣5␣␣rî\"ù␣␣🥕␣Q␣ê[{zp␣␣!␣PJ␣␣l␣©_/␣␣,ö␣␣â­␣␣¿|å▪î␣␣!␣␣␣´␣␣-n␣␣ê␣␣p‚8␣␣␣I/ï🥕📝␣␣␣4 ăok$␣m📗h␣␣ë[␣0ü␣S␣␣␣ø½ó␣4␣Én␣␣␣ë␣F␣håE␣␣␣;␣␣␣␣📝g␣␣␣ü–␣␣“␣%␣3Ú␣�␣␣␣␣îR,␣␣␣␣‧␣w␣␣␣et½␣␣␣å␣␣␣n’[␣␣␣•␣p␣␣␣p◊␣geG␣␣W␣´q␣␣␣É>u␣GI␣␣␣R␣␣␣t📗␣␣␣␣␣e®␣l⅓␣␣␣␣␣␣␣␣b␣␣6 B␣␣ó1o␣␣␣S€%▪␣␣?␣␣␣␣␣␣en␣␣F␣␣/␣␣␣␣␣␣OL␣/📝Flư␣•␣␣␣,␣V␣␣<␣␣␣␣␣b␣␣␣␣␣e␣␣␣â␣f␣␣\n",
            "\n",
            "\n",
            "\n",
            "Attempt: \"\n",
            "\" + 0.8\n",
            "-----------------------------------\n",
            "📗 \n",
            "m>⅛ìZ!pëtü>📝ÚzH€¿(àúnøgG>Ue+␣S®␣📗t␣e‟å9␣␣␣␣␣␣␣*␣Â␣␣␣␣␣kBN␣␣#␣C␣␣␣␣␣␣␣␣␣␣␣␣␣␣␣␣␣␣␣␣␣␣␣␣␣M␣␣␣␣␣␣␣½␣␣␣␣␣␣␣␣␣␣\n",
            "␣␣␣␣␣␣␣␣ië␣␣␣␣t␣;ơ˚␣␣␣␣␣v␣␣␣␣Q␣d␣␣␣␣␣␣␣␣␣␣␣␣␣␣␣␣␣a␣␣␣␣␣ ␣␣␣ ␣␣␣␣␣␣␣␣␣␣␣␣␣␣␣␣␣␣␣␣␣nZ␣␣␣␣␣␣␣␣␣␣␣␣␣û␣␣␣␣␣␣␣␣␣␣␣␣␣␣␣v␣5u␣␣␣␣␣␣␣•␣␣␣␣␣␣␣␣␣␣␣ü␣␣␣␣␣N ␣␣␣!û␣␣␣␣␣␣J␣t␣␣␣␣␣␣␣␣␣␣␣␣␣␣␣␣␣␣␣␣␣␣␣␣␣␣␣␣␣␣␣␣␣␣t␣a␣␣␣)␣␣␣␣␣␣␣␣␣␣␣␣␣␣©␣␣␣␣␣M␣␣␣␣␣␣~␣␣d␣␣␣␣␣␣␣€␣␣␣␣␣␣␣␣␣␣␣␣á␣␣␣␣␣␣␣␣fQ␣␣␣␣␣␣␣␣␣␣␣␣␣␣ttH␣␣␣#␣␣␣5␣␣4␣␣␣␣a␣␣␣␣␣␣␣␣␣␣␣␣_k␣␣␣␣␣␣␣␣␣t␣␣␣␣␣␣␣␣␣␣␣\"␣‟␣␣␣␣␣␣ç␣␣␣␣␣␣␣␣␣pt␣␣␣␣␣␣␣␣␣␣t1␣␣␣t␣␣␣␣␣␣␣␣␣␣␣␣ ␣␣␣␣␣␣½␣␣␣␣␣␣␣␣␣W␣e°␣␣␣␣␣␣␣␣b␣óv␣␣␣␣␣␣␣5␣␣␣␣␣␣␣␣␣␣␣␣␣␣␣␣␣␣␣␣␣␣B␣␣␣␣␣␣␣␣{␣e␣␣␣␣␣␣␣␣␣i™␣¾y␣␣␣␣␣␣␣␣‒jj␣␣␣␣␣␣␣␣P␣␣␣␣␣␣␣␣␣␣␣␣␣␣␣␣␣Q␣␣␣ ␣␣␣␣␣␣␣␣rc´␣␣̀␣␣M␣␣ ␣␣␣$␣t␣␣␣␣␣␣␣␣␣␣␣␣␣␣q␣📗\\␣␣␣␣␣␣📗k␣␣␣x␣␣␣p␣␣⁄␣␣␣␣␣␣␣␣␣␣␣␣␣␣␣␣␣␣C‧␣␣t*␣␣␣␣␣␣␣␣␣␣␣␣l•Q␣␣c␣ô␣4á␣␣␣␣␣␣␣␣l0␣␣␣␣␣␣␣␣␣␣␣␣␣␣␣␣␣␣␣␣␣␣␣␣f␣␣␣␣␣␣␣␣␣+␣␣ï␣␣␣␣␣␣␣2j␣␣e␣␣P␣␣␣␣␣␣␣␣␣␣hf␣␣␣␣␣␣␣␣␣␣␣␣r␣␣␣␣␣␣␣␣␣␣␣o␣␣␣S␣h␣␣◊’␣©␣␣␣␣␣␣␣\n",
            "/␣␣␣␣␣␣␣␣␣␣␣␣3␣␣␣␣␣j␣Q␣␣␣␣␣Q␣␣␣␣␣␣␣␣␣␣␣␣␣␣␣␣␣␣␣␣␣␣␣␣␣␣␣␣␣␣␣␣␣␣́␣␣␣␣••␣␣␣ ␣␣␣␣Q🥕e‚␣␣␣␣␣␣␣␣␣␣h␣␣␣␣rI␣␣␣ ␣␣␣◊␣␣␣␣␣␣␣E␣␣␣␣␣␣␣␣␣␣␣␣␣␣␣␣␣␣␣␣»␣␣␣␣␣␣␣␣␣␣␣␣␣␣␣␣\n",
            "\n",
            "\n",
            "\n",
            "Attempt: \"\n",
            "\" + 0.4\n",
            "-----------------------------------\n",
            "📗 \n",
            ":ﬂ€5”iw◊€¤6‧åj,Pt“Hççﬂö␣-JvzZ␣␣␣␣␣␣␣␣␣␣␣␣␣␣␣␣␣␣␣␣␣␣␣␣␣␣␣␣␣␣␣␣␣␣␣␣␣␣␣␣␣␣␣␣␣␣␣␣␣␣␣␣␣␣␣␣␣␣␣␣␣␣␣␣␣␣␣␣␣␣␣␣␣␣␣␣␣␣␣␣␣␣␣␣␣␣␣␣␣␣␣␣␣␣␣␣␣␣␣␣␣␣␣␣␣␣␣␣␣␣␣␣␣␣␣␣␣␣␣␣␣␣␣␣␣␣␣␣␣␣␣␣␣␣␣␣␣␣␣␣␣␣␣␣␣␣␣␣␣␣␣␣␣␣␣␣␣␣␣␣␣␣␣␣␣␣␣␣␣␣␣␣␣␣␣␣␣␣␣␣␣␣␣␣␣␣␣␣␣␣␣␣␣␣␣␣␣␣␣␣␣␣␣␣␣␣␣␣␣␣␣␣␣␣␣␣␣␣␣␣␣␣␣␣␣␣␣␣␣␣␣␣␣␣␣␣␣␣␣␣␣␣␣␣␣␣␣␣␣␣␣␣␣␣␣␣␣␣␣␣␣␣␣␣␣␣␣␣␣␣␣␣␣␣␣␣␣␣␣␣␣␣␣␣␣␣␣␣␣␣␣␣␣␣␣␣␣␣␣␣␣␣␣␣␣␣␣␣␣␣␣␣␣␣␣␣␣␣␣␣␣␣␣␣␣␣␣␣␣␣␣␣␣␣␣␣␣␣␣␣␣␣␣␣␣␣␣␣␣␣␣␣␣␣␣␣␣␣␣␣␣␣␣␣␣␣␣␣␣␣␣␣␣␣␣␣␣␣␣␣␣␣␣␣␣␣␣␣␣␣␣␣␣␣␣␣␣␣␣␣␣␣␣␣␣␣␣␣␣␣␣␣␣␣␣␣␣␣␣␣␣␣␣␣␣␣␣␣␣␣␣␣␣␣␣␣␣␣␣␣␣␣␣␣␣␣␣␣␣␣␣␣␣␣␣␣␣␣␣␣␣␣␣␣␣␣␣␣␣␣␣␣␣␣␣␣␣␣␣␣␣␣␣␣␣␣␣␣␣␣␣␣␣␣␣␣␣␣␣␣␣␣␣␣␣␣␣␣␣␣␣␣␣␣␣␣␣␣␣␣␣␣␣␣␣␣␣␣␣␣␣␣␣␣␣␣␣␣␣␣␣␣␣␣␣␣␣␣␣␣␣␣␣␣␣␣␣␣␣␣␣␣␣␣␣␣␣␣␣␣␣␣␣␣␣␣␣␣␣␣␣␣␣␣␣␣␣␣␣␣␣␣␣␣␣␣␣␣␣␣␣␣␣␣␣␣␣␣␣␣␣␣␣␣␣␣␣␣␣␣␣␣␣␣␣␣␣␣␣␣␣␣␣␣␣␣␣␣␣␣␣␣␣␣␣␣␣␣␣␣␣␣␣␣␣␣␣␣␣␣␣␣␣␣␣␣␣␣␣␣␣␣␣␣␣␣␣␣␣␣␣␣␣␣␣␣␣␣␣␣␣␣␣␣␣␣␣␣␣␣␣␣␣␣␣␣␣␣␣␣␣␣␣␣␣␣␣␣␣␣␣␣␣␣␣␣␣␣␣␣␣␣␣␣␣␣␣␣␣␣␣␣␣␣␣␣␣␣␣␣␣␣␣␣␣␣␣␣␣␣␣␣␣␣␣␣␣␣␣␣␣␣␣␣␣␣␣␣␣␣␣␣␣␣␣␣␣␣␣␣␣␣␣␣␣␣␣␣␣␣␣␣␣␣␣␣␣␣␣␣␣␣␣␣␣␣␣␣␣␣␣␣␣␣␣␣␣␣␣␣␣␣␣␣␣␣␣␣␣␣␣␣␣␣␣␣␣␣␣␣␣␣␣␣␣␣␣␣␣␣␣␣␣␣␣␣␣␣␣␣␣␣␣␣␣␣␣␣␣␣␣␣␣␣␣␣␣␣␣␣␣␣␣␣␣␣␣␣␣␣␣␣␣␣␣␣␣␣␣␣␣␣␣␣␣␣␣␣␣␣␣␣␣␣␣␣␣␣␣␣␣␣␣␣␣␣␣␣␣␣␣␣␣␣␣␣␣␣␣␣␣␣␣␣␣␣␣␣␣␣␣␣␣␣␣␣␣␣␣␣␣\n",
            "\n",
            "\n",
            "\n",
            "Attempt: \"\n",
            "\" + 0.2\n",
            "-----------------------------------\n",
            "📗 \n",
            "S2)f©\u001a:_'øe­ ␣f7ó␣ä␣␣␣␣␣␣␣␣␣␣␣␣␣␣␣␣␣␣␣␣␣␣␣␣␣␣␣␣␣␣␣␣␣␣␣␣␣␣␣␣␣␣␣␣␣␣␣␣␣␣␣␣␣␣␣␣␣␣␣␣␣␣␣␣␣␣␣␣␣␣␣␣␣␣␣␣␣␣␣␣␣␣␣␣␣␣␣␣␣␣␣␣␣␣␣␣␣␣␣␣␣␣␣␣␣␣␣␣␣␣␣␣␣␣␣␣␣␣␣␣␣␣␣␣␣␣␣␣␣␣␣␣␣␣␣␣␣␣␣␣␣␣␣␣␣␣␣␣␣␣␣␣␣␣␣␣␣␣␣␣␣␣␣␣␣␣␣␣␣␣␣␣␣␣␣␣␣␣␣␣␣␣␣␣␣␣␣␣␣␣␣␣␣␣␣␣␣␣␣␣␣␣␣␣␣␣␣␣␣␣␣␣␣␣␣␣␣␣␣␣␣␣␣␣␣␣␣␣␣␣␣␣␣␣␣␣␣␣␣␣␣␣␣␣␣␣␣␣␣␣␣␣␣␣␣␣␣␣␣␣␣␣␣␣␣␣␣␣␣␣␣␣␣␣␣␣␣␣␣␣␣␣␣␣␣␣␣␣␣␣␣␣␣␣␣␣␣␣␣␣␣␣␣␣␣␣␣␣␣␣␣␣␣␣␣␣␣␣␣␣␣␣␣␣␣␣␣␣␣␣␣␣␣␣␣␣␣␣␣␣␣␣␣␣␣␣␣␣␣␣␣␣␣␣␣␣␣␣␣␣␣␣␣␣␣␣␣␣␣␣␣␣␣␣␣␣␣␣␣␣␣␣␣␣␣␣␣␣␣␣␣␣␣␣␣␣␣␣␣␣␣␣␣␣␣␣␣␣␣␣␣␣␣␣␣␣␣␣␣␣␣␣␣␣␣␣␣␣␣␣␣␣␣␣␣␣␣␣␣␣␣␣␣␣␣␣␣␣␣␣␣␣␣␣␣␣␣␣␣␣␣␣␣␣␣␣␣␣␣␣␣␣␣␣␣␣␣␣␣␣␣␣␣␣␣␣␣␣␣␣␣␣␣␣␣␣␣␣␣␣␣␣␣␣␣␣␣␣␣␣␣␣␣␣␣␣␣␣␣␣␣␣␣␣␣␣␣␣␣␣␣␣␣␣␣␣␣␣␣␣␣␣␣␣␣␣␣␣␣␣␣␣␣␣␣␣␣␣␣␣␣␣␣␣␣␣␣␣␣␣␣␣␣␣␣␣␣␣␣␣␣␣␣␣␣␣␣␣␣␣␣␣␣␣␣␣␣␣␣␣␣␣␣␣␣␣␣␣␣␣␣␣␣␣␣␣␣␣␣␣␣␣␣␣␣␣␣␣␣␣␣␣␣␣␣␣␣␣␣␣␣␣␣␣␣␣␣␣␣␣␣␣␣␣␣␣␣␣␣␣␣␣␣␣␣␣␣␣␣␣␣␣␣␣␣␣␣␣␣␣␣␣␣␣␣␣␣␣␣␣␣␣␣␣␣␣␣␣␣␣␣␣␣␣␣␣␣␣␣␣␣␣␣␣␣␣␣␣␣␣␣␣␣␣␣␣␣␣␣␣␣␣␣␣␣␣␣␣␣␣␣␣␣␣␣␣␣␣␣␣␣␣␣␣␣␣␣␣␣␣␣␣␣␣␣␣␣␣␣␣␣␣␣␣␣␣␣␣␣␣␣␣␣␣␣␣␣␣␣␣␣␣␣␣␣␣␣␣␣␣␣␣␣␣␣␣␣␣␣␣␣␣␣␣␣␣␣␣␣␣␣␣␣␣␣␣␣␣␣␣␣␣␣␣␣␣␣␣␣␣␣␣␣␣␣␣␣␣␣␣␣␣␣␣␣␣␣␣␣␣␣␣␣␣␣␣␣␣␣␣␣␣␣␣␣␣␣␣␣␣␣␣␣␣␣␣␣␣␣␣␣␣␣␣␣␣␣␣␣␣␣␣␣␣␣␣␣␣␣␣␣␣␣␣␣␣␣␣␣␣␣␣␣␣␣␣␣␣␣␣␣␣␣␣␣␣␣␣␣␣␣␣␣␣␣␣␣␣␣␣␣␣␣␣␣␣␣␣␣␣␣␣␣␣␣␣␣␣␣␣␣␣␣␣␣␣␣␣␣\n",
            "\n",
            "\n",
            "\n",
            "Attempt: \"U\" + 1.0\n",
            "-----------------------------------\n",
            "📗 Uw;IPÁ︎*“à▪R¾4tÉ×{$)nOOn7˚📗×}8¼d½à$HIîø␣>ûdå␣y␣‚␣␣S‚N␣␣␣“␣,c␣␣␣␣␣␣␣0␣␣Yâ␣,k␣)tt␣,;n‒Oä]␣␣ó␣␣␣␣î␣f␣®␣␣␣␣␣␣␣␣␣␣coe⅛␣A␣)︎␣m␣:e␣t␣␣&␣␣␣Cqk?w␣␣ ”`␣\n",
            "␣␣␣p␣5␣␣␣␣nd␣␣␣␣␣␣␣␣¾(␣|␣�␣e␣␣␣,'k␣␣␣óï␣␣ô␣␣R␣␣␣␣ưVL␣␣␣␣␣␣␣␣t®␣j␣␣#␣␣3ä␣␣␣É⅓f␣␣␣3´▪#␣M*4␣'wZNz␣␣É␣(ơF␣r@␣␣l␣␣o␣␣i°ä␣␣t1␣™␣␣␣␣ư␣?␣E\"␣ùç␣␣ ␣fåb␣␣jl␣h␣␣␣␣␣␣␣␣␣␣Qù␣␣␣X␣🥕e␣␣d ␣🥕␣␣␣́ú␣6ñ!␣␣␣̀\"␣␣␣␣␣xg␣␣␣␣Ur␣␣␣‚tKÁ␣␣␣␣␣␣␣␣␣␣␣␣␣␣␣␣␣y␣␣C␣*5␣§␣␣€␣␣“B␣C␣␣␣bEO␣␣␣ ‧␣␣°␣␣␣s\n",
            "hc␣␣␣␣“␣&A␣ơc📝r␣🥕␣␣␣␣ø*&8½øQ␣␣)aó½␣¾§ Z␣{|␣␣␣!␣␣␣␣␣ç␣␣»␣7ú␣␣<␣8␣␣␣⅓¼␣␣T␣‚␣␣␣_␣“ºn␣▪␣␣␣␣␣␣{E␣␣␣␣␣␣␣␣␣␣e␣kd␣ơ␣f⅛”zsvq␣ä␣ ␣␣6úiW0␣␣␣mä␣=lvÉv␣␣␣︎␣G¼eî␣␣Dèﬂ␣i␣Ey␣␣␣h␣!u7␣we␣␣␣8ï␣û␣␣␣¿␣␣␣™|␣␣␣␣␣ñl␣␣snT®␣␣␣Z␣{$␣␣␣␣üx␣␣g␣␣Weưo␣gv+␣o2ñê␣␣4␣#␣=␣•␣3␣␣␣z␣Â␣f´␣␣␣ñ␣.tI‒␣;␣smt3␣␣-␣␣␣␣␣␣5’7␣␣␣;{␣␣␣␣␣º§␣⅓i␣␣Át␣.4ơn␣v␣␣␣␣␣␣␣␣␣␣␣␣>␣︎oi␣ç ␣␣l␣\"␣␣␣␣üü␣!␣3␣␣M␣␣␣␣␣␣␣°´␣␣␣␣␣:␣␣␣␣C2␣‧␣␣␣␣a␣␣␣‭🥕“␣␣␣e␣␣␣␣\\␣📝•Úó␣␣␣®␣ZKB⅛␣␣␣Á␣k␣kl␣\u001a€L1,3¤́␣␣o‚␣␣␣␣␣Q␣␣j␣␣␣␣␣␣4␣␣PwR␣␣mî␣␣␣␣␣Édnv?⅓t␣é␣au␣␣␣64␣␣x\u001a␣␣t␣°␣ø📝␣ﬂ␣␣z‟␣␣u␣ ␣␣␣*␣␣7␣␣␣␣␣␣␣␣2␣␣␣▪␣␣␣␣␣uÉVt‚␣¼␣©í␣°␣␣␣<cf␣␣␣␣␣␣otB␣Ég␣␣j␣␣t␣␣␣␣␣•␣u␣␣␣Y␣␣␣␣_␣␣␣␣M␣␣␣␣␣␣äy␣␣G ␣‚n´␣R®eM␣\n",
            "\n",
            "\n",
            "\n",
            "Attempt: \"U\" + 0.8\n",
            "-----------------------------------\n",
            "📗 U=lûyD�í[X0øH$ú`­4A@C⅓4J‒hc7—⅛�l␣p/␣␣␣Gü␣vi␣␣␣␣␣\"␣␣#␣␣␣␣␣␣␣6␣␣␣␣␣␣␣␣␣␣␣t␣␣␣␣␣␣␣␣␣␣␣o␣␣␣␣␣␣␣␣€␣n␣ç␣␣␣␣è␣␣␣␣␣␣␣␣␣␣␣e␣’␣␣É␣␣oT␣␣␣␣p␣␣␣␣␣␣␣␣0␣␣␣␣␣␣␣␣␣␣␣␣9␣X␣␣␣␣␣]␣␣␣␣␣␣␣␣␣␣␣␣␣␣␣␣␣•␣a␣␣␣␣␣␣␣w␣␣␣␣⅓␣␣␣␣␣␣␣␣␣␣␣’ó␣␣␣•␣␣␣␣␣␣i␣␣␣␣␣“½␣␣␣ø␣␣␣␣␣␣␣␣␣␣▪␣␣␣Â␣␣␣␣/␣␣␣␣␣␣␣␣©␣␣␣␣a␣̀’␣␣␣4␣e␣␣␣␣␣␣␣␣␣␣␣␣du␣m␣␣k␣f␣e␣␣␣␣e␣v ␣␣␣)␣␣␣␣␣␣␣␣␣u␣␣␣␣␣m␣␣␣•␣␣␣␣␣␣␣␣␣␣␣␣␣␣␣␣␣␣C␣␣␣è␣␣Q ␣␣␣␣␣␣␣␣␣␣B␣␣␣z␣␣␣ ␣␣␣‒␣␣␣␣␣␣␣␣␣␣␣␣␣␣\"␣⅓␣␣␣␣␣␣␣␣␣␣\n",
            "␣␣␣␣␣␣␣␣␣␣j␣␣␣␣␣␣␣␣␣␣␣␣␣t␣␣␣␣–»␣␣␣c␣␣␣n␣u ␣␣␣␣n␣␣␣␣␣␣␣␣␣␣␣␣␣␣␣␣␣‱␣␣>␣␣â␣␣␣␣␣␣␣␣v␣␣‟␣␣␣␣q␣␣␣␣␣␣␣␣␣␣␣j␣␣␣␣␣␣G␣4St␣␣a␣␣␣•␣␣␣␣␣␣␣␣␣␣␣␣␣␣␣í␣␣•ü␣\"l␣␣␣␣␣␣␣␣␣␣␣␣ç␣␣␣␣␣A␣␣🥕␣␣#␣␣␣␣␣␣␣␣␣␣␣␣-␣␣␣␣␣k␣␣␣␣␣␣␣␣=␣␣␣␣␣‟t␣␣␣␣␣␣␣␣␣␣‚␣␣␣␣␣␣␣␣␣␣␣␣␣␣␣␣␣␣␣␣␣␣•␣␣␣␣␣6␣␣␣o␣␣␣~␣␣␣Z␣␣␣␣␣␣␣␣␣␣␣␣\n",
            "␣␣ø␣␣␣␣␣>␣␣␣␣+␣␣•␣␣v␣␣␣␣␣#␣u␣␣␣␣ ␣␣␣␣␣b␣‧␣␣␣␣␣␣␣␣␣␣î␣␣␣␣(␣␣␣␣␣␣␣␣␣␣␣␣␣␣␣␣␣␣␣␣␣␣␣␣½␣␣␣␣␣␣␣␣␣␣␣␣␣␣␣␣␣ï␣␣␣␣␣|␣␣m␣␣␣i␣␣␣␣␣␣␣␣?␣␣␣␣ë␣␣␣␣␣␣␣␣␣␣␣•␣␣␣␣␣␣␣␣␣v␣␣␣␣␣␣␣␣␣␣␣½␣␣␣␣␣␣␣␣␣␣␣␣␣␣␣␣␣␣␣˚␣␣␣␣␣␣␣␣␣␣␣␣{␣␣␣nR␣␣␣␣␣␣␣jû␣␣␣␣␣␣␣␣␣␣␣␣j␣␣␣␣␣␣␣⁄␣␣␣␣␣␣␣u␣␣␣␣␣␣␣␣␣␣␣␣␣½␣␣␣␣␣␣␣␣␣␣␣␣␣␣␣␣␣␣␣␣␣␣␣␣␣␣␣␣␣␣␣␣o␣␣ü␣␣␣␣␣␣␣␣␣␣␣u␣␣␣␣␣␣␣b␣␣␣␣␣␣␣<“ ␣␣␣␣␣t␣\n",
            "\n",
            "\n",
            "\n",
            "Attempt: \"U\" + 0.4\n",
            "-----------------------------------\n",
            "📗 U\"Fzi+u{Ádg©à©—0mkøBêﬂ‚u◊␣� Yz␣␣␣␣␣␣␣␣␣␣␣␣␣␣␣␣␣␣␣␣␣␣␣␣␣␣␣␣␣␣␣␣␣␣␣␣␣␣␣␣␣␣␣␣␣␣␣␣␣␣␣␣␣␣␣␣␣␣␣␣␣␣␣␣␣␣␣␣␣␣␣␣␣␣␣␣␣␣␣␣␣␣␣␣␣␣␣␣␣␣␣␣␣␣␣␣␣␣␣␣␣␣␣␣␣␣␣␣␣␣␣␣␣␣␣␣␣␣␣␣␣␣␣␣␣␣␣␣␣␣␣␣␣␣␣␣␣␣␣␣␣␣␣␣␣␣␣␣␣␣␣␣␣␣␣␣␣␣␣␣␣␣␣␣␣␣␣␣␣␣␣␣␣␣␣␣␣␣␣␣␣␣␣␣␣␣␣␣␣␣␣␣␣␣␣␣␣␣␣␣␣␣␣␣␣␣␣␣␣␣␣␣␣␣␣␣␣␣␣␣␣␣␣␣␣␣␣␣␣␣␣␣␣␣␣␣␣␣␣␣␣␣␣␣␣␣␣␣␣␣␣␣␣␣␣␣␣␣␣␣␣␣␣␣␣␣␣␣␣␣␣␣␣␣␣␣␣␣␣␣␣␣␣␣␣␣␣␣␣␣␣␣␣␣␣␣␣␣␣␣␣␣␣␣␣␣␣␣␣␣␣␣␣␣␣␣␣␣␣␣␣␣␣␣␣␣␣␣␣␣␣␣␣␣␣␣␣␣␣␣␣␣␣␣␣␣␣␣␣␣␣␣␣␣␣␣␣␣␣␣␣␣␣␣␣␣␣␣␣␣␣␣␣␣␣␣␣␣␣␣␣␣␣␣␣␣␣␣␣␣␣␣␣␣␣␣␣␣␣␣␣␣␣␣␣␣␣␣␣␣␣␣␣␣␣␣␣␣␣␣␣␣␣␣␣␣␣␣␣␣␣␣␣␣␣␣␣␣␣␣␣␣␣␣␣␣␣␣␣␣␣␣␣␣␣␣␣␣␣␣␣␣␣␣␣␣␣␣␣␣␣␣␣␣␣␣␣␣␣␣␣␣␣␣␣␣␣␣␣␣␣␣␣␣␣␣␣␣␣␣␣␣␣␣␣␣␣␣␣␣␣␣␣␣␣␣␣␣␣␣␣␣␣␣␣␣␣␣␣␣␣␣␣␣␣␣␣␣␣␣␣␣␣␣␣␣␣␣␣␣␣␣␣␣␣␣␣␣␣␣␣␣␣␣␣␣␣␣␣␣␣␣␣␣␣␣␣␣␣␣␣␣␣␣␣␣␣␣␣␣␣␣␣␣␣␣␣␣␣␣␣␣␣␣␣␣␣␣␣␣␣␣␣␣␣␣␣␣␣␣␣␣␣␣␣␣␣␣␣␣␣␣␣␣␣␣␣␣␣␣␣␣␣␣␣␣␣␣␣␣␣␣␣␣␣␣␣␣␣␣␣␣␣␣␣␣␣␣␣␣␣␣␣␣␣␣␣␣␣␣␣␣␣␣␣␣␣␣␣␣␣␣␣␣␣␣␣␣␣␣␣␣␣␣␣␣␣␣␣␣␣␣␣␣␣␣␣␣␣␣␣␣␣␣␣␣␣␣␣␣␣␣␣␣␣␣␣␣␣␣␣␣␣␣␣␣␣␣␣␣␣␣␣␣␣␣␣␣␣␣␣␣␣␣␣␣␣␣␣␣␣␣␣␣␣␣␣␣␣␣␣␣␣␣␣␣␣␣␣␣␣␣␣␣␣␣␣␣␣␣␣␣␣␣␣␣␣␣␣␣␣␣␣␣␣␣␣␣␣␣␣␣␣␣␣␣␣␣␣␣␣␣␣␣␣␣␣␣␣␣␣␣␣␣␣␣␣␣␣␣␣␣␣␣␣␣␣␣␣␣␣␣␣␣␣␣␣␣␣␣␣␣␣␣␣␣␣␣␣␣␣␣␣␣␣␣␣␣␣␣␣␣␣␣␣␣␣␣␣␣␣␣␣␣␣␣␣␣␣␣␣␣␣␣␣␣␣␣␣␣␣␣␣␣␣␣␣␣␣␣␣␣␣␣␣␣␣␣␣␣␣␣␣␣␣␣␣␣␣␣␣␣␣␣␣␣␣␣␣␣␣␣␣␣␣␣␣␣␣␣\n",
            "\n",
            "\n",
            "\n",
            "Attempt: \"U\" + 0.2\n",
            "-----------------------------------\n",
            "📗 UP📗¾:11O)Hă—çecnä\\N=5¤Os␣␣␣␣␣␣␣␣␣␣␣␣␣␣␣␣␣␣␣␣␣␣␣␣␣␣␣␣␣␣␣␣␣␣␣␣␣␣␣␣␣␣␣␣␣␣␣␣␣␣␣␣␣␣␣␣␣␣␣␣␣␣␣␣␣␣␣␣␣␣␣␣␣␣␣␣␣␣␣␣␣␣␣␣␣␣␣␣␣␣␣␣␣␣␣␣␣␣␣␣␣␣␣␣␣␣␣␣␣␣␣␣␣␣␣␣␣␣␣␣␣␣␣␣␣␣␣␣␣␣␣␣␣␣␣␣␣␣␣␣␣␣␣␣␣␣␣␣␣␣␣␣␣␣␣␣␣␣␣␣␣␣␣␣␣␣␣␣␣␣␣␣␣␣␣␣␣␣␣␣␣␣␣␣␣␣␣␣␣␣␣␣␣␣␣␣␣␣␣␣␣␣␣␣␣␣␣␣␣␣␣␣␣␣␣␣␣␣␣␣␣␣␣␣␣␣␣␣␣␣␣␣␣␣␣␣␣␣␣␣␣␣␣␣␣␣␣␣␣␣␣␣␣␣␣␣␣␣␣␣␣␣␣␣␣␣␣␣␣␣␣␣␣␣␣␣␣␣␣␣␣␣␣␣␣␣␣␣␣␣␣␣␣␣␣␣␣␣␣␣␣␣␣␣␣␣␣␣␣␣␣␣␣␣␣␣␣␣␣␣␣␣␣␣␣␣␣␣␣␣␣␣␣␣␣␣␣␣␣␣␣␣␣␣␣␣␣␣␣␣␣␣␣␣␣␣␣␣␣␣␣␣␣␣␣␣␣␣␣␣␣␣␣␣␣␣␣␣␣␣␣␣␣␣␣␣␣␣␣␣␣␣␣␣␣␣␣␣␣␣␣␣␣␣␣␣␣␣␣␣␣␣␣␣␣␣␣␣␣␣␣␣␣␣␣␣␣␣␣␣␣␣␣␣␣␣␣␣␣␣␣␣␣␣␣␣␣␣␣␣␣␣␣␣␣␣␣␣␣␣␣␣␣␣␣␣␣␣␣␣␣␣␣␣␣␣␣␣␣␣␣␣␣␣␣␣␣␣␣␣␣␣␣␣␣␣␣␣␣␣␣␣␣␣␣␣␣␣␣␣␣␣␣␣␣␣␣␣␣␣␣␣␣␣␣␣␣␣␣␣␣␣␣␣␣␣␣␣␣␣␣␣␣␣␣␣␣␣␣␣␣␣␣␣␣␣␣␣␣␣␣␣␣␣␣␣␣␣␣␣␣␣␣␣␣␣␣␣␣␣␣␣␣␣␣␣␣␣␣␣␣␣␣␣␣␣␣␣␣␣␣␣␣␣␣␣␣␣␣␣␣␣␣␣␣␣␣␣␣␣␣␣␣␣␣␣␣␣␣␣␣␣␣␣␣␣␣␣␣␣␣␣␣␣␣␣␣␣␣␣␣␣␣␣␣␣␣␣␣␣␣␣␣␣␣␣␣␣␣␣␣␣␣␣␣␣␣␣␣␣␣␣␣␣␣␣␣␣␣␣␣␣␣␣␣␣␣␣␣␣␣␣␣␣␣␣␣␣␣␣␣␣␣␣␣␣␣␣␣␣␣␣␣␣␣␣␣␣␣␣␣␣␣␣␣␣␣␣␣␣␣␣␣␣␣␣␣␣␣␣␣␣␣␣␣␣␣␣␣␣␣␣␣␣␣␣␣␣␣␣␣␣␣␣␣␣␣␣␣␣␣␣␣␣␣␣␣␣␣␣␣␣␣␣␣␣␣␣␣␣␣␣␣␣␣␣␣␣␣␣␣␣␣␣␣␣␣␣␣␣␣␣␣␣␣␣␣␣␣␣␣␣␣␣␣␣␣␣␣␣␣␣␣␣␣␣␣␣␣␣␣␣␣␣␣␣␣␣␣␣␣␣␣␣␣␣␣␣␣␣␣␣␣␣␣␣␣␣␣␣␣␣␣␣␣␣␣␣␣␣␣␣␣␣␣␣␣␣␣␣␣␣␣␣␣␣␣␣␣␣␣␣␣␣␣␣␣␣␣␣␣␣␣␣␣␣␣␣␣␣␣␣␣␣␣␣␣␣␣␣␣␣␣␣␣␣␣␣␣␣␣␣␣␣␣␣␣␣␣␣␣␣␣␣␣␣␣␣␣␣␣␣␣␣␣␣␣\n",
            "\n",
            "\n",
            "\n",
            "Attempt: \"A\" + 1.0\n",
            "-----------------------------------\n",
            "📗 A§ 📗̀2´Òkư$︎á_°r︎]RL‚í)®ôﬂÚIjç’␣[␣=QxG📝␣n5␣␣␣␣p ␣øè␣␣␣çg€␣␣v␣ó︎␣␣␣␣␣N+Á\\�␣‒␣‭>📝␣‚␣␣k–,␣ST␣␣␣ơ␣\u001a™P␣␣␣—Q␣␣␣␣6É␣ ␣␣J␣eè␣ølo␣␣␣gf)i␣␣␣␣3␣j␣$␣Úä␣]␣8Úø␣␣•␣␣k␣␣␣␣␣␣␣␣␣▪t␣␣␣Y␣␣h␣␣´␣**␣␣uḱk␣␣␣␣␣␣␣U␣S␣¤␣␣␣\u001a␣é␣␣␣a9📝␣+C␣␣␣n␣␣i␣␣␣\u001aâ␣␣▪␣␣\n",
            "Ú/v’'û%̀)–␣Ú½⅛␣Â!#u␣ơ␣␣l␣␣ r␣␣•Gf/ă§␣–␣ü␣c␣␣␣␣P📝´␣␣␣s�␣␣‚U␣␣␣® ␣␣␣␣␣␣␣␣␣␣␣␣␣äGm␣âÉ␣␣7úO␣␣␣␣k␣␣k␣␣ê_␣␣.6s␣c␣ÉJl␣‚!␣␣␣ 9␣␣␣K␣␣␣cFâ␣e6␣␣}c␣]€␣␣␣␣␣␣␣–c7™‟º␣␣ ␣␣␣␣␣␣␣␣M␣␣␣v3␣␣␣GC␣ub]␣␣½ k␣␣␣b␣Ú␣␣–␣A+␣€␣␣␣‟␣k␣␣␣?g␣⅛␣[fM␣qû␣␣␣%t␣r␣a␣.z␣Q␣␣␣␣␣ ½\"␣␣␣␣🥕½␣+ÂÉk36tDü␣F␣H␣à␣␣␣␣␣␣␣‚R␣␣Ávcn␣␣▪\"á™o␣»ø␣{%␣␣␣␣9øD␣#␣␣␣␣5\n",
            "␣␣␣␣␣␣1ç␣␣␣␣␣␣R␣␣␣è␣␣ ăl␣␣␣␣!␣b␣+␣␣␣␣e␣␣6␣␣␣␣␣␣*e␣I␣èe␣␣␣␣␣␣␣␣␣␣24á¤–␣É␣␣Éu␣ 1␣␣‟␣␣␣␣ î–€␣bu* \" ¾␣.u␣␣␣<îj•␣␣␣+§0$␣™Nl␣␣•ûS©‚d␣#␣␣▪k␣\"dä␣␣␣␣␣V␣␣␣␣␣ư␣f␣␣;’a␣␣5 ␣í␣ó␣␣␣V␣—␣9␣␣␣na␣␣␣␣␣␣␣nk\u001a␣␣␣␣␣␣n␣ü E␣␣␣🥕”␣␣␣t␣␣␣\"␣␣␣␣␣␣␣␣␣␣␣␣␣‒)é␣˚zÉCc‱␣␣␣📗␣␣␣␣tr␣␣␣gi␣␣␣␣␣‱o␣N␣␣␣␣\u001a?ç␣␣␣á␣␣×“␣␣␣␣␣z📝␣ ␣l␣␣␣␣␣␣Á?␣␣␣p␣␣1ç̀␣⅞␣\\{J␣␣g␣9j␣␣␣?␣␣ơû␣N␣hu␣␣␣␣␣␣¤␣‟␣¿�tW‒␣␣ ´␣[Ú␣␣␣␣ø­␣°øpJÉíìäI␣ }␣␣ç␣␣␣␣␣s␣␣␣␣s␣°␣␣␣␣␣␣ oV␣v␣Jd␣n\n",
            "␣␣h‭📝Tk␣5␣␣␣␣␣J_␣éTcvi📝n␣␣␣jb␣‭␣␣v␣”␣7û c6u␣␣␣ ®z␣␣␣␣␣R␣t␣📗␣␣␣S\u001a5\n",
            "\n",
            "\n",
            "\n",
            "Attempt: \"A\" + 0.8\n",
            "-----------------------------------\n",
            "📗 AD®|📝gJ»w§îm16?|␣‱™g␣5␣ôYÁ‱–du™␣␣␣?␣èo␣␣␣m␣␣Qu␣TY␣E␣␣u␣␣\u001a1␣␣N␣f␣␣␣␣␣␣␣␣␣␣␣␣␣␣␣␣nîgå⅛␣␣␣␣␣␣-␣␣␣␣␣k␣␣␣␣␣␣p␣␣␣␣␣␣␣␣␣␣␣␣␣â␣j␣␣␣␣␣␣␣␣␣n␣␣␣␣␣␣␣K␣␣␣␣␣␣␣␣~␣␣␣␣␣␣␣␣␣␣␣␣k␣␣␣␣␣␣␣␣␣M␣␣␣)␣␣␣␣␣␣␣␣␣␣␣␣␣␣␣␣␣{␣␣#␣␣␣␣␣␣°␣́␣+␣␣c␣␣␣Y␣␣␣␣␣N␣␣␣␣.␣␣␣␣␣␣␣␣␣u␣␣␣␣␣📝␣␣␣␣␣␣␣x␣␣␣␣␣␣␣␣␣␣␣␣½␣␣ø3␣␣␣␣␣␣␣␣n´␣␣␣␣␣␣␣␣u␣␣␣␣␣␣␣␣␣␣,3␣)␣␣␣i␣,␣␣␣␣ ␣␣␣␣I␣␣␣␣␣␣␣␣␣📝␣␣␣␣␣s␣␣␣␣␣␣␣␣␣␣␣␣␣␣␣␣␣␣e␣o␣␣␣z␣␣␣␣␣␣␣␣␣␣␣␣␣␣␣␣␣le␣t␣w␣␣␣␣␣␣␣␣␣␣␣␣␣c␣␣␣␣;␣␣␣b␣␣␣␣␣␣␣␣a§ ␣␣␣␣e␣␣␣␣␣q␣⁄␣␣␣␣␣␣␣📝␣␣§␣␣␣␣␣␣␣␣␣â␣␣⁄v␣␣␣␣␣␣␣␣␣␣␣␣␣␣␣␣␣␣␣␣␣␣‟␣␣␣␣␣␣␣␣␣␣␣␣anÉ␣␣␣ ␣␣ïS␣␣Ú␣␣␣a⅓e␣␣␣␣␣␣⅓␣̀␣␣␣␣␣V␣9␣␣␣␣␣␣␣␣u␣␣␣◊␣␣iì␣␣␣␣␣,␣␣␣␣␣␣␣␣␣␣␣␣␣␣k␣␣␣␣␣␣␣␣␣␣ó␣␣␣␣␣–␣␣␣␣␣␣␣␣␣␣{␣␣␣␣␣␣␣␣␣$t␣ì␣g␣␣␣␣␣␣␣␣v␣␣␣t␣␣␣␣␣␣␣␣␣␣␣␣␣␣␣p␣␣3␣␣␣f␣␣+*␣␣␣␣␣␣⅞J␣␣␣␣␣␣V␣␣␣␣␣␣␣␣␣l␣a␣␣␣␣\u001a␣€[␣␣,␣è␣␣␣␣␣␣␣␣çuq␣␣\"k␣␣Q␣␣␣␣9V⅓␣’␣␣␣␣␣␣␣G␣␣␣␣␣␣␣␣␣␣␣␣lÉ␣␣␣.␣␣␣␣␣␣␣␣␣␣␣␣␣␣Q␣␣␣␣␣␣␣␣␣␣␣␣␣␣␣␣␣␣␣␣␣␣␣␣␣␣␣i␣␣␣␣␣␣␣ ␣␣␣␣␣␣␣␣␣␣␣␣␣␣␣i␣c␣Â␣␣[␣␣␣␣␣␣␣␣␣␣½␣␣␣½␣␣rú␣␣␣␣␣␣␣o␣␣␣␣␣␣␣␣␣½␣c␣␣␣̀␣␣ ␣␣␣␣␣␣␣o␣␣␣␣␣ù␣ô📗R␣␣␣␣␣␣␣␣␣␣␣í␣\n",
            "␣␣␣␣␣␣E␣␣␣␣␣␣␣␣1␣␣␣␣␣␣␣␣␣␣␣␣␣␣␣␣␣␣␣␣␣␣␣␣\u001a␣␣W␣␣␣␣D▪␣␣␣␣␣␣␣␣␣␣␣␣␣␣␣␣␣␣␣␣␣␣␣␣␣␣␣␣␣␣␣␣␣␣␣t␣␣␣␣␣␣␣␣␣␣␣␣␣␣␣v␣␣ ␣␣␣␣␣␣\n",
            "\n",
            "\n",
            "\n",
            "Attempt: \"A\" + 0.4\n",
            "-----------------------------------\n",
            "📗 Avs0yà°l”<ﬂíYñ3id:␣lư¾˚‭å␣␣␣␣␣␣␣␣␣␣␣␣␣␣␣␣␣␣␣␣␣␣␣␣␣␣␣␣␣␣␣␣␣␣␣␣␣␣␣␣␣␣␣␣␣␣␣␣␣␣␣␣␣␣␣␣␣␣␣␣␣␣␣␣␣␣␣␣␣␣␣␣␣␣␣␣␣␣␣␣␣␣␣␣␣␣␣␣␣␣␣␣␣␣␣␣␣␣␣␣␣␣␣␣␣␣␣␣␣␣␣␣␣␣␣␣␣␣␣␣␣␣␣␣␣␣␣␣␣␣␣␣␣␣␣␣␣␣␣␣␣␣␣␣␣␣␣␣␣␣␣␣␣␣␣␣␣␣␣␣␣␣␣␣␣␣␣␣␣␣␣␣␣␣␣␣␣␣␣␣␣␣␣␣␣␣␣␣␣␣␣␣␣␣␣␣␣␣␣␣␣␣␣␣␣␣␣␣␣␣␣␣␣␣␣␣␣␣␣␣␣␣␣␣␣␣␣␣␣␣␣␣␣␣␣␣␣␣␣␣␣␣␣␣␣␣␣␣␣␣␣␣␣␣␣␣␣␣␣␣␣␣␣␣␣␣␣␣␣␣␣␣␣␣␣␣␣␣␣␣␣␣␣␣␣␣␣␣␣␣␣␣␣␣␣␣␣␣␣␣␣␣␣␣␣␣␣␣␣␣␣␣␣␣␣␣␣␣␣␣␣␣␣␣␣␣␣␣␣␣␣␣␣␣␣␣␣␣␣␣␣␣␣␣␣␣␣␣␣␣␣␣␣␣␣␣␣␣␣␣␣␣␣␣␣␣␣␣␣␣␣␣␣␣␣␣␣␣␣␣␣␣␣␣␣␣␣␣␣␣␣␣␣␣␣␣␣␣␣␣␣␣␣␣␣␣␣␣␣␣␣␣␣␣␣␣␣␣␣␣␣␣␣␣␣␣␣␣␣␣␣␣␣␣␣␣␣␣␣␣␣␣␣␣␣␣␣␣␣␣␣␣␣␣␣␣␣␣␣␣␣␣␣␣␣␣␣␣␣␣␣␣␣␣␣␣␣␣␣␣␣␣␣␣␣␣␣␣␣␣␣␣␣␣␣␣␣␣␣␣␣␣␣␣␣␣␣␣␣␣␣␣␣␣␣␣␣␣␣␣␣␣␣␣␣␣␣␣␣␣␣␣␣␣␣␣␣␣␣␣␣␣␣␣␣␣␣␣␣␣␣␣␣␣␣␣␣␣␣␣␣␣␣␣␣␣␣␣␣␣␣␣␣␣␣␣␣␣␣␣␣␣␣␣␣␣␣␣␣␣␣␣␣␣␣␣␣␣␣␣␣␣␣␣␣␣␣␣␣␣␣␣␣␣␣␣␣␣␣␣␣␣␣␣␣␣␣␣␣␣␣␣␣␣␣␣␣␣␣␣␣␣␣␣␣␣␣␣␣␣␣␣␣␣␣␣␣␣␣␣␣␣␣␣␣␣␣␣␣␣␣␣␣␣␣␣␣␣␣␣␣␣␣␣␣␣␣␣␣␣␣␣␣␣␣␣␣␣␣␣␣␣␣␣␣␣␣␣␣␣␣␣␣␣␣␣␣␣␣␣␣␣␣␣␣␣␣␣␣␣␣␣␣␣␣␣␣␣␣␣␣␣␣␣␣␣␣␣␣␣␣␣␣␣␣␣␣␣␣␣␣␣␣␣␣␣␣␣␣␣␣␣␣␣␣␣␣␣␣␣␣␣␣␣␣␣␣␣␣␣␣␣␣␣␣␣␣␣␣␣␣␣␣␣␣␣␣␣␣␣␣␣␣␣␣␣␣␣␣␣␣␣␣␣␣␣␣␣␣␣␣␣␣␣␣␣␣␣␣␣␣␣␣␣␣␣␣␣␣␣␣␣␣␣␣␣␣␣␣␣␣␣␣␣␣␣␣␣␣␣␣␣␣␣␣␣␣␣␣␣␣␣␣␣␣␣␣␣␣␣␣␣␣␣␣␣␣␣␣␣␣␣␣␣␣␣␣␣␣␣␣␣␣␣␣␣␣␣␣␣␣␣␣␣␣␣␣␣␣␣␣␣␣␣␣␣␣␣␣␣␣␣␣␣␣␣␣␣␣␣␣␣␣␣␣␣␣␣␣␣␣␣␣␣␣␣␣␣␣␣␣␣␣␣␣\n",
            "\n",
            "\n",
            "\n",
            "Attempt: \"A\" + 0.2\n",
            "-----------------------------------\n",
            "📗 A&K@g@çIy|;•n‚é◊u/ă␣␣1ïü␣␣␣␣␣␣␣␣␣␣␣␣␣␣␣␣␣␣␣␣␣␣␣␣␣␣␣␣␣␣␣␣␣␣␣␣␣␣␣␣␣␣␣␣␣␣␣␣␣␣␣␣␣␣␣␣␣␣␣␣␣␣␣␣␣␣␣␣␣␣␣␣␣␣␣␣␣␣␣␣␣␣␣␣␣␣␣␣␣␣␣␣␣␣␣␣␣␣␣␣␣␣␣␣␣␣␣␣␣␣␣␣␣␣␣␣␣␣␣␣␣␣␣␣␣␣␣␣␣␣␣␣␣␣␣␣␣␣␣␣␣␣␣␣␣␣␣␣␣␣␣␣␣␣␣␣␣␣␣␣␣␣␣␣␣␣␣␣␣␣␣␣␣␣␣␣␣␣␣␣␣␣␣␣␣␣␣␣␣␣␣␣␣␣␣␣␣␣␣␣␣␣␣␣␣␣␣␣␣␣␣␣␣␣␣␣␣␣␣␣␣␣␣␣␣␣␣␣␣␣␣␣␣␣␣␣␣␣␣␣␣␣␣␣␣␣␣␣␣␣␣␣␣␣␣␣␣␣␣␣␣␣␣␣␣␣␣␣␣␣␣␣␣␣␣␣␣␣␣␣␣␣␣␣␣␣␣␣␣␣␣␣␣␣␣␣␣␣␣␣␣␣␣␣␣␣␣␣␣␣␣␣␣␣␣␣␣␣␣␣␣␣␣␣␣␣␣␣␣␣␣␣␣␣␣␣␣␣␣␣␣␣␣␣␣␣␣␣␣␣␣␣␣␣␣␣␣␣␣␣␣␣␣␣␣␣␣␣␣␣␣␣␣␣␣␣␣␣␣␣␣␣␣␣␣␣␣␣␣␣␣␣␣␣␣␣␣␣␣␣␣␣␣␣␣␣␣␣␣␣␣␣␣␣␣␣␣␣␣␣␣␣␣␣␣␣␣␣␣␣␣␣␣␣␣␣␣␣␣␣␣␣␣␣␣␣␣␣␣␣␣␣␣␣␣␣␣␣␣␣␣␣␣␣␣␣␣␣␣␣␣␣␣␣␣␣␣␣␣␣␣␣␣␣␣␣␣␣␣␣␣␣␣␣␣␣␣␣␣␣␣␣␣␣␣␣␣␣␣␣␣␣␣␣␣␣␣␣␣␣␣␣␣␣␣␣␣␣␣␣␣␣␣␣␣␣␣␣␣␣␣␣␣␣␣␣␣␣␣␣␣␣␣␣␣␣␣␣␣␣␣␣␣␣␣␣␣␣␣␣␣␣␣␣␣␣␣␣␣␣␣␣␣␣␣␣␣␣␣␣␣␣␣␣␣␣␣␣␣␣␣␣␣␣␣␣␣␣␣␣␣␣␣␣␣␣␣␣␣␣␣␣␣␣␣␣␣␣␣␣␣␣␣␣␣␣␣␣␣␣␣␣␣␣␣␣␣␣␣␣␣␣␣␣␣␣␣␣␣␣␣␣␣␣␣␣␣␣␣␣␣␣␣␣␣␣␣␣␣␣␣␣␣␣␣␣␣␣␣␣␣␣␣␣␣␣␣␣␣␣␣␣␣␣␣␣␣␣␣␣␣␣␣␣␣␣␣␣␣␣␣␣␣␣␣␣␣␣␣␣␣␣␣␣␣␣␣␣␣␣␣␣␣␣␣␣␣␣␣␣␣␣␣␣␣␣␣␣␣␣␣␣␣␣␣␣␣␣␣␣␣␣␣␣␣␣␣␣␣␣␣␣␣␣␣␣␣␣␣␣␣␣␣␣␣␣␣␣␣␣␣␣␣␣␣␣␣␣␣␣␣␣␣␣␣␣␣␣␣␣␣␣␣␣␣␣␣␣␣␣␣␣␣␣␣␣␣␣␣␣␣␣␣␣␣␣␣␣␣␣␣␣␣␣␣␣␣␣␣␣␣␣␣␣␣␣␣␣␣␣␣␣␣␣␣␣␣␣␣␣␣␣␣␣␣␣␣␣␣␣␣␣␣␣␣␣␣␣␣␣␣␣␣␣␣␣␣␣␣␣␣␣␣␣␣␣␣␣␣␣␣␣␣␣␣␣␣␣␣␣␣␣␣␣␣␣␣␣␣␣␣␣␣␣␣␣␣␣␣␣␣␣␣␣␣␣␣␣␣␣␣␣␣␣␣␣␣␣␣␣␣␣␣␣␣␣␣\n",
            "\n",
            "\n",
            "\n",
            "Attempt: \"Z\" + 1.0\n",
            "-----------------------------------\n",
            "📗 ZIë+XWêơRX‒=çbSeRä–⅛▪I3§̀_¾f‒lëgs ‟R§D2␣b>b‚CPáç␣␣-␣␣␣␣␣␣E‧\"␣ ␣␣)␣␣vS␣␣ .␣½␣␣␣␣'l>␣␣␣␣Uh=‚ 3▪’ă(␣␣␣␣î␣4📝␣␣␣␣␣␣␣l␣␣“r␣Úc␣␣␣␣p␣␣␣␣”lú␣jå€␣␣␣␣␣\u001a␣P␣:␣␣␣␣�␣␣␣␣␣te␣{ô{–␣␣␣␣␣9D␣,ô␣␣␣␣b␣B3́r␣kó␣m␣␣a␣�␣‱␣z␣␣̀C␣␣␣␣␣dt📗␣␣␣␣a␣␣9␣Z␣]␣␣{␣␣␣␣␣␣€ó␣␣␣r␣␣‧␣␣–␣G�␣␣0vu␣␣␣⅛␣␣␣3Y‭í␣Aá5‧︎␣q␣[a␣␣⅛␣␣␣␣␣␣␣␣␣␣␣␣␣•␣V␣␣␣␣5␣␣ø␣␣␣📝/␣␣␣␣A ␣V␣␣ô<␣˚G‒␣␣\".␣␣␣u5␣␣␣\"3␣Dº␣k½␣⁄␣␣␣Z␣␣)␣␣�␣␣␣Éì␣ù˚U�ùu🥕,\u001aZ␣êk\"␣␣�📝␣␣␣📝␣␣␣îü␣+␣␣␣␣|ad—␣␣␣{␣◊b␣{D␣7␣␣␣␣:␣Qk⅓h:␣u?␣t␣␣␣␣‧␣½␣␣␣␣_r␣␣j␣␣p␣“␣␣␣T␣␣␣␣2␣␣.␣␣␣o¾É␣␣/␣,␣␣␣Z§␣˚␣␣)␣hì␣␣º␣␣␣1/É␣␣Á␣␣␣§␣␣␣é␣S␣␣␣ e␣3‚␣␣aìQ␣␣R␣[ăgkD␣␣␣␣xl␣␣ô␣“␣␣␣i4å␣4çe␣\u001aBZ␣␣-␣ ’␣␣␣␣kb␣J␣␣V{Kt␣Zkå␣␣ü­;␣ó␣⅛␣📝jn␣␣ôP␣␣r#m4␣t_␣t␣gtC␣␣␣␣\u001a␣␣fü␣␣G␣␣␣␣␣␣␣␣ì␣g␣e␣␣,␣h␣n=␣␣‧␣o␣␣␣␣␣n␣OB␣yjk[0␣⅛'␣ub␣␣␣m␣␣␣GKî␣ơ␣ë°cø␣␣␣␣]a´ø6␣␣␣␣m␣␣␣Â␣k␣␣8␣␣p␣␣Bt␣É~␣␣,␣␣␣ä␣␣␣␣F␣␣ìa␣␣␣␣␣␣Y‒K␣␣␣␣␣␣a␣nÚ␣l␣Éé␣w$␣␣␣×␣␣“$␣␣␣␣␣ ␣s␣L␣␣ø␣␣␣␣␣␣␣␣␣␣␣t⅓␣␣␣␣␣␣(␣␣␣˚␣📗I␣5–t␣e‟␣␣␣␣␣␣␣ê␣␣␣␣␣␣␣́úz␣␣◊␣␣␣i␣6ä˚0␣␣S␣F␣çj%r␣v.n␣␣␣Qh2v␣␣␣®v␣Á␣␣␣␣çi<k␣␣␣⅞␣␣␣tFPajvQei␣J␣+T␣␣␣U␣­␣␣␣ ␣␣␣ü␣5lR␣␣␣␣T⅛␣␣␣–␣,␣Ú◊␣ºîpïRă␣␣␣␣␣␣␣”␣␣\"ă␣ ␣5␣␣␣␣␣␣␣␣g␣␣␣␣␣␣t␣–c’␣␣␣lZa␣̀év␣c␣␣␣␣␣␣\n",
            "\n",
            "\n",
            "\n",
            "Attempt: \"Z\" + 0.8\n",
            "-----------------------------------\n",
            "📗 ZüYååèÉP[+&F/óº;5[\"ëu⁄;J Kqî)l™ j‭3␣F␣Á.␣␣␣␣␣␣␣␣␣␣␣=␣␣␣␣o␣␣␣␣␣␣␣␣␣␣␣␣␣␣␣␣3␣␣␣␣␣␣␣␣3␣␣␣␣␣␣␣␣␣␣™0␣␣␣␣␣␣␣j␣␣G␣␣␣␣e␣␣␣␣␣␣␣␣␣␣‚␣␣␣␣␣␣␣␣␣.␣␣␣␣␣␣␣␣␣␣␣␣␣␣␣␣e␣␣␣␣␣3MI␣␣Q␣␣␣␣␣§␣␣␣␣␣␣␣\n",
            "␣␣␣␣␣$␣␣§␣␣␣␣␣␣␣’␣t␣␣␣␣␣␣␣␣␣␣␣␣␣␣␣␣␣ä␣ ␣␣␣␣␣␣␣␣␣␣␣␣␣␣␣␣␣e␣␣␣␣␣␣␣␣␣␣␣␣␣␣␣␣␣␣␣␣␣␣␣␣␣␣␣␣␣␣␣␣␣␣␣ö␣␣␣w␣␣␣b␣␣\n",
            "p␣␣␣␣␣␣␣␣␣␣␣␣␣␣␣␣␣␣␣d␣C‟🥕␣␣␣␣␣␣␣␣␣␣␣␣␣␣␣␣�u␣␣␣␣e␣q␣2u␣␣␣␣an␣S#␣␣␣␣␣␣␣l␣␣␣␣j␣␣␣␣␣␣␣␣␣␣\u001a␣␣␣␣␣␣␣m␣␣␣b␣␣␣␣␣␣É␣␣␣␣␣␣␣t␣␣␣␣˚␣␣␣te␣g␣␣␣␣␣␣␣k␣␣␣␣␣␣␣␣␣␣␣␣␣␣␣␣␣(␣␣␣2␣␣␣a␣␣␣␣jv␣␣␣␣␣3␣␣␣␣␣␣(␣␣␣␣␣g␣r␣␣␣␣␣␣␣␣u\n",
            "vm␣␣␣␣␣␣␣␣␣␣␣␣␣␣␣␣␣,␣␣␣è␣␣␣ﬂ␣␣␣␣␣t\u001a␣␣␣b␣␣␣␣␣␣␣␣␣␣␣␣␣å␣␣␣␣␣␣␣␣␣␣␣␣␣␣␣␣␣␣␣␣␣f␣␣␣␣ç␣␣v␣␣␣␣␣␣T´Am␣␣␣␣ ︎e␣␣␣␣␣␣␣␣␣␣␣␣␣␣␣␣␣␣␣␣␣📗␣␣␣␣␣␣␣␣{␣␣␣📝␣␣␣␣␣␣␣␣␣␣␣␣␣␣␣␣␣␣␣␣␣␣i␣␣␣␣␣␣␣␣(␣e␣vd␣␣␣␣␣iÉ␣␣␣␣ô␣␣t␣␣␣␣␣–␣␣␣␣y␣␣␣␣␣␣␣␣␣⅞␣␣␣␣␣ă␣␣␣␣R␣e␣␣␣␣␣␣,␣␣␣␣␣␣t␣␣␣␣␣␣␣␣␣␣␣␣␣é␣␣␣ú␣␣␣E␣␣™␣␣␣␣␣␣N␣␣␣␣␣V␣␣␣␣␣🥕N␣t␣␣ó␣␣␣␣␣␣␣␣␣␣␣␣␣␣␣␣␣␣␣␣␣p,h␣␣␣␣␣␣␣␣␣␣ơî␣␣␣␣␣␣␣␣␣␣␣␣␣␣␣␣␣␣␣␣+␣␣␣␣︎␣␣␣␣␣û␣␣␣␣␣␣␣␣␣␣␣␣␣␣␣␣e␣␣␣␣␣␣␣␣␣␣␣␣␣␣␣`␣␣␣␣␣␣␣␣␣␣␣␣␣␣␣␣␣␣␣␣␣␣␣␣␣␣␣␣␣␣␣e␣␣␣␣␣␣½␣␣␣␣␣␣8␣␣␣m␣␣␣␣␣␣␣␣␣␣␣␣␣␣␣ù␣␣␣v␣␣␣␣␣é␣␣␣␣␣␣␣␣␣␣␣␣␣␣␣è␣⅛␣␣␣n␣␣␣␣␣␣␣␣␣’␣␣␣␣␣½␣␣␣␣␣␣␣␣␣8␣␣␣␣'␣”è␣␣)␣␣\n",
            "\n",
            "\n",
            "\n",
            "Attempt: \"Z\" + 0.4\n",
            "-----------------------------------\n",
            "📗 ZL⅛Z[;⁄s½}\n",
            "Măf=W\n",
            "🥕␣⅛ăìH⅓KZ␣ ␣␣␣␣␣␣␣␣␣␣␣␣␣␣␣␣␣␣␣␣␣␣␣␣␣␣␣␣␣␣␣␣␣␣␣␣␣␣␣␣␣␣␣␣␣␣␣␣␣␣␣␣␣␣␣␣␣␣␣␣␣␣␣␣␣␣␣␣␣␣␣␣␣␣␣␣␣␣␣␣␣␣␣␣␣␣␣␣␣␣␣␣␣␣␣␣␣␣␣␣␣␣␣␣␣␣␣␣␣␣␣␣␣␣␣␣␣␣␣␣␣␣␣␣␣␣␣␣␣␣␣␣␣␣␣␣␣␣␣␣␣␣␣␣␣␣␣␣␣␣␣␣␣␣␣␣␣␣␣␣␣␣␣␣␣␣␣␣␣␣␣␣␣␣␣␣␣␣␣␣␣␣␣␣␣␣␣␣␣␣␣␣␣␣␣␣␣␣␣␣␣␣␣␣␣␣␣␣␣␣␣␣␣␣␣␣␣␣␣␣␣␣␣␣␣␣␣␣␣␣␣␣␣␣␣␣␣␣␣␣␣␣␣␣␣␣␣␣␣␣␣␣␣␣␣␣␣␣␣␣␣␣␣␣␣␣␣␣␣␣␣␣␣␣␣␣␣␣␣␣␣␣␣␣␣␣␣␣␣␣␣␣␣␣␣␣␣␣␣␣␣␣␣␣␣␣␣␣␣␣␣␣␣␣␣␣␣␣␣␣␣␣␣␣␣␣␣␣␣␣␣␣␣␣␣␣␣␣␣␣␣␣␣␣␣␣␣␣␣␣␣␣␣␣␣␣␣␣␣␣␣␣␣␣␣␣␣␣␣␣␣␣␣␣␣␣␣␣␣␣␣␣␣␣␣␣␣␣␣␣␣␣␣␣␣␣␣␣␣␣␣␣␣␣␣␣␣␣␣␣␣␣␣␣␣␣␣␣␣␣␣␣␣␣␣␣␣␣␣␣␣␣␣␣␣␣␣␣␣␣␣␣␣␣␣␣␣␣␣␣␣␣␣␣␣␣␣␣␣␣␣␣␣␣␣␣␣␣␣␣␣␣␣␣␣␣␣␣␣␣␣␣␣␣␣␣␣␣␣␣␣␣␣␣␣␣␣␣␣␣␣␣␣␣␣␣␣␣␣␣␣␣␣␣␣␣␣␣␣␣␣␣␣␣␣␣␣␣␣␣␣␣␣␣␣␣␣␣␣␣␣␣␣␣␣␣␣␣␣␣␣␣␣␣␣␣␣␣␣␣␣␣␣␣␣␣␣␣␣␣␣␣␣␣␣␣␣␣␣␣␣␣␣␣␣␣␣␣␣␣␣␣␣␣␣␣␣␣␣␣␣␣␣␣␣␣␣␣␣␣␣␣␣␣␣␣␣␣␣␣␣␣␣␣␣␣␣␣␣␣␣␣␣␣␣␣␣␣␣␣␣␣␣␣␣␣␣␣␣␣␣␣␣␣␣␣␣␣␣␣␣c␣␣␣␣␣␣␣␣␣␣␣␣␣␣␣␣␣␣␣␣␣␣␣␣␣␣␣␣␣␣␣␣␣␣␣␣␣␣␣␣␣␣␣␣␣␣␣␣␣␣␣␣␣␣␣␣␣␣␣␣␣␣␣␣␣␣␣␣␣␣␣␣␣␣␣␣␣␣␣␣␣␣␣␣␣␣␣␣␣␣␣␣␣␣␣␣␣␣␣␣␣␣␣␣␣␣␣␣␣␣␣␣␣␣␣␣␣␣␣␣␣␣␣␣␣␣␣␣␣␣␣␣␣␣␣␣␣␣␣␣␣␣␣␣␣␣␣␣␣␣␣␣␣␣␣␣␣␣␣␣␣␣␣␣␣␣␣␣␣␣␣␣␣␣␣␣␣␣␣␣␣␣␣␣␣␣␣␣␣␣␣␣␣␣␣␣␣␣␣␣␣␣␣␣␣␣␣␣␣␣␣␣␣␣␣␣␣␣␣␣␣␣␣␣␣␣␣␣␣␣␣␣␣␣␣␣␣␣␣␣␣␣␣␣␣␣␣␣␣␣␣␣␣␣␣␣␣␣␣␣␣␣␣␣␣␣␣␣␣␣␣␣␣␣␣␣␣␣␣␣␣␣␣␣␣␣␣␣␣␣␣␣␣␣␣␣␣␣␣␣␣␣␣␣␣␣␣␣␣␣␣\n",
            "\n",
            "\n",
            "\n",
            "Attempt: \"Z\" + 0.2\n",
            "-----------------------------------\n",
            "📗 Z2D©×¤$fá📗¼Qr,ơ9‒3]óêEf␣␣␣␣␣␣␣␣␣␣␣␣␣␣␣␣␣␣␣␣␣␣␣␣␣␣␣␣␣␣␣␣␣␣␣␣␣␣␣␣␣␣␣␣␣␣␣␣␣␣␣␣␣␣␣␣␣␣␣␣␣␣␣␣␣␣␣␣␣␣␣␣␣␣␣␣␣␣␣␣␣␣␣␣␣␣␣␣␣␣␣␣␣␣␣␣␣␣␣␣␣␣␣␣␣␣␣␣␣␣␣␣␣␣␣␣␣␣␣␣␣␣␣␣␣␣␣␣␣␣␣␣␣␣␣␣␣␣␣␣␣␣␣␣␣␣␣␣␣␣␣␣␣␣␣␣␣␣␣␣␣␣␣␣␣␣␣␣␣␣␣␣␣␣␣␣␣␣␣␣␣␣␣␣␣␣␣␣␣␣␣␣␣␣␣␣␣␣␣␣␣␣␣␣␣␣␣␣␣␣␣␣␣␣␣␣␣␣␣␣␣␣␣␣␣␣␣␣␣␣␣␣␣␣␣␣␣␣␣␣␣␣␣␣␣␣␣␣␣␣␣␣␣␣␣␣␣␣␣␣␣␣␣␣␣␣␣␣␣␣␣␣␣␣␣␣␣␣␣␣␣␣␣␣␣␣␣␣␣␣␣␣␣␣␣␣␣␣␣␣␣␣␣␣␣␣␣␣␣␣␣␣␣␣␣␣␣␣␣␣␣␣␣␣␣␣␣␣␣␣␣␣␣␣␣␣␣␣␣␣␣␣␣␣␣␣␣␣␣␣␣␣␣␣␣␣␣␣␣␣␣␣␣␣␣␣␣␣␣␣␣␣␣␣␣␣␣␣␣␣␣␣␣␣␣␣␣␣␣␣␣␣␣␣␣␣␣␣␣␣␣␣␣␣␣␣␣␣␣␣␣␣␣␣␣␣␣␣␣␣␣␣␣␣␣␣␣␣␣␣␣␣␣␣␣␣␣␣␣␣␣␣␣␣␣␣␣␣␣␣␣␣␣␣␣␣␣␣␣␣␣␣␣␣␣␣␣␣␣␣␣␣␣␣␣␣␣␣␣␣␣␣␣␣␣␣␣␣␣␣␣␣␣␣␣␣␣␣␣␣␣␣␣␣␣␣␣␣␣␣␣␣␣␣␣␣␣␣␣␣␣␣␣␣␣␣␣␣␣␣␣␣␣␣␣␣␣␣␣␣␣␣␣␣␣␣␣␣␣␣␣␣␣␣␣␣␣␣␣␣␣␣␣␣␣␣␣␣␣␣␣␣␣␣␣␣␣␣␣␣␣␣␣␣␣␣␣␣␣␣␣␣␣␣␣␣␣␣␣␣␣␣␣␣␣␣␣␣␣␣␣␣␣␣␣␣␣␣␣␣␣␣␣␣␣␣␣␣␣␣␣␣␣␣␣␣␣␣␣␣␣␣␣␣␣␣␣␣␣␣␣␣␣␣␣␣␣␣␣␣␣␣␣␣␣␣␣␣␣␣␣␣␣␣␣␣␣␣␣␣␣␣␣␣␣␣␣␣␣␣␣␣␣␣␣␣␣␣␣␣␣␣␣␣␣␣␣␣␣␣␣␣␣␣␣␣␣␣␣␣␣␣␣␣␣␣␣␣␣␣␣␣␣␣␣␣␣␣␣␣␣␣␣␣␣␣␣␣␣␣␣␣␣␣␣␣␣␣␣␣␣␣␣␣␣␣␣␣␣␣␣␣␣␣␣␣␣␣␣␣␣␣␣␣␣␣␣␣␣␣␣␣␣␣␣␣␣␣␣␣␣␣␣␣␣␣␣␣␣␣␣␣␣␣␣␣␣␣␣␣␣␣␣␣␣␣␣␣␣␣␣␣␣␣␣␣␣␣␣␣␣␣␣␣␣␣␣␣␣␣␣␣␣␣␣␣␣␣␣␣␣␣␣␣␣␣␣␣␣␣␣␣␣␣␣␣␣␣␣␣␣␣␣␣␣␣␣␣␣␣␣␣␣␣␣␣␣␣␣␣␣␣␣␣␣␣␣␣␣␣␣␣␣␣␣␣␣␣␣␣␣␣␣␣␣␣␣␣␣␣␣␣␣␣␣␣␣␣␣␣␣␣␣␣␣␣␣␣␣␣␣␣␣␣␣␣␣␣␣␣␣␣␣␣␣␣␣␣␣␣␣␣␣␣␣␣␣\n",
            "\n",
            "\n",
            "\n",
            "Attempt: \"Ulvachaaru\" + 1.0\n",
            "-----------------------------------\n",
            "📗 Ulvachaaruu\\ln´ n)0ì“📗û´ơ▪📗I[•%•)—•mgăb␣␣rN␣`␣␣␣I␣␣”€{üï,Ú␣␣␣␣;G␣␣␣®␣␣␣␣␣*‚␣␣␣i␣P5–<␣áÁ‟r␣ç␣␣␣\"»␣␣␣␣␣␣ g}9␣␣vn␣␣␣␣␣␣␣␣1␣;␣R␣␣␣␣␣␣¾␣4|␣ ␣Q︎␣␣␣␣␣Ru␣QI␣␣t␣,ø␣>3'▪␣áJ,␣,1␣e(␣ ␣␣#␣␣‭␣␣€ít;␣␣␣W␣ ␣m␣␣␣␣␣␣␣␣Y␣t␣U␣g×␣␣␣␣‱#q␣␣␣o␣␣2␣␣m␣sB©␣wx␣␣␣◊ó␣¿‧␣␣␣l‒~␣g␣c␣,␣␣nQ(␣␣ Dv␣␣%_j␣ơ\n",
            "êE\\‒‒/a␣␣␣␣␣x␣␣⅓Ú␣p5␣ơ␣S2␣␣­d␣␣ ␣/␣␣\"ÉoçÁ␣ü␣␣␣v␣␣n␣␣␣ítH␣)␣␣␣␣j␣␣qG␣␣R␣␣ì␣␣␣␣3␣␣+E␣␣␣N␣␣␣␣␣É␣␣␣␣␣l␣É␣␣␣B(␣␣␣␣␣␣fPP␣␣␣␣␣nä␣␣␣z␣⅛Ú␣␣␣à␣?9Y␣␣Ú␣␣␣␣␣␣␣␣␣␣‚␣½␣+•m␣🥕␣␣␣kgäE␣📝ê'␣I ␣qf e¾M␣ưE␣␣␣␣␣␣␣␣␣␣Døh ␣␣Q␣␣␣e␣␣,␣U␣ê␣␣\n",
            "6␣y’␣␣␣␣ô␣␣␣␣␣>␣␣d␣Mk<BjP␣f␣RG␣␣␣ì␣␣6-␣␣␣\u001a␣␣®;␣␣⅛⁄␣␣e␣␣␣©␣+␣ø␣␣P\n",
            "␣␣½␣␣␣␣␣␣␣␣j␣␣<Cî␣␣␣E␣␣çl␣␣␣␣␣0␣ç%\u001aÂg␣␣E␣Q␣␣␣øu␣oJ␣␣™ê‒␣¤J␣ì␣‱␣␣␣␣␣␣'␣K␣␣␣c␣␣␣␣␣␣␣E␣␣␣␣ô␣␣h␣␣ä␣␣␣la␣ig␣␣␣°u␣Q␣n\u001a␣ q␣␣ï␣␣j␣␣␣␣␣tU␣␣¿␣␣⅓(`M½␣Y‭␣␣␣␣␣␣␣␣SE␣␣␣␣�¤ơ␣␣␣␣␣␣␣␣␣␣c‒␣e‟␣␣📗␣◊ ␣◊⅓␣␣\n",
            "␣␣␣çK␣#␣␣A ␣~•␣␣␣␣e␣␣(␣̀h1brN␣s?f�␣␣␣o␣␣␣␣␣ă␣␣␣␣øFqr␣␣ùº¤7␣␣␣␣y␣”�fQ␣v␣␣␣␣ ␣␣␣␣t‒j␣o␣î”tJ␣ﬂ␣␣␣2␣␣␣.␣␣ơ␣␣␣␣e📝⅓ü␣␣␣␣␣ G␣␣°␣qîC␣␣␣␣ar␣␣␣␣␣–␣␣n␣2␣␣)␣␣␣␣␣␣␣␣o␣!î␣␣␣)k␣␣␣A␣␣␣␣␣a␣üe␣␣␣ ␣␣␣␣␣␣␣␣␣␣}(␣␣[␣b␣Há␣E␣␣📝J⅓␣␣ü␣␣ê␣61␣␣␣␣␣6␣␣␣€5␣␣‱␣pÉ📝ììXQ]␣␣␣␣Q␣␣␣␣i‟éV=ù␣êx•␣␣␣␣Rs␣␣␣,␣—\n",
            "\n",
            "\n",
            "\n",
            "Attempt: \"Ulvachaaru\" + 0.8\n",
            "-----------------------------------\n",
            "📗 Ulvachaaru(—âOă,uê_zưJZ*B␣̀ø␣␣×#5␣␣␣É␣́␣␣␣␣;␣␣␣␣á␣h5␣l␣␣␣␣␣␣␣␣?␣␣␣␣␣␣␣␣␣␣␣␣‟␣␣␣␣ê␣␣␣␣␣␣␣ø␣␣␣␣␣4␣␣p␣␣␣3e␣␣␣␣␣␣␣␣␣␣␣␣␣␣␣␣␣␣␣␣␣␣␣␣␣␣␣␣5␣s␣␣␣w␣ ␣␣␣␣␣•␣␣␣B␣␣␣␣␣␣␣␣␣␣0k␣␣␣␣Nb␣␣␣␣␣␣␣␣␣␣g␣ø␣␣␣␣␣␣␣»␣␣␣␣0␣␣r␣␣␣␣␣␣␣␣␣␣␣␣␣␣␣␣␣°␣␣␣␣␣␣␣T␣␣␣␣␣␣␣s␣␣n␣␣␣␣␣␣␣␣␣'␣v␣d`␣‒#␣␣␣␣␣␣␣␣g␣␣␣␣␣ç␣◊␣_␣␣␣␣␣•␣␣␣␣t◊␣␣␣📗␣␣🥕␣␣t␣␣␣␣␣␣␣␣␣␣␣␣␣␣␣r␣␣e␣␣\"␣␣e␣␣␣␣␣␣E␣␣␣␣⁄␣␣␣|␣␣␣␣␣»␣␣␣␣␣‭␣F␣📗9␣‚␣~*e␣📝␣␣␣␣␣␣␣␣␣␣␣␣␣␣␣␣␣␣␣␣•␣␣␣␣␣␣␣␣␣␣␣␣🥕␣î␣␣␣␣␣␣␣␣␣␣␣␣␣␣•␣␣␣j␣␣␣␣␣␣␣␣␣␣␣␣t␣␣␣␣␣␣␣␣⅓␣␣␣␣␣␣␣␣␣␣\u001ad␣g␣␣␣ư␣4␣␣␣␣␣‚f␣␣O␣␣␣␣␣␣␣␣␣␣␣␣0␣␣␣g␣␣g␣␣␣␣␣fe␣␣␣␣␣␣~␣␣␣␣␣␣␣,␣␣␣␣␣␣‟G␣␣c␣␣␣␣J␣␣␣␣␣;␣␣+␣␣␣␣y␣␣␣␣␣␣␣␣ o␣␣␣␣␣␣;␣␣␣␣␣␣␣␣␣␣␣␣’␣␣␣␣␣␣␣␣␣␣␣␣␣F␣␣␣␣␣␣␣p␣F␣␣␣␣␣CB␣␣␣␣€␣␣␣␣␣␣␣␣␣␣␣␣␣␣␣␣︎␣␣␣̀‚␣␣␣␣␣📗�␣␣␣␣␣␣␣␣c␣␣␣0␣␣;␣␣␣␣␣␣␣␣␣␣␣␣d␣␣␣␣␣␣␣␣m␣␣␣å␣␣c␣␣␣␣␣␣␣␣␣␣r␣B␣â␣␣␣␣\\g␣␣␣␣␣´T␣{␣␣å␣t␣␣v@␣␣␣*␣␣␣␣L␣␣␣␣␣␣␣åj?␣␣␣␣␣␣␣ü␣%␣␣l␣␣t␣␣␣␣␣␣e␣␣␣␣␣␣␣␣␣e␣§␣␣␣␣␣␣␣␣•␣␣␣␣␣␣␣m␣ä␣␣␣V␣␣␣␣␣␣␣␣ø␣␣␣␣␣␣␣␣␣␣␣␣␣␣␣t␣P␣␣␣␣␣␣␣␣[V␣␣␣␣␣␣␣◊␣␣␣␣␣␣␣␣␣a␣␣␣␣◊␣␣␣␣ t␣␣␣␣␣␣␣␣␣␣ø␣␣␣␣␣l␣␣␣␣␣t␣'␣␣␣␣␣␣␣␣␣␣␣␣␣␣␣␣␣â␣␣␣␣␣␣␣™␣F␣␣␣␣␣␣␣␣␣␣␣␣␣␣␣␣␣␣d␣␣␣␣␣␣␣␣␣␣␣␣␣␣ü␣␣␣␣␣␣␣␣␣␣␣␣␣␣␣o!ﬂ␣␣␣␣␣␣␣␣ü␣␣␣␣␣␣␣␣␣␣␣␣␣̀␣␣␣␣␣␣␣␣t␣␣␣␣␣␣␣{␣␣␣\n",
            "\n",
            "\n",
            "\n",
            "Attempt: \"Ulvachaaru\" + 0.4\n",
            "-----------------------------------\n",
            "📗 UlvachaaruûBNÉ,LLtMex_ QYQ␣␣␣r␣␣␣␣␣␣␣␣␣␣␣␣␣␣␣␣␣␣␣␣␣␣␣␣␣␣␣␣␣␣␣␣␣␣␣␣␣␣␣␣␣␣␣␣␣␣␣␣␣␣␣␣␣␣␣␣␣␣␣␣␣␣␣␣␣␣␣␣␣␣␣␣␣␣␣␣␣␣␣␣␣␣␣␣␣␣␣␣␣␣␣␣␣␣␣␣␣␣␣␣␣␣␣␣␣␣␣␣␣␣␣␣␣␣␣␣␣␣␣␣␣␣␣␣␣␣␣␣␣␣␣␣␣␣␣␣␣␣␣␣␣␣␣␣␣␣␣␣␣␣␣␣␣␣␣␣␣␣␣␣␣␣␣␣␣␣␣␣␣␣␣␣␣␣␣␣␣␣␣␣␣␣␣␣␣␣␣␣␣␣␣␣␣␣␣␣␣␣␣␣␣␣␣␣␣␣␣␣␣␣␣␣␣␣␣␣␣␣␣␣␣␣␣␣␣␣␣␣␣␣␣␣␣␣␣␣␣␣␣␣␣␣␣␣␣␣␣␣␣␣␣␣␣␣␣␣␣␣␣␣␣␣␣␣␣␣␣␣␣␣␣␣␣␣␣␣␣␣␣␣␣␣␣␣␣␣␣␣␣␣␣␣␣␣␣␣␣␣␣␣␣␣␣␣␣␣␣␣␣␣␣␣␣␣␣␣␣␣␣␣␣␣␣␣␣␣␣␣␣␣␣␣␣␣␣␣␣␣␣␣␣␣␣␣␣␣␣␣␣␣␣␣␣␣␣␣␣␣␣␣␣␣␣␣␣␣␣␣␣␣␣␣␣␣␣␣␣␣␣␣␣␣␣␣␣␣␣␣␣␣␣␣␣␣␣␣␣␣␣␣␣␣␣␣␣␣␣␣␣␣␣␣␣␣␣␣␣␣␣␣␣␣␣␣␣␣␣␣␣␣␣␣␣␣␣␣␣␣␣␣␣␣␣␣␣␣␣␣␣␣␣␣␣␣␣␣␣␣␣␣␣␣␣␣␣␣␣␣␣␣␣␣␣␣␣␣␣␣␣␣␣␣␣␣␣␣␣␣␣␣␣␣␣␣␣␣␣␣␣␣␣␣␣␣␣␣␣␣␣␣␣␣␣␣␣␣␣␣␣␣␣␣␣␣␣␣␣␣␣␣␣␣␣␣␣␣␣␣␣␣␣␣␣␣␣␣␣␣␣␣␣␣␣␣␣␣␣␣␣␣␣␣␣␣␣␣␣␣␣␣␣␣␣␣␣␣␣␣␣␣␣␣␣␣␣␣␣␣␣␣␣␣␣␣␣␣␣␣␣␣␣␣␣␣␣␣␣␣␣␣␣␣␣␣␣␣␣␣␣␣␣␣␣␣␣␣␣␣␣␣␣␣␣␣␣␣␣␣␣␣␣␣␣␣␣␣␣␣␣␣␣␣␣␣␣␣␣␣␣␣␣␣␣␣␣␣␣␣␣␣␣␣␣␣␣␣␣␣␣␣␣␣␣␣␣␣␣␣␣␣␣␣␣␣␣␣␣␣␣␣␣␣␣␣␣␣␣␣␣␣␣␣␣␣␣␣␣␣␣␣␣␣␣␣␣␣␣␣␣␣␣␣␣␣␣␣␣␣␣␣␣␣␣␣␣␣␣␣␣␣␣␣␣␣␣␣␣␣␣␣␣␣␣␣␣␣␣␣␣␣␣␣␣␣␣␣␣␣␣␣␣␣␣␣␣␣␣␣␣␣␣␣␣␣␣␣␣␣␣␣␣␣␣␣␣␣␣␣␣␣␣␣␣␣␣␣␣␣␣␣␣␣␣␣␣␣␣␣␣␣␣␣␣␣␣␣␣␣␣␣␣␣␣␣␣␣␣␣␣␣␣␣␣␣␣␣␣␣␣␣␣␣␣␣␣␣␣␣␣␣␣␣␣␣␣␣␣␣␣␣␣␣␣␣␣␣␣␣␣␣␣␣␣␣␣␣␣␣␣␣␣␣␣␣␣␣␣␣␣␣␣␣␣␣␣␣␣␣␣␣␣␣␣␣␣␣␣␣␣␣␣␣␣␣␣␣␣␣␣␣␣␣␣␣␣␣␣␣␣␣␣␣␣␣␣␣␣␣␣␣␣␣␣␣␣␣␣␣␣␣␣␣␣␣␣␣␣␣␣␣\n",
            "\n",
            "\n",
            "\n",
            "Attempt: \"Ulvachaaru\" + 0.2\n",
            "-----------------------------------\n",
            "📗 Ulvachaaru»;␣␣␣j␣␣␣␣␣␣␣␣␣␣␣␣␣␣␣␣␣␣␣␣␣␣␣␣␣␣␣␣␣␣␣␣␣␣␣␣␣␣␣␣␣␣␣␣␣␣␣␣␣␣␣␣␣␣␣␣␣␣␣␣␣␣␣␣␣␣␣␣␣␣␣␣␣␣␣␣␣␣␣␣␣␣␣␣␣␣␣␣␣␣␣␣␣␣␣␣␣␣␣␣␣␣␣␣␣␣␣␣␣␣␣␣␣␣␣␣␣␣␣␣␣␣␣␣␣␣␣␣␣␣␣␣␣␣␣␣␣␣␣␣␣␣␣␣␣␣␣␣␣␣␣␣␣␣␣␣␣␣␣␣␣␣␣␣␣␣␣␣␣␣␣␣␣␣␣␣␣␣␣␣␣␣␣␣␣␣␣␣␣␣␣␣␣␣␣␣␣␣␣␣␣␣␣␣␣␣␣␣␣␣␣␣␣␣␣␣␣␣␣␣␣␣␣␣␣␣␣␣␣␣␣␣␣␣␣␣␣␣␣␣␣␣␣␣␣␣␣␣␣␣␣␣␣␣␣␣␣␣␣␣␣␣␣␣␣␣␣␣␣␣␣␣␣␣␣␣␣␣␣␣␣␣␣␣␣␣␣␣␣␣␣␣␣␣␣␣␣␣␣␣␣␣␣␣␣␣␣␣␣␣␣␣␣␣␣␣␣␣␣␣␣␣␣␣␣␣␣␣␣␣␣␣␣␣␣␣␣␣␣␣␣␣␣␣␣␣␣␣␣␣␣␣␣␣␣␣␣␣␣␣␣␣␣␣␣␣␣␣␣␣␣␣␣␣␣␣␣␣␣␣␣␣␣␣␣␣␣␣␣␣␣␣␣␣␣␣␣␣␣␣␣␣␣␣␣␣␣␣␣␣␣␣␣␣␣␣␣␣␣␣␣␣␣␣␣␣␣␣␣␣␣␣␣␣␣␣␣␣␣␣␣␣␣␣␣␣␣␣␣␣␣␣␣␣␣␣␣␣␣␣␣␣␣␣␣␣␣␣␣␣␣␣␣␣␣␣␣␣␣␣␣␣␣␣␣␣␣␣␣␣␣␣␣␣␣␣␣␣␣␣␣␣␣␣␣␣␣␣␣␣␣␣␣␣␣␣␣␣␣␣␣␣␣␣␣␣␣␣␣␣␣␣␣␣␣␣␣␣␣␣␣␣␣␣␣␣␣␣␣␣␣␣␣␣␣␣␣␣␣␣␣␣␣␣␣␣␣␣␣␣␣␣␣␣␣␣␣␣␣␣␣␣␣␣␣␣␣␣␣␣␣␣␣␣␣␣␣␣␣␣␣␣␣␣␣␣␣␣␣␣␣␣␣␣␣␣␣␣␣␣␣␣␣␣␣␣␣␣␣␣␣␣␣␣␣␣␣␣␣␣␣␣␣␣␣␣␣␣␣␣␣␣␣␣␣␣␣␣␣␣␣␣␣␣␣␣␣␣␣␣␣␣␣␣␣␣␣␣␣␣␣␣␣␣␣␣␣␣␣␣␣␣␣␣␣␣␣␣␣␣␣␣␣␣␣␣␣␣␣␣␣␣␣␣␣␣␣␣␣␣␣␣␣␣␣␣␣␣␣␣␣␣␣␣␣␣␣␣␣␣␣␣␣␣␣␣␣␣␣␣␣␣␣␣␣␣␣␣␣␣␣␣␣␣␣␣␣␣␣␣␣␣␣␣␣␣␣␣␣␣␣␣␣␣␣␣␣␣␣␣␣␣␣␣␣␣␣␣␣␣␣␣␣␣␣␣␣␣␣␣␣␣␣␣␣␣␣␣␣␣␣␣␣␣␣␣␣␣␣␣␣␣␣␣␣␣␣␣␣␣␣␣␣␣␣␣␣␣␣␣␣␣␣␣␣␣␣␣␣␣␣␣␣␣␣␣␣␣␣␣␣␣␣␣␣␣␣␣␣␣␣␣␣␣␣␣␣␣␣␣␣␣␣␣␣␣␣␣␣␣␣␣␣␣␣␣␣␣␣␣␣␣␣␣␣␣␣␣␣␣␣␣␣␣␣␣␣␣␣␣␣␣␣␣␣␣␣␣␣␣␣␣␣␣␣␣␣␣␣␣␣␣␣␣␣␣␣␣␣␣␣␣␣␣␣␣␣␣␣␣␣␣␣␣␣␣␣␣␣␣␣␣␣␣␣␣␣␣␣␣␣␣␣␣\n",
            "\n",
            "\n",
            "\n"
          ],
          "name": "stdout"
        }
      ]
    },
    {
      "cell_type": "markdown",
      "metadata": {
        "id": "bzKG7hu6zoC3"
      },
      "source": [
        "## Save the model"
      ]
    },
    {
      "cell_type": "code",
      "metadata": {
        "colab": {
          "base_uri": "https://localhost:8080/"
        },
        "id": "5FUBBTv8zoC3",
        "outputId": "5a2b1396-274f-4429-9039-0e346db26fe1"
      },
      "source": [
        "model_name = 'recipe_generation_rnn.h5'\n",
        "model_1_simplified.save(model_name, save_format='h5')"
      ],
      "execution_count": 99,
      "outputs": [
        {
          "output_type": "stream",
          "text": [
            "WARNING:tensorflow:Compiled the loaded model, but the compiled metrics have yet to be built. `model.compile_metrics` will be empty until you train or evaluate the model.\n"
          ],
          "name": "stdout"
        }
      ]
    },
    {
      "cell_type": "markdown",
      "metadata": {
        "id": "SwXRR8FJzoC5"
      },
      "source": [
        "## Converting the model to web-format\n",
        "\n",
        "To use this model on the web we need to convert it into the format that will be understandable by [tensorflowjs](https://www.tensorflow.org/js). To do so we may use [tfjs-converter](https://github.com/tensorflow/tfjs/tree/master/tfjs-converter) as following:\n",
        "\n",
        "```\n",
        "tensorflowjs_converter --input_format keras \\\n",
        "  ./experiments/recipe_generation_rnn/recipe_generation_rnn.h5 \\\n",
        "  ./demos/public/models/recipe_generation_rnn\n",
        "```\n",
        "\n",
        "You find this experiment in the [Demo app](https://trekhleb.github.io/machine-learning-experiments) and play around with it right in you browser to see how the model performs in real life."
      ]
    }
  ]
}